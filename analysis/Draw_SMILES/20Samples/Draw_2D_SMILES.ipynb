{
 "cells": [
  {
   "cell_type": "code",
   "execution_count": 1,
   "metadata": {},
   "outputs": [
    {
     "name": "stdout",
     "output_type": "stream",
     "text": [
      "libraries were imported\n"
     ]
    }
   ],
   "source": [
    "# %%\n",
    "from rdkit import Chem as chem\n",
    "from rdkit.Chem import AllChem\n",
    "from rdkit.Chem import Draw\n",
    "import numpy as np\n",
    "import pandas as pd\n",
    "import matplotlib.pyplot as plt\n",
    "print ('libraries were imported')\n",
    "\n",
    "from rdkit.Chem import rdMolHash"
   ]
  },
  {
   "cell_type": "code",
   "execution_count": 2,
   "metadata": {},
   "outputs": [
    {
     "name": "stdout",
     "output_type": "stream",
     "text": [
      "0\n"
     ]
    }
   ],
   "source": [
    "from rdkit import Chem\n",
    "\n",
    "def calculate_conjugation_level(smiles):\n",
    "    # Load molecule from SMILES\n",
    "    mol = Chem.MolFromSmiles(smiles)\n",
    "    \n",
    "    # Calculate conjugation level\n",
    "    conjugated_bonds = Chem.FindMolChiralCenters(mol, includeUnassigned=True)\n",
    "    \n",
    "    return len(conjugated_bonds)\n",
    "\n",
    "# Example usage\n",
    "molecule_smiles = \"CC=CC=CC\"\n",
    "\n",
    "conjugation_level = calculate_conjugation_level(molecule_smiles)\n",
    "\n",
    "print (conjugation_level)"
   ]
  },
  {
   "cell_type": "code",
   "execution_count": 3,
   "metadata": {},
   "outputs": [
    {
     "ename": "NameError",
     "evalue": "name 'mol' is not defined",
     "output_type": "error",
     "traceback": [
      "\u001b[0;31m---------------------------------------------------------------------------\u001b[0m",
      "\u001b[0;31mNameError\u001b[0m                                 Traceback (most recent call last)",
      "Cell \u001b[0;32mIn[3], line 1\u001b[0m\n\u001b[0;32m----> 1\u001b[0m \u001b[39mprint\u001b[39m (chem\u001b[39m.\u001b[39mrdmolops\u001b[39m.\u001b[39mSetConjugation(mol))\n",
      "\u001b[0;31mNameError\u001b[0m: name 'mol' is not defined"
     ]
    }
   ],
   "source": [
    "print (chem.rdmolops.SetConjugation(mol))"
   ]
  },
  {
   "cell_type": "code",
   "execution_count": 4,
   "metadata": {},
   "outputs": [
    {
     "name": "stdout",
     "output_type": "stream",
     "text": [
      "1\n"
     ]
    },
    {
     "data": {
      "image/svg+xml": [
       "<svg xmlns=\"http://www.w3.org/2000/svg\" xmlns:rdkit=\"http://www.rdkit.org/xml\" xmlns:xlink=\"http://www.w3.org/1999/xlink\" version=\"1.1\" baseProfile=\"full\" xml:space=\"preserve\" width=\"750px\" height=\"150px\" viewBox=\"0 0 750 150\">\n",
       "<!-- END OF HEADER -->\n",
       "<rect style=\"opacity:1.0;fill:#FFFFFF;stroke:none\" width=\"750.0\" height=\"150.0\" x=\"0.0\" y=\"0.0\"> </rect>\n",
       "<path class=\"bond-0 atom-0 atom-1\" d=\"M 6.8,68.2 L 21.2,79.8\" style=\"fill:none;fill-rule:evenodd;stroke:#000000;stroke-width:2.0px;stroke-linecap:butt;stroke-linejoin:miter;stroke-opacity:1\"/>\n",
       "<path class=\"bond-1 atom-1 atom-2\" d=\"M 21.2,79.8 L 38.5,73.1\" style=\"fill:none;fill-rule:evenodd;stroke:#000000;stroke-width:2.0px;stroke-linecap:butt;stroke-linejoin:miter;stroke-opacity:1\"/>\n",
       "<path class=\"bond-1 atom-1 atom-2\" d=\"M 21.7,76.6 L 37.5,70.6\" style=\"fill:none;fill-rule:evenodd;stroke:#000000;stroke-width:2.0px;stroke-linecap:butt;stroke-linejoin:miter;stroke-opacity:1\"/>\n",
       "<path class=\"bond-2 atom-2 atom-3\" d=\"M 38.5,73.1 L 53.0,84.8\" style=\"fill:none;fill-rule:evenodd;stroke:#000000;stroke-width:2.0px;stroke-linecap:butt;stroke-linejoin:miter;stroke-opacity:1\"/>\n",
       "<path class=\"bond-3 atom-3 atom-4\" d=\"M 53.0,84.8 L 70.3,78.1\" style=\"fill:none;fill-rule:evenodd;stroke:#000000;stroke-width:2.0px;stroke-linecap:butt;stroke-linejoin:miter;stroke-opacity:1\"/>\n",
       "<path class=\"bond-3 atom-3 atom-4\" d=\"M 53.5,81.6 L 69.2,75.5\" style=\"fill:none;fill-rule:evenodd;stroke:#000000;stroke-width:2.0px;stroke-linecap:butt;stroke-linejoin:miter;stroke-opacity:1\"/>\n",
       "<path class=\"bond-4 atom-4 atom-5\" d=\"M 70.3,78.1 L 84.7,89.7\" style=\"fill:none;fill-rule:evenodd;stroke:#000000;stroke-width:2.0px;stroke-linecap:butt;stroke-linejoin:miter;stroke-opacity:1\"/>\n",
       "<path class=\"bond-5 atom-5 atom-6\" d=\"M 84.7,89.7 L 102.0,83.1\" style=\"fill:none;fill-rule:evenodd;stroke:#000000;stroke-width:2.0px;stroke-linecap:butt;stroke-linejoin:miter;stroke-opacity:1\"/>\n",
       "<path class=\"bond-5 atom-5 atom-6\" d=\"M 85.2,86.6 L 99.3,81.1\" style=\"fill:none;fill-rule:evenodd;stroke:#000000;stroke-width:2.0px;stroke-linecap:butt;stroke-linejoin:miter;stroke-opacity:1\"/>\n",
       "<path class=\"bond-6 atom-6 atom-7\" d=\"M 102.0,83.1 L 115.5,95.8\" style=\"fill:none;fill-rule:evenodd;stroke:#000000;stroke-width:2.0px;stroke-linecap:butt;stroke-linejoin:miter;stroke-opacity:1\"/>\n",
       "<path class=\"bond-7 atom-7 atom-8\" d=\"M 115.5,95.8 L 133.8,93.1\" style=\"fill:none;fill-rule:evenodd;stroke:#000000;stroke-width:2.0px;stroke-linecap:butt;stroke-linejoin:miter;stroke-opacity:1\"/>\n",
       "<path class=\"bond-7 atom-7 atom-8\" d=\"M 116.4,92.8 L 132.1,90.5\" style=\"fill:none;fill-rule:evenodd;stroke:#000000;stroke-width:2.0px;stroke-linecap:butt;stroke-linejoin:miter;stroke-opacity:1\"/>\n",
       "<path class=\"bond-8 atom-8 atom-9\" d=\"M 133.8,93.1 L 143.2,77.1\" style=\"fill:none;fill-rule:evenodd;stroke:#000000;stroke-width:2.0px;stroke-linecap:butt;stroke-linejoin:miter;stroke-opacity:1\"/>\n",
       "<path class=\"bond-9 atom-9 atom-10\" d=\"M 143.2,77.1 L 136.5,59.8\" style=\"fill:none;fill-rule:evenodd;stroke:#000000;stroke-width:2.0px;stroke-linecap:butt;stroke-linejoin:miter;stroke-opacity:1\"/>\n",
       "<path class=\"bond-9 atom-9 atom-10\" d=\"M 140.1,76.8 L 134.4,62.1\" style=\"fill:none;fill-rule:evenodd;stroke:#000000;stroke-width:2.0px;stroke-linecap:butt;stroke-linejoin:miter;stroke-opacity:1\"/>\n",
       "<path class=\"bond-10 atom-10 atom-11\" d=\"M 136.5,59.8 L 118.8,54.2\" style=\"fill:none;fill-rule:evenodd;stroke:#000000;stroke-width:2.0px;stroke-linecap:butt;stroke-linejoin:miter;stroke-opacity:1\"/>\n",
       "<path class=\"bond-11 atom-11 atom-12\" d=\"M 118.8,54.2 L 103.5,64.6\" style=\"fill:none;fill-rule:evenodd;stroke:#000000;stroke-width:2.0px;stroke-linecap:butt;stroke-linejoin:miter;stroke-opacity:1\"/>\n",
       "<path class=\"bond-11 atom-11 atom-12\" d=\"M 119.3,57.3 L 106.1,66.2\" style=\"fill:none;fill-rule:evenodd;stroke:#000000;stroke-width:2.0px;stroke-linecap:butt;stroke-linejoin:miter;stroke-opacity:1\"/>\n",
       "<path class=\"bond-12 atom-12 atom-6\" d=\"M 103.5,64.6 L 102.0,83.1\" style=\"fill:none;fill-rule:evenodd;stroke:#000000;stroke-width:2.0px;stroke-linecap:butt;stroke-linejoin:miter;stroke-opacity:1\"/>\n",
       "<path d=\"M 20.5,79.2 L 21.2,79.8 L 22.1,79.5\" style=\"fill:none;stroke:#000000;stroke-width:2.0px;stroke-linecap:butt;stroke-linejoin:miter;stroke-opacity:1;\"/>\n",
       "<path d=\"M 37.7,73.5 L 38.5,73.1 L 39.3,73.7\" style=\"fill:none;stroke:#000000;stroke-width:2.0px;stroke-linecap:butt;stroke-linejoin:miter;stroke-opacity:1;\"/>\n",
       "<path d=\"M 52.2,84.2 L 53.0,84.8 L 53.8,84.4\" style=\"fill:none;stroke:#000000;stroke-width:2.0px;stroke-linecap:butt;stroke-linejoin:miter;stroke-opacity:1;\"/>\n",
       "<path d=\"M 69.4,78.4 L 70.3,78.1 L 71.0,78.7\" style=\"fill:none;stroke:#000000;stroke-width:2.0px;stroke-linecap:butt;stroke-linejoin:miter;stroke-opacity:1;\"/>\n",
       "<path d=\"M 84.0,89.2 L 84.7,89.7 L 85.5,89.4\" style=\"fill:none;stroke:#000000;stroke-width:2.0px;stroke-linecap:butt;stroke-linejoin:miter;stroke-opacity:1;\"/>\n",
       "<path d=\"M 114.8,95.1 L 115.5,95.8 L 116.4,95.6\" style=\"fill:none;stroke:#000000;stroke-width:2.0px;stroke-linecap:butt;stroke-linejoin:miter;stroke-opacity:1;\"/>\n",
       "<path d=\"M 132.9,93.2 L 133.8,93.1 L 134.3,92.3\" style=\"fill:none;stroke:#000000;stroke-width:2.0px;stroke-linecap:butt;stroke-linejoin:miter;stroke-opacity:1;\"/>\n",
       "<path d=\"M 142.7,77.9 L 143.2,77.1 L 142.8,76.2\" style=\"fill:none;stroke:#000000;stroke-width:2.0px;stroke-linecap:butt;stroke-linejoin:miter;stroke-opacity:1;\"/>\n",
       "<path d=\"M 136.8,60.7 L 136.5,59.8 L 135.6,59.5\" style=\"fill:none;stroke:#000000;stroke-width:2.0px;stroke-linecap:butt;stroke-linejoin:miter;stroke-opacity:1;\"/>\n",
       "<path d=\"M 119.7,54.5 L 118.8,54.2 L 118.1,54.8\" style=\"fill:none;stroke:#000000;stroke-width:2.0px;stroke-linecap:butt;stroke-linejoin:miter;stroke-opacity:1;\"/>\n",
       "<path d=\"M 104.2,64.1 L 103.5,64.6 L 103.4,65.5\" style=\"fill:none;stroke:#000000;stroke-width:2.0px;stroke-linecap:butt;stroke-linejoin:miter;stroke-opacity:1;\"/>\n",
       "</svg>"
      ],
      "text/plain": [
       "<IPython.core.display.SVG object>"
      ]
     },
     "execution_count": 4,
     "metadata": {},
     "output_type": "execute_result"
    }
   ],
   "source": [
    "from rdkit.Chem.rdchem import ResonanceMolSupplier\n",
    "\n",
    "smiles = \"CC=CC=CC=C1C=CC=CC=C1\"\n",
    "mol = Chem.MolFromSmiles(smiles)\n",
    "mols = [mol]\n",
    "suppl = ResonanceMolSupplier(mol)\n",
    "print (ResonanceMolSupplier.GetNumConjGrps(suppl))\n",
    "Draw.MolsToGridImage(mols, molsPerRow=5, subImgSize=(150,150), useSVG=True)"
   ]
  },
  {
   "cell_type": "code",
   "execution_count": 99,
   "metadata": {},
   "outputs": [],
   "source": [
    "\n"
   ]
  },
  {
   "cell_type": "code",
   "execution_count": 68,
   "metadata": {},
   "outputs": [],
   "source": []
  },
  {
   "cell_type": "code",
   "execution_count": 103,
   "metadata": {},
   "outputs": [
    {
     "data": {
      "text/plain": [
       "0"
      ]
     },
     "execution_count": 103,
     "metadata": {},
     "output_type": "execute_result"
    }
   ],
   "source": [
    "ResonanceMolSupplier.GetNumConjGrps(suppl)"
   ]
  },
  {
   "cell_type": "code",
   "execution_count": 8,
   "metadata": {},
   "outputs": [
    {
     "data": {
      "image/svg+xml": [
       "<svg xmlns=\"http://www.w3.org/2000/svg\" xmlns:rdkit=\"http://www.rdkit.org/xml\" xmlns:xlink=\"http://www.w3.org/1999/xlink\" version=\"1.1\" baseProfile=\"full\" xml:space=\"preserve\" width=\"750px\" height=\"300px\" viewBox=\"0 0 750 300\">\n",
       "<!-- END OF HEADER -->\n",
       "<rect style=\"opacity:1.0;fill:#FFFFFF;stroke:none\" width=\"750.0\" height=\"300.0\" x=\"0.0\" y=\"0.0\"> </rect>\n",
       "<path class=\"atom-0\" d=\"M 41.1 68.0 Q 41.1 61.0, 44.4 57.3 Q 47.7 53.6, 54.0 53.6 Q 59.8 53.6, 63.0 57.7 L 60.3 59.9 Q 58.0 56.9, 54.0 56.9 Q 49.7 56.9, 47.4 59.8 Q 45.2 62.6, 45.2 68.0 Q 45.2 73.6, 47.5 76.5 Q 49.9 79.4, 54.4 79.4 Q 57.6 79.4, 61.2 77.5 L 62.3 80.5 Q 60.8 81.5, 58.6 82.0 Q 56.4 82.6, 53.9 82.6 Q 47.7 82.6, 44.4 78.8 Q 41.1 75.1, 41.1 68.0 \" fill=\"#000000\"/>\n",
       "<path class=\"atom-0\" d=\"M 66.7 53.9 L 70.6 53.9 L 70.6 66.0 L 85.1 66.0 L 85.1 53.9 L 88.9 53.9 L 88.9 82.2 L 85.1 82.2 L 85.1 69.2 L 70.6 69.2 L 70.6 82.2 L 66.7 82.2 L 66.7 53.9 \" fill=\"#000000\"/>\n",
       "<path class=\"atom-0\" d=\"M 106.6 90.0 L 108.9 90.0 L 108.9 92.1 L 106.6 92.1 L 106.6 96.4 L 104.2 96.4 L 104.2 92.1 L 94.5 92.1 L 94.5 90.4 L 102.7 77.7 L 106.6 77.7 L 106.6 90.0 M 97.6 90.0 L 104.2 90.0 L 104.2 79.4 L 97.6 90.0 \" fill=\"#000000\"/>\n",
       "<path class=\"atom-0\" d=\"M 191.1 68.0 Q 191.1 61.0, 194.4 57.3 Q 197.7 53.6, 204.0 53.6 Q 209.8 53.6, 213.0 57.7 L 210.3 59.9 Q 208.0 56.9, 204.0 56.9 Q 199.7 56.9, 197.4 59.8 Q 195.2 62.6, 195.2 68.0 Q 195.2 73.6, 197.5 76.5 Q 199.9 79.4, 204.4 79.4 Q 207.6 79.4, 211.2 77.5 L 212.3 80.5 Q 210.8 81.5, 208.6 82.0 Q 206.4 82.6, 203.9 82.6 Q 197.7 82.6, 194.4 78.8 Q 191.1 75.1, 191.1 68.0 \" fill=\"#000000\"/>\n",
       "<path class=\"atom-0\" d=\"M 216.7 53.9 L 220.6 53.9 L 220.6 66.0 L 235.1 66.0 L 235.1 53.9 L 238.9 53.9 L 238.9 82.2 L 235.1 82.2 L 235.1 69.2 L 220.6 69.2 L 220.6 82.2 L 216.7 82.2 L 216.7 53.9 \" fill=\"#000000\"/>\n",
       "<path class=\"atom-0\" d=\"M 256.6 90.0 L 258.9 90.0 L 258.9 92.1 L 256.6 92.1 L 256.6 96.4 L 254.2 96.4 L 254.2 92.1 L 244.5 92.1 L 244.5 90.4 L 252.7 77.7 L 256.6 77.7 L 256.6 90.0 M 247.6 90.0 L 254.2 90.0 L 254.2 79.4 L 247.6 90.0 \" fill=\"#000000\"/>\n",
       "<path class=\"atom-0\" d=\"M 491.1 68.0 Q 491.1 61.0, 494.4 57.3 Q 497.7 53.6, 504.0 53.6 Q 509.8 53.6, 513.0 57.7 L 510.3 59.9 Q 508.0 56.9, 504.0 56.9 Q 499.7 56.9, 497.4 59.8 Q 495.2 62.6, 495.2 68.0 Q 495.2 73.6, 497.5 76.5 Q 499.9 79.4, 504.4 79.4 Q 507.6 79.4, 511.2 77.5 L 512.3 80.5 Q 510.8 81.5, 508.6 82.0 Q 506.4 82.6, 503.9 82.6 Q 497.7 82.6, 494.4 78.8 Q 491.1 75.1, 491.1 68.0 \" fill=\"#000000\"/>\n",
       "<path class=\"atom-0\" d=\"M 516.7 53.9 L 520.6 53.9 L 520.6 66.0 L 535.1 66.0 L 535.1 53.9 L 538.9 53.9 L 538.9 82.2 L 535.1 82.2 L 535.1 69.2 L 520.6 69.2 L 520.6 82.2 L 516.7 82.2 L 516.7 53.9 \" fill=\"#000000\"/>\n",
       "<path class=\"atom-0\" d=\"M 556.6 90.0 L 558.9 90.0 L 558.9 92.1 L 556.6 92.1 L 556.6 96.4 L 554.2 96.4 L 554.2 92.1 L 544.5 92.1 L 544.5 90.4 L 552.7 77.7 L 556.6 77.7 L 556.6 90.0 M 547.6 90.0 L 554.2 90.0 L 554.2 79.4 L 547.6 90.0 \" fill=\"#000000\"/>\n",
       "<path class=\"atom-0\" d=\"M 641.1 68.0 Q 641.1 61.0, 644.4 57.3 Q 647.7 53.6, 654.0 53.6 Q 659.8 53.6, 663.0 57.7 L 660.3 59.9 Q 658.0 56.9, 654.0 56.9 Q 649.7 56.9, 647.4 59.8 Q 645.2 62.6, 645.2 68.0 Q 645.2 73.6, 647.5 76.5 Q 649.9 79.4, 654.4 79.4 Q 657.6 79.4, 661.2 77.5 L 662.3 80.5 Q 660.8 81.5, 658.6 82.0 Q 656.4 82.6, 653.9 82.6 Q 647.7 82.6, 644.4 78.8 Q 641.1 75.1, 641.1 68.0 \" fill=\"#000000\"/>\n",
       "<path class=\"atom-0\" d=\"M 666.7 53.9 L 670.6 53.9 L 670.6 66.0 L 685.1 66.0 L 685.1 53.9 L 688.9 53.9 L 688.9 82.2 L 685.1 82.2 L 685.1 69.2 L 670.6 69.2 L 670.6 82.2 L 666.7 82.2 L 666.7 53.9 \" fill=\"#000000\"/>\n",
       "<path class=\"atom-0\" d=\"M 706.6 90.0 L 708.9 90.0 L 708.9 92.1 L 706.6 92.1 L 706.6 96.4 L 704.2 96.4 L 704.2 92.1 L 694.5 92.1 L 694.5 90.4 L 702.7 77.7 L 706.6 77.7 L 706.6 90.0 M 697.6 90.0 L 704.2 90.0 L 704.2 79.4 L 697.6 90.0 \" fill=\"#000000\"/>\n",
       "<path class=\"atom-0\" d=\"M 191.1 218.0 Q 191.1 211.0, 194.4 207.3 Q 197.7 203.6, 204.0 203.6 Q 209.8 203.6, 213.0 207.7 L 210.3 209.9 Q 208.0 206.9, 204.0 206.9 Q 199.7 206.9, 197.4 209.8 Q 195.2 212.6, 195.2 218.0 Q 195.2 223.6, 197.5 226.5 Q 199.9 229.4, 204.4 229.4 Q 207.6 229.4, 211.2 227.5 L 212.3 230.5 Q 210.8 231.5, 208.6 232.0 Q 206.4 232.6, 203.9 232.6 Q 197.7 232.6, 194.4 228.8 Q 191.1 225.1, 191.1 218.0 \" fill=\"#000000\"/>\n",
       "<path class=\"atom-0\" d=\"M 216.7 203.9 L 220.6 203.9 L 220.6 216.0 L 235.1 216.0 L 235.1 203.9 L 238.9 203.9 L 238.9 232.2 L 235.1 232.2 L 235.1 219.2 L 220.6 219.2 L 220.6 232.2 L 216.7 232.2 L 216.7 203.9 \" fill=\"#000000\"/>\n",
       "<path class=\"atom-0\" d=\"M 256.6 240.0 L 258.9 240.0 L 258.9 242.1 L 256.6 242.1 L 256.6 246.4 L 254.2 246.4 L 254.2 242.1 L 244.5 242.1 L 244.5 240.4 L 252.7 227.7 L 256.6 227.7 L 256.6 240.0 M 247.6 240.0 L 254.2 240.0 L 254.2 229.4 L 247.6 240.0 \" fill=\"#000000\"/>\n",
       "</svg>"
      ],
      "text/plain": [
       "<IPython.core.display.SVG object>"
      ]
     },
     "execution_count": 8,
     "metadata": {},
     "output_type": "execute_result"
    }
   ],
   "source": [
    "Draw.MolsToGridImage(mols, molsPerRow=5, subImgSize=(150,150), useSVG=True)"
   ]
  },
  {
   "cell_type": "code",
   "execution_count": 8,
   "metadata": {},
   "outputs": [
    {
     "name": "stdout",
     "output_type": "stream",
     "text": [
      "CCN(C=O)C(C)(C(=O)O)c1ccccc1C\n",
      "CCC(C[SH]=S)=[SH]C1=CC=CC1=S\n"
     ]
    }
   ],
   "source": [
    "# %%\n",
    "smiList = ['CCN(C=O)C(C)(C(=O)O)c1ccccc1C']\n",
    "for i in smiList:\n",
    "    smiles_can = chem.MolToSmiles(chem.MolFromSmiles(i))\n",
    "    print (smiles_can)\n",
    "\n",
    "des_cv = np.array([27.58, 27.58, 28.66, 28.66, 18.358, \n",
    "                   19.50, 23.09, 29.29, 12.81, 13.64])\n",
    "DFT_cv = np.array([29.66, 24.58, 29.93, 30.02, 19.14, \n",
    "                   19.41, 23.31, 26.34, 12.25, 13.76])\n",
    "Relative_error = list (np.abs ((des_cv - DFT_cv)/DFT_cv))\n",
    "# Create RDKit molecular objects\n",
    "mols = [chem.MolFromSmiles(m) for m in smiList]\n",
    "# display\n",
    "image = Draw.MolsToGridImage(mols, molsPerRow=5, subImgSize=(150,150), useSVG=True)\n",
    "\n",
    "\n",
    "\n",
    "\n",
    "\n",
    "# %%\n",
    "# high value Cvs\n",
    "\n",
    "\n",
    "smiList = ['CCCCC(C)(O)CCOC',\n",
    "           'CCOCC(C)CCCCO',\n",
    "           'CCCCC(C)CC(C)C',\n",
    "           'CC#CCCCC(C)CCC',\n",
    "           'CCCCCC(C)CCN',\n",
    "           'C1CCC1(CCCC(CCC))',\n",
    "           'C1CC(CCC)C(CC)CC1',\n",
    "           'CCC(C)CCC(O)CC',\n",
    "           'CCN(C)C(CCC)CO',\n",
    "           'CN(COO)C(C)CCO']\n",
    "smiList = ['CCC(C[SH]=S)=[SH]C1=CC=CC1=S']\n",
    "\n",
    "for i in smiList:\n",
    "    smiles_can = chem.MolToSmiles(chem.MolFromSmiles(i))\n",
    "    print (smiles_can)\n",
    "\n",
    "des_cv_high = np.array([48.59, 46.89, 46.28, 48.72, 43.90,\n",
    "                        46.41, 46.41, 43.09, 48.70, 42.50\n",
    "                         ])\n",
    "\n",
    "DFT_cv_high = np.array([52.64, 51.44, 50.58, 51.74, 49.01, \n",
    "                        49.52, 49.01, 48.97, 47.96, 46.06])\n",
    "\n",
    "high_cv_df = pd.DataFrame\n",
    "Relative_error_high = list (np.abs ((des_cv_high - DFT_cv_high)/DFT_cv_high))\n",
    "# Create RDKit molecular objects\n",
    "mols = [chem.MolFromSmiles(m) for m in smiList]\n",
    "\n",
    "# display\n",
    "Draw.MolsToGridImage(mols, molsPerRow=5, subImgSize=(150,150), useSVG=True)\n",
    "# %%\n",
    "\"\"\"\n",
    "CCCCC(C)(O)CCOC\t\n",
    "48.5875\t52.643\n",
    "CCOCC(C)CCCCO\t\n",
    "46.8881\t51.44\n",
    "CCCCC(C)CC(C)C\t\n",
    "46.2826\t50.578\n",
    "CC#CCCCC(C)CCC  \n",
    "48.72    51.74\n",
    "CCCCCC(C)CCN\t\n",
    "43.8909\t49.008\n",
    "C1CCC1(CCCC(CCC))   \n",
    "46.41   49.52\n",
    "C1CC(CCC)C(CC)CC1    \n",
    "46.41      49.01\n",
    "CCC(C)CCC(O)CC\t\n",
    "43.0851\t48.965\n",
    "CCN(C)C(CCC)CO    \n",
    "48.70   47.96\n",
    "CN(COO)C(C)CCO   \n",
    "42.5    46.06\n",
    "\"\"\"\n",
    "\n",
    "c = 'CCOC(=O)Cn1ccnc1[N+](=O)[O-]'"
   ]
  },
  {
   "cell_type": "code",
   "execution_count": 9,
   "metadata": {},
   "outputs": [
    {
     "data": {
      "image/svg+xml": [
       "<svg xmlns=\"http://www.w3.org/2000/svg\" xmlns:rdkit=\"http://www.rdkit.org/xml\" xmlns:xlink=\"http://www.w3.org/1999/xlink\" version=\"1.1\" baseProfile=\"full\" xml:space=\"preserve\" width=\"750px\" height=\"150px\" viewBox=\"0 0 750 150\">\n",
       "<!-- END OF HEADER -->\n",
       "<rect style=\"opacity:1.0;fill:#FFFFFF;stroke:none\" width=\"750.0\" height=\"150.0\" x=\"0.0\" y=\"0.0\"> </rect>\n",
       "<path class=\"bond-0 atom-0 atom-1\" d=\"M 6.8,103.1 L 31.9,114.1\" style=\"fill:none;fill-rule:evenodd;stroke:#000000;stroke-width:2.0px;stroke-linecap:butt;stroke-linejoin:miter;stroke-opacity:1\"/>\n",
       "<path class=\"bond-1 atom-1 atom-2\" d=\"M 31.9,114.1 L 54.0,97.8\" style=\"fill:none;fill-rule:evenodd;stroke:#000000;stroke-width:2.0px;stroke-linecap:butt;stroke-linejoin:miter;stroke-opacity:1\"/>\n",
       "<path class=\"bond-2 atom-2 atom-3\" d=\"M 54.0,97.8 L 50.9,70.6\" style=\"fill:none;fill-rule:evenodd;stroke:#000000;stroke-width:2.0px;stroke-linecap:butt;stroke-linejoin:miter;stroke-opacity:1\"/>\n",
       "<path class=\"bond-3 atom-3 atom-4\" d=\"M 50.9,70.6 L 40.1,65.9\" style=\"fill:none;fill-rule:evenodd;stroke:#000000;stroke-width:2.0px;stroke-linecap:butt;stroke-linejoin:miter;stroke-opacity:1\"/>\n",
       "<path class=\"bond-3 atom-3 atom-4\" d=\"M 40.1,65.9 L 29.2,61.1\" style=\"fill:none;fill-rule:evenodd;stroke:#CCCC00;stroke-width:2.0px;stroke-linecap:butt;stroke-linejoin:miter;stroke-opacity:1\"/>\n",
       "<path class=\"bond-4 atom-4 atom-5\" d=\"M 27.4,54.7 L 25.4,37.2\" style=\"fill:none;fill-rule:evenodd;stroke:#CCCC00;stroke-width:2.0px;stroke-linecap:butt;stroke-linejoin:miter;stroke-opacity:1\"/>\n",
       "<path class=\"bond-4 atom-4 atom-5\" d=\"M 23.3,55.1 L 21.3,37.6\" style=\"fill:none;fill-rule:evenodd;stroke:#CCCC00;stroke-width:2.0px;stroke-linecap:butt;stroke-linejoin:miter;stroke-opacity:1\"/>\n",
       "<path class=\"bond-5 atom-2 atom-6\" d=\"M 54.0,97.8 L 64.8,102.6\" style=\"fill:none;fill-rule:evenodd;stroke:#000000;stroke-width:2.0px;stroke-linecap:butt;stroke-linejoin:miter;stroke-opacity:1\"/>\n",
       "<path class=\"bond-5 atom-2 atom-6\" d=\"M 64.8,102.6 L 75.7,107.3\" style=\"fill:none;fill-rule:evenodd;stroke:#CCCC00;stroke-width:2.0px;stroke-linecap:butt;stroke-linejoin:miter;stroke-opacity:1\"/>\n",
       "<path class=\"bond-5 atom-2 atom-6\" d=\"M 55.6,94.1 L 66.5,98.8\" style=\"fill:none;fill-rule:evenodd;stroke:#000000;stroke-width:2.0px;stroke-linecap:butt;stroke-linejoin:miter;stroke-opacity:1\"/>\n",
       "<path class=\"bond-5 atom-2 atom-6\" d=\"M 66.5,98.8 L 77.3,103.6\" style=\"fill:none;fill-rule:evenodd;stroke:#CCCC00;stroke-width:2.0px;stroke-linecap:butt;stroke-linejoin:miter;stroke-opacity:1\"/>\n",
       "<path class=\"bond-6 atom-6 atom-7\" d=\"M 82.5,106.3 L 91.8,99.5\" style=\"fill:none;fill-rule:evenodd;stroke:#CCCC00;stroke-width:2.0px;stroke-linecap:butt;stroke-linejoin:miter;stroke-opacity:1\"/>\n",
       "<path class=\"bond-6 atom-6 atom-7\" d=\"M 91.8,99.5 L 101.1,92.6\" style=\"fill:none;fill-rule:evenodd;stroke:#000000;stroke-width:2.0px;stroke-linecap:butt;stroke-linejoin:miter;stroke-opacity:1\"/>\n",
       "<path class=\"bond-7 atom-7 atom-8\" d=\"M 101.1,92.6 L 127.2,100.9\" style=\"fill:none;fill-rule:evenodd;stroke:#000000;stroke-width:2.0px;stroke-linecap:butt;stroke-linejoin:miter;stroke-opacity:1\"/>\n",
       "<path class=\"bond-7 atom-7 atom-8\" d=\"M 105.2,89.6 L 125.6,96.1\" style=\"fill:none;fill-rule:evenodd;stroke:#000000;stroke-width:2.0px;stroke-linecap:butt;stroke-linejoin:miter;stroke-opacity:1\"/>\n",
       "<path class=\"bond-8 atom-8 atom-9\" d=\"M 127.2,100.9 L 143.2,78.6\" style=\"fill:none;fill-rule:evenodd;stroke:#000000;stroke-width:2.0px;stroke-linecap:butt;stroke-linejoin:miter;stroke-opacity:1\"/>\n",
       "<path class=\"bond-9 atom-9 atom-10\" d=\"M 143.2,78.6 L 126.9,56.6\" style=\"fill:none;fill-rule:evenodd;stroke:#000000;stroke-width:2.0px;stroke-linecap:butt;stroke-linejoin:miter;stroke-opacity:1\"/>\n",
       "<path class=\"bond-9 atom-9 atom-10\" d=\"M 138.1,78.7 L 125.4,61.4\" style=\"fill:none;fill-rule:evenodd;stroke:#000000;stroke-width:2.0px;stroke-linecap:butt;stroke-linejoin:miter;stroke-opacity:1\"/>\n",
       "<path class=\"bond-10 atom-10 atom-11\" d=\"M 126.9,56.6 L 100.9,65.2\" style=\"fill:none;fill-rule:evenodd;stroke:#000000;stroke-width:2.0px;stroke-linecap:butt;stroke-linejoin:miter;stroke-opacity:1\"/>\n",
       "<path class=\"bond-11 atom-11 atom-12\" d=\"M 103.4,64.4 L 93.3,57.2\" style=\"fill:none;fill-rule:evenodd;stroke:#000000;stroke-width:2.0px;stroke-linecap:butt;stroke-linejoin:miter;stroke-opacity:1\"/>\n",
       "<path class=\"bond-11 atom-11 atom-12\" d=\"M 93.3,57.2 L 83.3,50.0\" style=\"fill:none;fill-rule:evenodd;stroke:#CCCC00;stroke-width:2.0px;stroke-linecap:butt;stroke-linejoin:miter;stroke-opacity:1\"/>\n",
       "<path class=\"bond-11 atom-11 atom-12\" d=\"M 101.0,67.7 L 90.9,60.5\" style=\"fill:none;fill-rule:evenodd;stroke:#000000;stroke-width:2.0px;stroke-linecap:butt;stroke-linejoin:miter;stroke-opacity:1\"/>\n",
       "<path class=\"bond-11 atom-11 atom-12\" d=\"M 90.9,60.5 L 80.9,53.3\" style=\"fill:none;fill-rule:evenodd;stroke:#CCCC00;stroke-width:2.0px;stroke-linecap:butt;stroke-linejoin:miter;stroke-opacity:1\"/>\n",
       "<path class=\"bond-12 atom-11 atom-7\" d=\"M 100.9,65.2 L 101.1,92.6\" style=\"fill:none;fill-rule:evenodd;stroke:#000000;stroke-width:2.0px;stroke-linecap:butt;stroke-linejoin:miter;stroke-opacity:1\"/>\n",
       "<path d=\"M 30.7,113.5 L 31.9,114.1 L 33.0,113.3\" style=\"fill:none;stroke:#000000;stroke-width:2.0px;stroke-linecap:butt;stroke-linejoin:miter;stroke-opacity:1;\"/>\n",
       "<path d=\"M 51.1,72.0 L 50.9,70.6 L 50.4,70.4\" style=\"fill:none;stroke:#000000;stroke-width:2.0px;stroke-linecap:butt;stroke-linejoin:miter;stroke-opacity:1;\"/>\n",
       "<path d=\"M 125.9,100.5 L 127.2,100.9 L 128.0,99.8\" style=\"fill:none;stroke:#000000;stroke-width:2.0px;stroke-linecap:butt;stroke-linejoin:miter;stroke-opacity:1;\"/>\n",
       "<path d=\"M 142.4,79.7 L 143.2,78.6 L 142.4,77.5\" style=\"fill:none;stroke:#000000;stroke-width:2.0px;stroke-linecap:butt;stroke-linejoin:miter;stroke-opacity:1;\"/>\n",
       "<path d=\"M 127.8,57.7 L 126.9,56.6 L 125.6,57.0\" style=\"fill:none;stroke:#000000;stroke-width:2.0px;stroke-linecap:butt;stroke-linejoin:miter;stroke-opacity:1;\"/>\n",
       "<path d=\"M 102.2,64.8 L 100.9,65.2 L 101.0,66.6\" style=\"fill:none;stroke:#000000;stroke-width:2.0px;stroke-linecap:butt;stroke-linejoin:miter;stroke-opacity:1;\"/>\n",
       "<path class=\"atom-4\" d=\"M 15.8 55.8 L 16.9 55.8 L 16.9 59.1 L 20.8 59.1 L 20.8 55.8 L 21.9 55.8 L 21.9 63.5 L 20.8 63.5 L 20.8 59.9 L 16.9 59.9 L 16.9 63.5 L 15.8 63.5 L 15.8 55.8 \" fill=\"#CCCC00\"/>\n",
       "<path class=\"atom-4\" d=\"M 23.7 62.3 Q 23.7 62.3, 24.1 62.5 Q 24.5 62.7, 24.9 62.8 Q 25.3 62.8, 25.7 62.8 Q 26.4 62.8, 26.8 62.5 Q 27.2 62.1, 27.2 61.5 Q 27.2 61.1, 27.0 60.8 Q 26.8 60.6, 26.5 60.4 Q 26.2 60.3, 25.6 60.1 Q 24.9 59.9, 24.5 59.7 Q 24.1 59.5, 23.8 59.1 Q 23.5 58.7, 23.5 58.0 Q 23.5 57.0, 24.2 56.4 Q 24.8 55.8, 26.2 55.8 Q 27.1 55.8, 28.1 56.2 L 27.8 57.1 Q 26.9 56.7, 26.2 56.7 Q 25.4 56.7, 25.0 57.0 Q 24.6 57.3, 24.6 57.8 Q 24.6 58.3, 24.8 58.5 Q 25.0 58.8, 25.3 58.9 Q 25.7 59.0, 26.2 59.2 Q 26.9 59.4, 27.3 59.6 Q 27.7 59.9, 28.0 60.3 Q 28.3 60.7, 28.3 61.5 Q 28.3 62.6, 27.6 63.2 Q 26.9 63.7, 25.7 63.7 Q 25.0 63.7, 24.5 63.6 Q 24.0 63.4, 23.4 63.2 L 23.7 62.3 \" fill=\"#CCCC00\"/>\n",
       "<path class=\"atom-5\" d=\"M 20.6 35.1 Q 20.7 35.1, 21.1 35.3 Q 21.4 35.4, 21.8 35.5 Q 22.2 35.6, 22.6 35.6 Q 23.4 35.6, 23.8 35.3 Q 24.2 34.9, 24.2 34.3 Q 24.2 33.8, 24.0 33.6 Q 23.8 33.3, 23.5 33.2 Q 23.1 33.0, 22.6 32.9 Q 21.9 32.7, 21.5 32.5 Q 21.1 32.3, 20.8 31.8 Q 20.5 31.4, 20.5 30.7 Q 20.5 29.8, 21.1 29.2 Q 21.8 28.6, 23.1 28.6 Q 24.0 28.6, 25.0 29.0 L 24.8 29.8 Q 23.9 29.4, 23.2 29.4 Q 22.4 29.4, 22.0 29.8 Q 21.6 30.1, 21.6 30.6 Q 21.6 31.0, 21.8 31.3 Q 22.0 31.5, 22.3 31.7 Q 22.6 31.8, 23.2 32.0 Q 23.9 32.2, 24.3 32.4 Q 24.7 32.6, 25.0 33.1 Q 25.3 33.5, 25.3 34.3 Q 25.3 35.3, 24.6 35.9 Q 23.9 36.5, 22.7 36.5 Q 22.0 36.5, 21.5 36.3 Q 20.9 36.2, 20.3 35.9 L 20.6 35.1 \" fill=\"#CCCC00\"/>\n",
       "<path class=\"atom-6\" d=\"M 76.9 111.5 Q 77.0 111.5, 77.3 111.7 Q 77.7 111.8, 78.1 111.9 Q 78.5 112.0, 78.9 112.0 Q 79.6 112.0, 80.0 111.7 Q 80.5 111.3, 80.5 110.7 Q 80.5 110.3, 80.2 110.0 Q 80.0 109.7, 79.7 109.6 Q 79.4 109.4, 78.8 109.3 Q 78.1 109.1, 77.7 108.9 Q 77.3 108.7, 77.0 108.3 Q 76.7 107.8, 76.7 107.1 Q 76.7 106.2, 77.4 105.6 Q 78.1 105.0, 79.4 105.0 Q 80.3 105.0, 81.3 105.4 L 81.0 106.2 Q 80.1 105.9, 79.4 105.9 Q 78.7 105.9, 78.2 106.2 Q 77.8 106.5, 77.8 107.0 Q 77.8 107.4, 78.0 107.7 Q 78.3 107.9, 78.6 108.1 Q 78.9 108.2, 79.4 108.4 Q 80.1 108.6, 80.5 108.8 Q 80.9 109.0, 81.2 109.5 Q 81.5 109.9, 81.5 110.7 Q 81.5 111.8, 80.8 112.3 Q 80.1 112.9, 78.9 112.9 Q 78.2 112.9, 77.7 112.8 Q 77.2 112.6, 76.6 112.4 L 76.9 111.5 \" fill=\"#CCCC00\"/>\n",
       "<path class=\"atom-6\" d=\"M 76.0 113.7 L 77.1 113.7 L 77.1 117.0 L 81.0 117.0 L 81.0 113.7 L 82.1 113.7 L 82.1 121.4 L 81.0 121.4 L 81.0 117.9 L 77.1 117.9 L 77.1 121.4 L 76.0 121.4 L 76.0 113.7 \" fill=\"#CCCC00\"/>\n",
       "<path class=\"atom-12\" d=\"M 76.5 51.9 Q 76.6 51.9, 76.9 52.1 Q 77.3 52.2, 77.7 52.3 Q 78.1 52.4, 78.5 52.4 Q 79.2 52.4, 79.7 52.1 Q 80.1 51.7, 80.1 51.1 Q 80.1 50.7, 79.9 50.4 Q 79.7 50.1, 79.3 50.0 Q 79.0 49.9, 78.5 49.7 Q 77.8 49.5, 77.4 49.3 Q 76.9 49.1, 76.6 48.7 Q 76.4 48.3, 76.4 47.6 Q 76.4 46.6, 77.0 46.0 Q 77.7 45.4, 79.0 45.4 Q 79.9 45.4, 80.9 45.8 L 80.7 46.6 Q 79.7 46.3, 79.0 46.3 Q 78.3 46.3, 77.9 46.6 Q 77.4 46.9, 77.5 47.4 Q 77.5 47.8, 77.7 48.1 Q 77.9 48.3, 78.2 48.5 Q 78.5 48.6, 79.0 48.8 Q 79.7 49.0, 80.2 49.2 Q 80.6 49.5, 80.9 49.9 Q 81.2 50.3, 81.2 51.1 Q 81.2 52.2, 80.5 52.7 Q 79.7 53.3, 78.5 53.3 Q 77.9 53.3, 77.3 53.2 Q 76.8 53.0, 76.2 52.8 L 76.5 51.9 \" fill=\"#CCCC00\"/>\n",
       "</svg>"
      ],
      "text/plain": [
       "<IPython.core.display.SVG object>"
      ]
     },
     "execution_count": 9,
     "metadata": {},
     "output_type": "execute_result"
    }
   ],
   "source": [
    "Draw.MolsToGridImage(mols, molsPerRow=5, subImgSize=(150,150), useSVG=True)"
   ]
  },
  {
   "cell_type": "code",
   "execution_count": 10,
   "metadata": {},
   "outputs": [
    {
     "name": "stdout",
     "output_type": "stream",
     "text": [
      "{'AnonymousGraph': rdkit.Chem.rdMolHash.HashFunction.AnonymousGraph, 'ElementGraph': rdkit.Chem.rdMolHash.HashFunction.ElementGraph, 'CanonicalSmiles': rdkit.Chem.rdMolHash.HashFunction.CanonicalSmiles, 'MurckoScaffold': rdkit.Chem.rdMolHash.HashFunction.MurckoScaffold, 'ExtendedMurcko': rdkit.Chem.rdMolHash.HashFunction.ExtendedMurcko, 'MolFormula': rdkit.Chem.rdMolHash.HashFunction.MolFormula, 'AtomBondCounts': rdkit.Chem.rdMolHash.HashFunction.AtomBondCounts, 'DegreeVector': rdkit.Chem.rdMolHash.HashFunction.DegreeVector, 'Mesomer': rdkit.Chem.rdMolHash.HashFunction.Mesomer, 'HetAtomTautomer': rdkit.Chem.rdMolHash.HashFunction.HetAtomTautomer, 'HetAtomProtomer': rdkit.Chem.rdMolHash.HashFunction.HetAtomProtomer, 'RedoxPair': rdkit.Chem.rdMolHash.HashFunction.RedoxPair, 'Regioisomer': rdkit.Chem.rdMolHash.HashFunction.Regioisomer, 'NetCharge': rdkit.Chem.rdMolHash.HashFunction.NetCharge, 'SmallWorldIndexBR': rdkit.Chem.rdMolHash.HashFunction.SmallWorldIndexBR, 'SmallWorldIndexBRL': rdkit.Chem.rdMolHash.HashFunction.SmallWorldIndexBRL, 'ArthorSubstructureOrder': rdkit.Chem.rdMolHash.HashFunction.ArthorSubstructureOrder, 'HetAtomTautomerv2': rdkit.Chem.rdMolHash.HashFunction.HetAtomTautomerv2}\n",
      "AnonymousGraph *****(*)****(***)*(*)*\n",
      "ElementGraph CCNCC(O)NCCC(NOC)N(C)O\n",
      "CanonicalSmiles C=C=NCC(=O)NCCC(NOC)=[N+](C)[O-]\n",
      "MurckoScaffold \n",
      "ExtendedMurcko \n",
      "MolFormula C9H16N4O3\n",
      "AtomBondCounts 16,15\n",
      "DegreeVector 0,3,8,5\n",
      "Mesomer [CH2][C][N]C[C]([O])NCC[C](NOC)N(C)[O]_0\n",
      "HetAtomTautomer [CH2][C][N]C[C]([O])[N]CC[C]([N]OC)N(C)[O]_2_0\n",
      "HetAtomProtomer [CH2][C][N]C[C]([O])[N]CC[C]([N]OC)N(C)[O]_2\n",
      "RedoxPair [CH2][C][N]C[C]([O])NCC[C](NOC)N(C)[O]\n",
      "Regioisomer *N=C=C.*NC(C)=O.*ONC(CC)=[N+](*)[O-].C.C\n",
      "NetCharge 0\n",
      "SmallWorldIndexBR B15R0\n",
      "SmallWorldIndexBRL B15R0L8\n",
      "ArthorSubstructureOrder 0010000f010009000700006a010200\n",
      "HetAtomTautomerv2 [C]:[C]:[N]:[C]:[C](:[O]):[N]:[C]-[C]:[C](:[N]-[O]-[CH3]):[N](:[C]):[O]_13_0\n"
     ]
    }
   ],
   "source": [
    "c = 'CCOC(=O)Cn1ccnc1[N+](=O)[O-]'\n",
    "s = chem.MolFromSmiles('C=C=NCC(=O)NCCC(NOC)=[N+](C)[O-]')\n",
    "s\n",
    "\n",
    "molhashf = rdMolHash.HashFunction.names\n",
    "print(molhashf)\n",
    "\n",
    "for i, j in molhashf.items():\n",
    "    print(i, rdMolHash.MolHash(s, j))\n"
   ]
  }
 ],
 "metadata": {
  "kernelspec": {
   "display_name": "tf-gpu",
   "language": "python",
   "name": "python3"
  },
  "language_info": {
   "codemirror_mode": {
    "name": "ipython",
    "version": 3
   },
   "file_extension": ".py",
   "mimetype": "text/x-python",
   "name": "python",
   "nbconvert_exporter": "python",
   "pygments_lexer": "ipython3",
   "version": "3.9.16"
  },
  "orig_nbformat": 4
 },
 "nbformat": 4,
 "nbformat_minor": 2
}
