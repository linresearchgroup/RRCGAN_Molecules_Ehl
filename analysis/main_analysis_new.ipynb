{
 "cells": [
  {
   "cell_type": "code",
   "execution_count": 188,
   "id": "ideal-expression",
   "metadata": {
    "colab": {
     "base_uri": "https://localhost:8080/"
    },
    "executionInfo": {
     "elapsed": 5,
     "status": "ok",
     "timestamp": 1655952416829,
     "user": {
      "displayName": "Kianoosh Sattari",
      "userId": "04386428549344756837"
     },
     "user_tz": 300
    },
    "id": "ideal-expression",
    "outputId": "5cf48403-66ef-4058-da7f-f0fb55d2824c"
   },
   "outputs": [
    {
     "name": "stdout",
     "output_type": "stream",
     "text": [
      "!!!!!!!!!!!!!!!!!!!!!we are after importing rdkit!!!!!!!!!!!!!!!!!!\n"
     ]
    }
   ],
   "source": [
    "# Task:\n",
    "# postprocessing analysis\n",
    "# use Joback method (using functional groups to calc. gap) \n",
    "# find the rep. with qm9 and save the final file in a .csv file\n",
    "# Joback has 6% error on qm9 values\n",
    "import warnings\n",
    "warnings.filterwarnings('ignore')\n",
    "\n",
    "import numpy as np\n",
    "import pandas as pd\n",
    "from numpy import ndarray\n",
    "from sklearn.feature_extraction.text import CountVectorizer, TfidfVectorizer\n",
    "from sklearn.decomposition import PCA, TruncatedSVD\n",
    "from sklearn.preprocessing import StandardScaler\n",
    "from sklearn.metrics import r2_score\n",
    "from sklearn.metrics import mean_squared_error \n",
    "from sklearn.metrics import mean_absolute_error\n",
    "from sklearn.metrics import explained_variance_score\n",
    "\n",
    "import tensorflow as tf\n",
    "from tensorflow import keras\n",
    "from tensorflow.keras.preprocessing.text import Tokenizer\n",
    "from tensorflow.keras.preprocessing.sequence import pad_sequences\n",
    "from tensorflow.keras.utils import to_categorical\n",
    "\n",
    "import pickle\n",
    "import matplotlib.pyplot as plt\n",
    "import matplotlib as mpl\n",
    "from matplotlib import rc, rcParams\n",
    "\n",
    "import seaborn as sns\n",
    "\n",
    "#! pip install rdkit-pypi\n",
    "from rdkit import rdBase\n",
    "rdBase.DisableLog('rdApp.error')\n",
    "from rdkit import Chem\n",
    "print (\"!!!!!!!!!!!!!!!!!!!!!we are after importing rdkit!!!!!!!!!!!!!!!!!!\")\n",
    "#! pip install thermo\n",
    "#from thermo import Joback\n",
    "# loading SMILES data using Chainer Chemistry\n",
    "#! pip install chainer_chemistry\n",
    "from chainer_chemistry.datasets.molnet import get_molnet_dataset\n",
    "from chainer_chemistry.datasets.numpy_tuple_dataset import NumpyTupleDataset\n",
    "from chainer_chemistry.dataset.preprocessors import GGNNPreprocessor\n",
    "from scipy import stats"
   ]
  },
  {
   "cell_type": "code",
   "execution_count": 189,
   "id": "5c981c24",
   "metadata": {},
   "outputs": [
    {
     "data": {
      "text/plain": [
       "Text(0.5, 0, '!!!Ariaaaal')"
      ]
     },
     "execution_count": 189,
     "metadata": {},
     "output_type": "execute_result"
    },
    {
     "data": {
      "image/png": "[encoded data removed]",
      "text/plain": [
       "<Figure size 500x400 with 1 Axes>"
      ]
     },
     "metadata": {},
     "output_type": "display_data"
    }
   ],
   "source": [
    "# check the font !!!!!!!!!!!!!!!!!!!!!\n",
    "# switch to Arial\n",
    "# if not working: delet ~/.catch/matplotlib\n",
    "plt.rcParams[\"font.family\"] = \"Arial\"\n",
    "plt.rcParams['ps.useafm'] = True\n",
    "plt.rcParams['pdf.fonttype'] = 42\n",
    "mpl.font_manager.FontManager()\n",
    "\n",
    "rc('font', weight='bold')\n",
    "fig, ax = plt.subplots(figsize=(5, 4))\n",
    "plt.scatter([10, 55], [10, 55])\n",
    "ax.tick_params(axis='both', length=0, width=1.5, colors='black', grid_alpha=0, labelsize=20)\n",
    "plt.xlabel('!!!Ariaaaal', fontname='Arial', fontsize=50)"
   ]
  },
  {
   "cell_type": "code",
   "execution_count": 2,
   "id": "W5IFtdgtynnZ",
   "metadata": {
    "colab": {
     "base_uri": "https://localhost:8080/"
    },
    "executionInfo": {
     "elapsed": 480,
     "status": "ok",
     "timestamp": 1655952417307,
     "user": {
      "displayName": "Kianoosh Sattari",
      "userId": "04386428549344756837"
     },
     "user_tz": 300
    },
    "id": "W5IFtdgtynnZ",
    "outputId": "ceb9b266-49d9-4d61-9de9-d492fa26edcb"
   },
   "outputs": [
    {
     "name": "stdout",
     "output_type": "stream",
     "text": [
      "Number of gen SMILES 1315\n",
      "Number of gen SMILES after getting Canonical 1315\n"
     ]
    }
   ],
   "source": [
    "# load the generated SMILES from the RCGAN Model\n",
    "csv_name = './../experiments/regular/keep/Initial_training.csv'\n",
    "gen_SMILES = pd.read_csv(csv_name)\n",
    "\n",
    "gen_SMILES_initial = gen_SMILES\n",
    "initial_num_samples = gen_SMILES.shape[0]\n",
    "print ('Number of gen SMILES', gen_SMILES.shape[0])\n",
    "sanitized_idx = []\n",
    "# make sure about Canonical SMILES\n",
    "for i, s in enumerate (gen_SMILES['SMILES'].values):\n",
    "    try:\n",
    "         m = Chem.MolFromSmiles(s, sanitize=True)\n",
    "         ss = Chem.MolToSmiles(m,)\n",
    "         gen_SMILES['SMILES'].values[i] = ss\n",
    "         sanitized_idx.append(i)\n",
    "    except:\n",
    "         print (s, 'is not sanitized')\n",
    "gen_SMILES = gen_SMILES.iloc[sanitized_idx]\n",
    "gen_SMILES.reset_index(drop = True, inplace = True)\n",
    "\n",
    "print ('Number of gen SMILES after getting Canonical', gen_SMILES.shape[0])"
   ]
  },
  {
   "cell_type": "code",
   "execution_count": 5,
   "id": "abb8d0b5",
   "metadata": {},
   "outputs": [
    {
     "name": "stdout",
     "output_type": "stream",
     "text": [
      "0\n"
     ]
    }
   ],
   "source": [
    "# look for any repetitive samples\n",
    "print (sum(gen_SMILES.duplicated(subset=['SMILES'])))\n",
    "gen_SMILES = gen_SMILES.drop_duplicates(subset=['SMILES'], keep='first')"
   ]
  },
  {
   "cell_type": "code",
   "execution_count": 6,
   "id": "70109bd2",
   "metadata": {},
   "outputs": [
    {
     "name": "stdout",
     "output_type": "stream",
     "text": [
      "(1315, 4)\n"
     ]
    }
   ],
   "source": [
    "sum(gen_SMILES.duplicated(subset=['SMILES']))\n",
    "print (gen_SMILES.shape)"
   ]
  },
  {
   "cell_type": "code",
   "execution_count": 7,
   "id": "269d3469",
   "metadata": {},
   "outputs": [],
   "source": [
    "#val_accurate.to_csv('gen_new_noscreen_all_joback.csv', index = False)\n",
    "preprocessor = GGNNPreprocessor()\n",
    "\n",
    "with open('./../data/trainingsets/60000_train_regular_pubqc/image_train.pickle', 'rb') as f:\n",
    "    X_smiles_train0, SMILES_train0, y_train00 = pickle.load(f)\n",
    "    \n",
    "with open('./../data/trainingsets/60000_train_regular_pubqc/image_test.pickle', 'rb') as f:\n",
    "    X_smiles_val0, SMILES_val0, y_val00 = pickle.load(f)\n",
    "\n",
    "with open('./../data/trainingsets/60000_train_regular_pubqc/tokenizer.pickle', 'rb') as f:\n",
    "    tokenizer = pickle.load(f)\n",
    "tokenizer[0] = ' '"
   ]
  },
  {
   "cell_type": "code",
   "execution_count": 8,
   "id": "16db4527",
   "metadata": {},
   "outputs": [
    {
     "name": "stdout",
     "output_type": "stream",
     "text": [
      "First SMILES in pubqc Nc1nc[nH]c2ncnc1-2.\n",
      "First SMILES in pubqc Nc1nc[nH]c2ncnc1-2\n",
      "(130920,)\n",
      "(130920,)\n"
     ]
    }
   ],
   "source": [
    "SMILES_ = np.concatenate ((SMILES_train0, SMILES_val0))\n",
    "print ('First SMILES in pubqc', SMILES_[0])\n",
    "SMILES = []\n",
    "\n",
    "# save as canonical SMILES to find duplicates\n",
    "# the gen smiles already converted to Canonical\n",
    "for s in SMILES_:\n",
    "    try:\n",
    "        m = Chem.MolFromSmiles (s[:-1])\n",
    "        ss = Chem.MolToSmiles(m)\n",
    "        SMILES.append(ss)\n",
    "    except Exception as error:\n",
    "        print (error)\n",
    "#SMILES = SMILES.astype('str')\n",
    "print ('First SMILES in pubqc', SMILES[0])\n",
    "print (np.array(SMILES).shape)\n",
    "print (SMILES_.shape)\n",
    "SMILES_pubqc = np.array(SMILES)\n",
    "gap_pubqc = np.concatenate((y_train00, y_val00))\n",
    "X_SMILES_pubqc = np.concatenate((X_smiles_train0, X_smiles_val0))\n",
    "\n",
    "data_pubqc = {}\n",
    "data_pubqc ['SMILES'] = SMILES_pubqc\n",
    "data_pubqc ['gap'] = gap_pubqc\n",
    "data_pubqc = pd.DataFrame(data_pubqc)"
   ]
  },
  {
   "cell_type": "code",
   "execution_count": 10,
   "id": "0691fd65",
   "metadata": {},
   "outputs": [],
   "source": [
    "SMILES_val = []\n",
    "for s in SMILES_val0:\n",
    "    try:\n",
    "        m = Chem.MolFromSmiles (s[:-1])\n",
    "        ss = Chem.MolToSmiles(m)\n",
    "        SMILES_val.append(ss)\n",
    "    except Exception as error:\n",
    "        print (error)\n",
    "\n",
    "SMILES_train = []\n",
    "for s in SMILES_train0:\n",
    "    try:\n",
    "        m = Chem.MolFromSmiles (s[:-1])\n",
    "        ss = Chem.MolToSmiles(m)\n",
    "        SMILES_train.append(ss)\n",
    "    except Exception as error:\n",
    "        print (error)\n",
    "\n",
    "data_pubqc_train = {}\n",
    "data_pubqc_train ['SMILES'] = SMILES_train\n",
    "data_pubqc_train ['gap'] = y_train00\n",
    "data_pubqc_train = pd.DataFrame(data_pubqc_train)\n",
    "\n",
    "data_pubqc_test = {}\n",
    "data_pubqc_test ['SMILES'] = SMILES_val\n",
    "data_pubqc_test ['gap'] = y_val00\n",
    "data_pubqc_test = pd.DataFrame(data_pubqc_test)"
   ]
  },
  {
   "cell_type": "code",
   "execution_count": 12,
   "id": "dd03101c",
   "metadata": {},
   "outputs": [
    {
     "name": "stdout",
     "output_type": "stream",
     "text": [
      "Same generated SMILES compared to train: \n",
      "                    SMILES  des_gap   pred_gap  Err_pred_des     gap\n",
      "0           C=C1C(C)CCCC1C   8.2988   7.495655      0.096778   7.244\n",
      "1     CCCCCCCOC(=O)C(C)CCC   6.8302   7.702643      0.127733   7.529\n",
      "2        CCCC(CC)CC(C)(C)O   9.7336   8.649860      0.111340   8.795\n",
      "3        CC(C)CCCCCCCCCCCO   9.8362   8.737241      0.111726   9.018\n",
      "4             CCC(C)(C)CCO   8.7509   8.991986      0.027550   8.890\n",
      "5     CCCCCCCCCCC(O)(O)CCC   4.7396   9.011425      0.901305   9.138\n",
      "6       CC1CCC(C)(C)C(C)C1  10.3670   9.500378      0.083594   9.647\n",
      "7     CCCCCC(CC(C)C)C(C)CC  10.1204   9.632627      0.048197   9.834\n",
      "8     CCCC(C)CC(CC)CCC(C)C   6.9355   9.681170      0.395886   9.641\n",
      "9   CCC(C)CC(C)CC(C)CC(C)C   8.6864   9.752189      0.122696   9.747\n",
      "10           CCCCC(CCC)CCC  10.4087   9.768443      0.061512   9.957\n",
      "11    CCCCC(C)C(CC)CCC(C)C   9.9229   9.806534      0.011727   9.979\n",
      "12             CCCCCCCCCCC   9.8362   9.818226      0.001827  10.185\n",
      "13      CCCCC(C)CC(C)(C)CC  10.6942   9.822683      0.081494   9.946\n",
      "14    CCCCC(C)CCC(C)(C)CCC   9.8374   9.881489      0.004482   9.747\n",
      "15     CCCCCCCCC(C)CCCCCCC  10.1414   9.914420      0.022382   9.938\n",
      "16      CCCCCCCC(C)(C)CCCC   8.6117   9.955908      0.156091   9.959\n",
      "17    CCCCCCC(C)CC(C)(C)CC   9.6398   9.983419      0.035646   9.793\n",
      "18      CCCCCCCCCC(C)(C)CC  10.1396  10.020069      0.011789   9.837\n",
      "19      CCCCCCCCCC(C)C(C)C  10.1414  10.023668      0.011609   9.905\n"
     ]
    }
   ],
   "source": [
    "# find the repetitives from train\n",
    "database_samples_train = pd.merge(gen_SMILES, data_pubqc_train, on = 'SMILES', how = 'inner')\n",
    "print ( \"Same generated SMILES compared to train: \\n{}\".format(database_samples_train))"
   ]
  },
  {
   "cell_type": "code",
   "execution_count": 13,
   "id": "8525cb45",
   "metadata": {},
   "outputs": [
    {
     "data": {
      "text/plain": [
       "[<matplotlib.lines.Line2D at 0x7fceb5340820>]"
      ]
     },
     "execution_count": 13,
     "metadata": {},
     "output_type": "execute_result"
    },
    {
     "data": {
      "image/png": "[encoded data removed]",
      "text/plain": [
       "<Figure size 640x480 with 1 Axes>"
      ]
     },
     "metadata": {},
     "output_type": "display_data"
    }
   ],
   "source": [
    "plt.scatter (database_samples_train['gap'], database_samples_train['pred_gap'])\n",
    "plt.plot ([0, 11], [0, 11])"
   ]
  },
  {
   "cell_type": "code",
   "execution_count": 21,
   "id": "3017a2bf",
   "metadata": {},
   "outputs": [
    {
     "name": "stdout",
     "output_type": "stream",
     "text": [
      "               SMILES    gap\n",
      "43935  C=C1C(C)CCCC1C  7.244\n",
      "                     SMILES    gap\n",
      "29979  CCCCCCCOC(=O)C(C)CCC  7.529\n",
      "                  SMILES    gap\n",
      "28169  CCCC(CC)CC(C)(C)O  8.795\n",
      "                  SMILES    gap\n",
      "68709  CC(C)CCCCCCCCCCCO  9.018\n",
      "             SMILES   gap\n",
      "14265  CCC(C)(C)CCO  8.89\n",
      "                     SMILES    gap\n",
      "68066  CCCCCCCCCCC(O)(O)CCC  9.138\n",
      "                   SMILES    gap\n",
      "69675  CC1CCC(C)(C)C(C)C1  9.647\n",
      "                     SMILES    gap\n",
      "43519  CCCCCC(CC(C)C)C(C)CC  9.834\n",
      "                     SMILES    gap\n",
      "70064  CCCC(C)CC(CC)CCC(C)C  9.641\n",
      "                       SMILES    gap\n",
      "48462  CCC(C)CC(C)CC(C)CC(C)C  9.747\n",
      "              SMILES    gap\n",
      "92195  CCCCC(CCC)CCC  9.957\n",
      "                     SMILES    gap\n",
      "92403  CCCCC(C)C(CC)CCC(C)C  9.979\n",
      "            SMILES     gap\n",
      "27750  CCCCCCCCCCC  10.185\n",
      "                   SMILES    gap\n",
      "92315  CCCCC(C)CC(C)(C)CC  9.946\n",
      "                     SMILES    gap\n",
      "48451  CCCCC(C)CCC(C)(C)CCC  9.747\n",
      "                    SMILES    gap\n",
      "92221  CCCCCCCCC(C)CCCCCCC  9.938\n",
      "                   SMILES    gap\n",
      "92241  CCCCCCCC(C)(C)CCCC  9.959\n",
      "                     SMILES    gap\n",
      "48514  CCCCCCC(C)CC(C)(C)CC  9.793\n",
      "                   SMILES    gap\n",
      "43202  CCCCCCCCCC(C)(C)CC  9.837\n",
      "                   SMILES    gap\n",
      "92445  CCCCCCCCCC(C)C(C)C  9.905\n"
     ]
    }
   ],
   "source": [
    "for rep_smile in database_samples_train['SMILES']:\n",
    "    indices = np.where ( [SMILES_pubqc==rep_smile])\n",
    "    print (data_pubqc.iloc[indices[1]])"
   ]
  },
  {
   "cell_type": "code",
   "execution_count": 22,
   "id": "81a3c2a9",
   "metadata": {},
   "outputs": [
    {
     "name": "stdout",
     "output_type": "stream",
     "text": [
      "Same generated SMILES compared to train: \n",
      "                 SMILES  des_gap  pred_gap  Err_pred_des    gap\n",
      "0     CCCCCCCCOC1CCCCC1   9.7726  9.217565      0.056795  8.612\n",
      "1    CC1CCCC1(C)C1CCCC1   6.4257  9.574300      0.490001  9.783\n",
      "2  CCCC(C)C(CC)(CCC)CCC   8.4415  9.610742      0.138511  9.709\n",
      "3   CCCCCCCCC(C)C(C)CCC  10.5606  9.814297      0.070669  9.940\n",
      "4    CCCCC(CC)C(C)C(C)C  10.3445  9.854548      0.047363  9.744\n"
     ]
    }
   ],
   "source": [
    "# find the repetitives from test\n",
    "database_samples_test = pd.merge(gen_SMILES, data_pubqc_test, on = 'SMILES', how = 'inner')\n",
    "print ( \"Same generated SMILES compared to train: \\n{}\".format(database_samples_test))"
   ]
  },
  {
   "cell_type": "code",
   "execution_count": 23,
   "id": "3f0f797d",
   "metadata": {},
   "outputs": [
    {
     "name": "stdout",
     "output_type": "stream",
     "text": [
      "                   SMILES    gap\n",
      "112218  CCCCCCCCOC1CCCCC1  8.612\n",
      "                    SMILES    gap\n",
      "108318  CC1CCCC1(C)C1CCCC1  9.783\n",
      "                      SMILES    gap\n",
      "121264  CCCC(C)C(CC)(CCC)CCC  9.709\n",
      "                     SMILES   gap\n",
      "126218  CCCCCCCCC(C)C(C)CCC  9.94\n",
      "                    SMILES    gap\n",
      "106388  CCCCC(CC)C(C)C(C)C  9.744\n"
     ]
    }
   ],
   "source": [
    "for rep_smile in database_samples_test['SMILES']:\n",
    "    indices = np.where ( [SMILES_pubqc==rep_smile])\n",
    "    print (data_pubqc.iloc[indices[1]])"
   ]
  },
  {
   "cell_type": "code",
   "execution_count": 24,
   "id": "96a02cd6",
   "metadata": {},
   "outputs": [
    {
     "data": {
      "text/html": [
       "<div>\n",
       "<style scoped>\n",
       "    .dataframe tbody tr th:only-of-type {\n",
       "        vertical-align: middle;\n",
       "    }\n",
       "\n",
       "    .dataframe tbody tr th {\n",
       "        vertical-align: top;\n",
       "    }\n",
       "\n",
       "    .dataframe thead th {\n",
       "        text-align: right;\n",
       "    }\n",
       "</style>\n",
       "<table border=\"1\" class=\"dataframe\">\n",
       "  <thead>\n",
       "    <tr style=\"text-align: right;\">\n",
       "      <th></th>\n",
       "      <th>SMILES</th>\n",
       "      <th>des_gap</th>\n",
       "      <th>pred_gap</th>\n",
       "      <th>Err_pred_des</th>\n",
       "      <th>gap</th>\n",
       "    </tr>\n",
       "  </thead>\n",
       "  <tbody>\n",
       "    <tr>\n",
       "      <th>0</th>\n",
       "      <td>C=C1C(C)CCCC1C</td>\n",
       "      <td>8.2988</td>\n",
       "      <td>7.495655</td>\n",
       "      <td>0.096778</td>\n",
       "      <td>7.244</td>\n",
       "    </tr>\n",
       "    <tr>\n",
       "      <th>1</th>\n",
       "      <td>CCCCCCCOC(=O)C(C)CCC</td>\n",
       "      <td>6.8302</td>\n",
       "      <td>7.702643</td>\n",
       "      <td>0.127733</td>\n",
       "      <td>7.529</td>\n",
       "    </tr>\n",
       "    <tr>\n",
       "      <th>2</th>\n",
       "      <td>CCCC(CC)CC(C)(C)O</td>\n",
       "      <td>9.7336</td>\n",
       "      <td>8.649860</td>\n",
       "      <td>0.111340</td>\n",
       "      <td>8.795</td>\n",
       "    </tr>\n",
       "    <tr>\n",
       "      <th>3</th>\n",
       "      <td>CC(C)CCCCCCCCCCCO</td>\n",
       "      <td>9.8362</td>\n",
       "      <td>8.737241</td>\n",
       "      <td>0.111726</td>\n",
       "      <td>9.018</td>\n",
       "    </tr>\n",
       "    <tr>\n",
       "      <th>4</th>\n",
       "      <td>CCC(C)(C)CCO</td>\n",
       "      <td>8.7509</td>\n",
       "      <td>8.991986</td>\n",
       "      <td>0.027550</td>\n",
       "      <td>8.890</td>\n",
       "    </tr>\n",
       "    <tr>\n",
       "      <th>5</th>\n",
       "      <td>CCCCCCCCCCC(O)(O)CCC</td>\n",
       "      <td>4.7396</td>\n",
       "      <td>9.011425</td>\n",
       "      <td>0.901305</td>\n",
       "      <td>9.138</td>\n",
       "    </tr>\n",
       "    <tr>\n",
       "      <th>6</th>\n",
       "      <td>CCCCCCCCOC1CCCCC1</td>\n",
       "      <td>9.7726</td>\n",
       "      <td>9.217565</td>\n",
       "      <td>0.056795</td>\n",
       "      <td>8.612</td>\n",
       "    </tr>\n",
       "    <tr>\n",
       "      <th>7</th>\n",
       "      <td>CC1CCC(C)(C)C(C)C1</td>\n",
       "      <td>10.3670</td>\n",
       "      <td>9.500378</td>\n",
       "      <td>0.083594</td>\n",
       "      <td>9.647</td>\n",
       "    </tr>\n",
       "    <tr>\n",
       "      <th>8</th>\n",
       "      <td>CC1CCCC1(C)C1CCCC1</td>\n",
       "      <td>6.4257</td>\n",
       "      <td>9.574300</td>\n",
       "      <td>0.490001</td>\n",
       "      <td>9.783</td>\n",
       "    </tr>\n",
       "    <tr>\n",
       "      <th>9</th>\n",
       "      <td>CCCC(C)C(CC)(CCC)CCC</td>\n",
       "      <td>8.4415</td>\n",
       "      <td>9.610742</td>\n",
       "      <td>0.138511</td>\n",
       "      <td>9.709</td>\n",
       "    </tr>\n",
       "    <tr>\n",
       "      <th>10</th>\n",
       "      <td>CCCCCC(CC(C)C)C(C)CC</td>\n",
       "      <td>10.1204</td>\n",
       "      <td>9.632627</td>\n",
       "      <td>0.048197</td>\n",
       "      <td>9.834</td>\n",
       "    </tr>\n",
       "    <tr>\n",
       "      <th>11</th>\n",
       "      <td>CCCC(C)CC(CC)CCC(C)C</td>\n",
       "      <td>6.9355</td>\n",
       "      <td>9.681170</td>\n",
       "      <td>0.395886</td>\n",
       "      <td>9.641</td>\n",
       "    </tr>\n",
       "    <tr>\n",
       "      <th>12</th>\n",
       "      <td>CCC(C)CC(C)CC(C)CC(C)C</td>\n",
       "      <td>8.6864</td>\n",
       "      <td>9.752189</td>\n",
       "      <td>0.122696</td>\n",
       "      <td>9.747</td>\n",
       "    </tr>\n",
       "    <tr>\n",
       "      <th>13</th>\n",
       "      <td>CCCCC(CCC)CCC</td>\n",
       "      <td>10.4087</td>\n",
       "      <td>9.768443</td>\n",
       "      <td>0.061512</td>\n",
       "      <td>9.957</td>\n",
       "    </tr>\n",
       "    <tr>\n",
       "      <th>14</th>\n",
       "      <td>CCCCC(C)C(CC)CCC(C)C</td>\n",
       "      <td>9.9229</td>\n",
       "      <td>9.806534</td>\n",
       "      <td>0.011727</td>\n",
       "      <td>9.979</td>\n",
       "    </tr>\n",
       "    <tr>\n",
       "      <th>15</th>\n",
       "      <td>CCCCCCCCC(C)C(C)CCC</td>\n",
       "      <td>10.5606</td>\n",
       "      <td>9.814297</td>\n",
       "      <td>0.070669</td>\n",
       "      <td>9.940</td>\n",
       "    </tr>\n",
       "    <tr>\n",
       "      <th>16</th>\n",
       "      <td>CCCCCCCCCCC</td>\n",
       "      <td>9.8362</td>\n",
       "      <td>9.818226</td>\n",
       "      <td>0.001827</td>\n",
       "      <td>10.185</td>\n",
       "    </tr>\n",
       "    <tr>\n",
       "      <th>17</th>\n",
       "      <td>CCCCC(C)CC(C)(C)CC</td>\n",
       "      <td>10.6942</td>\n",
       "      <td>9.822683</td>\n",
       "      <td>0.081494</td>\n",
       "      <td>9.946</td>\n",
       "    </tr>\n",
       "    <tr>\n",
       "      <th>18</th>\n",
       "      <td>CCCCC(CC)C(C)C(C)C</td>\n",
       "      <td>10.3445</td>\n",
       "      <td>9.854548</td>\n",
       "      <td>0.047363</td>\n",
       "      <td>9.744</td>\n",
       "    </tr>\n",
       "    <tr>\n",
       "      <th>19</th>\n",
       "      <td>CCCCC(C)CCC(C)(C)CCC</td>\n",
       "      <td>9.8374</td>\n",
       "      <td>9.881489</td>\n",
       "      <td>0.004482</td>\n",
       "      <td>9.747</td>\n",
       "    </tr>\n",
       "    <tr>\n",
       "      <th>20</th>\n",
       "      <td>CCCCCCCCC(C)CCCCCCC</td>\n",
       "      <td>10.1414</td>\n",
       "      <td>9.914420</td>\n",
       "      <td>0.022382</td>\n",
       "      <td>9.938</td>\n",
       "    </tr>\n",
       "    <tr>\n",
       "      <th>21</th>\n",
       "      <td>CCCCCCCC(C)(C)CCCC</td>\n",
       "      <td>8.6117</td>\n",
       "      <td>9.955908</td>\n",
       "      <td>0.156091</td>\n",
       "      <td>9.959</td>\n",
       "    </tr>\n",
       "    <tr>\n",
       "      <th>22</th>\n",
       "      <td>CCCCCCC(C)CC(C)(C)CC</td>\n",
       "      <td>9.6398</td>\n",
       "      <td>9.983419</td>\n",
       "      <td>0.035646</td>\n",
       "      <td>9.793</td>\n",
       "    </tr>\n",
       "    <tr>\n",
       "      <th>23</th>\n",
       "      <td>CCCCCCCCCC(C)(C)CC</td>\n",
       "      <td>10.1396</td>\n",
       "      <td>10.020069</td>\n",
       "      <td>0.011789</td>\n",
       "      <td>9.837</td>\n",
       "    </tr>\n",
       "    <tr>\n",
       "      <th>24</th>\n",
       "      <td>CCCCCCCCCC(C)C(C)C</td>\n",
       "      <td>10.1414</td>\n",
       "      <td>10.023668</td>\n",
       "      <td>0.011609</td>\n",
       "      <td>9.905</td>\n",
       "    </tr>\n",
       "  </tbody>\n",
       "</table>\n",
       "</div>"
      ],
      "text/plain": [
       "                    SMILES  des_gap   pred_gap  Err_pred_des     gap\n",
       "0           C=C1C(C)CCCC1C   8.2988   7.495655      0.096778   7.244\n",
       "1     CCCCCCCOC(=O)C(C)CCC   6.8302   7.702643      0.127733   7.529\n",
       "2        CCCC(CC)CC(C)(C)O   9.7336   8.649860      0.111340   8.795\n",
       "3        CC(C)CCCCCCCCCCCO   9.8362   8.737241      0.111726   9.018\n",
       "4             CCC(C)(C)CCO   8.7509   8.991986      0.027550   8.890\n",
       "5     CCCCCCCCCCC(O)(O)CCC   4.7396   9.011425      0.901305   9.138\n",
       "6        CCCCCCCCOC1CCCCC1   9.7726   9.217565      0.056795   8.612\n",
       "7       CC1CCC(C)(C)C(C)C1  10.3670   9.500378      0.083594   9.647\n",
       "8       CC1CCCC1(C)C1CCCC1   6.4257   9.574300      0.490001   9.783\n",
       "9     CCCC(C)C(CC)(CCC)CCC   8.4415   9.610742      0.138511   9.709\n",
       "10    CCCCCC(CC(C)C)C(C)CC  10.1204   9.632627      0.048197   9.834\n",
       "11    CCCC(C)CC(CC)CCC(C)C   6.9355   9.681170      0.395886   9.641\n",
       "12  CCC(C)CC(C)CC(C)CC(C)C   8.6864   9.752189      0.122696   9.747\n",
       "13           CCCCC(CCC)CCC  10.4087   9.768443      0.061512   9.957\n",
       "14    CCCCC(C)C(CC)CCC(C)C   9.9229   9.806534      0.011727   9.979\n",
       "15     CCCCCCCCC(C)C(C)CCC  10.5606   9.814297      0.070669   9.940\n",
       "16             CCCCCCCCCCC   9.8362   9.818226      0.001827  10.185\n",
       "17      CCCCC(C)CC(C)(C)CC  10.6942   9.822683      0.081494   9.946\n",
       "18      CCCCC(CC)C(C)C(C)C  10.3445   9.854548      0.047363   9.744\n",
       "19    CCCCC(C)CCC(C)(C)CCC   9.8374   9.881489      0.004482   9.747\n",
       "20     CCCCCCCCC(C)CCCCCCC  10.1414   9.914420      0.022382   9.938\n",
       "21      CCCCCCCC(C)(C)CCCC   8.6117   9.955908      0.156091   9.959\n",
       "22    CCCCCCC(C)CC(C)(C)CC   9.6398   9.983419      0.035646   9.793\n",
       "23      CCCCCCCCCC(C)(C)CC  10.1396  10.020069      0.011789   9.837\n",
       "24      CCCCCCCCCC(C)C(C)C  10.1414  10.023668      0.011609   9.905"
      ]
     },
     "execution_count": 24,
     "metadata": {},
     "output_type": "execute_result"
    }
   ],
   "source": [
    "# find the repetitives from whole library\n",
    "rep_samples = pd.merge(gen_SMILES, data_pubqc, on = 'SMILES', how = 'inner')\n",
    "rep_samples\n",
    "#print ( \"Same generated SMILES compared to train: \\n{}\".format(database_samples))"
   ]
  },
  {
   "cell_type": "code",
   "execution_count": 25,
   "id": "8b154a43",
   "metadata": {},
   "outputs": [],
   "source": [
    "#r2_score(rep_samples['gap'], rep_samples['pred_gap'])"
   ]
  },
  {
   "cell_type": "code",
   "execution_count": 26,
   "id": "72f0de8c",
   "metadata": {},
   "outputs": [
    {
     "name": "stdout",
     "output_type": "stream",
     "text": [
      "WARNING:tensorflow:No training configuration found in the save file, so the model was *not* compiled. Compile it manually.\n",
      "WARNING:tensorflow:No training configuration found in the save file, so the model was *not* compiled. Compile it manually.\n"
     ]
    }
   ],
   "source": [
    "from tensorflow.keras.models import Model, load_model\n",
    "\n",
    "with open('./../data/trainingsets/60000_train_regular_pubqc/image_train.pickle', 'rb') as f:\n",
    "    X_smiles_train, SMILES_train, y_train0 = pickle.load(f)\n",
    "\n",
    "with open('./../data/trainingsets/60000_train_regular_pubqc/image_test.pickle', 'rb') as f:\n",
    "    X_smiles_test, SMILES_test, y_test0 = pickle.load(f)\n",
    "    \n",
    "with open('./../data/trainingsets/60000_train_regular_pubqc/tokenizer.pickle', 'rb') as f:\n",
    "    tokenizer = pickle.load(f)\n",
    "tokenizer[0] = ' '\n",
    "\n",
    "encoder = load_model('./../data/nns/keep/encoder.h5')\n",
    "decoder = load_model('./../data/nns/keep/decoder.h5')\n",
    "model = load_model('./../data/nns/keep/ae_model.h5')\n",
    "train_atoms_embedding, train_bonds_embedding, _ = encoder.predict([X_smiles_train], verbose=0)\n",
    "atoms_embedding, bonds_embedding, _ = encoder.predict([X_smiles_train], verbose=0)\n",
    "atoms_val, bonds_val, _ = encoder.predict([X_smiles_test], verbose=0)\n",
    "\n"
   ]
  },
  {
   "cell_type": "code",
   "execution_count": 27,
   "id": "8973894e",
   "metadata": {},
   "outputs": [
    {
     "name": "stdout",
     "output_type": "stream",
     "text": [
      "WARNING:tensorflow:No training configuration found in the save file, so the model was *not* compiled. Compile it manually.\n"
     ]
    }
   ],
   "source": [
    "regressor =     load_model('./../data/nns/keep/regressor.h5')\n",
    "regressor_top = load_model('./../data/nns/keep/regressor_top.h5')"
   ]
  },
  {
   "cell_type": "code",
   "execution_count": 28,
   "id": "fc2a1ee3",
   "metadata": {},
   "outputs": [
    {
     "name": "stdout",
     "output_type": "stream",
     "text": [
      "  80/3316 [..............................] - ETA: 6s"
     ]
    },
    {
     "name": "stderr",
     "output_type": "stream",
     "text": [
      "2023-05-13 13:21:16.232501: I tensorflow/compiler/xla/stream_executor/cuda/cuda_blas.cc:630] TensorFloat-32 will be used for the matrix multiplication. This will only be logged once.\n"
     ]
    },
    {
     "name": "stdout",
     "output_type": "stream",
     "text": [
      "3316/3316 [==============================] - 7s 2ms/step\n"
     ]
    }
   ],
   "source": [
    "pred_train = regressor.predict([atoms_embedding, bonds_embedding])\n",
    "gap_max, gap_min = 11, 0\n",
    "pred_train0 = pred_train*(gap_max-gap_min)+gap_min"
   ]
  },
  {
   "cell_type": "code",
   "execution_count": 29,
   "id": "61e05710",
   "metadata": {},
   "outputs": [
    {
     "name": "stdout",
     "output_type": "stream",
     "text": [
      "776/776 [==============================] - 2s 2ms/step\n"
     ]
    }
   ],
   "source": [
    "pred = regressor.predict([atoms_val, bonds_val])\n",
    "gap_max, gap_min = 11, 0\n",
    "pred0 = pred*(gap_max-gap_min)+gap_min"
   ]
  },
  {
   "cell_type": "code",
   "execution_count": 30,
   "id": "0ca20612",
   "metadata": {},
   "outputs": [],
   "source": [
    "test_temp = pd.DataFrame({})\n",
    "test_temp ['true_gap'] = y_test0\n",
    "test_temp ['pred_gap'] = pred0\n",
    "test_temp ['SMILES'] = SMILES_test"
   ]
  },
  {
   "cell_type": "code",
   "execution_count": 31,
   "id": "8f1f2f22",
   "metadata": {},
   "outputs": [],
   "source": [
    "train_temp = pd.DataFrame({})\n",
    "train_temp ['true_gap'] = y_train0\n",
    "train_temp ['pred_gap'] = pred_train0\n",
    "train_temp ['SMILES'] = SMILES_train"
   ]
  },
  {
   "cell_type": "code",
   "execution_count": 32,
   "id": "8308ac78",
   "metadata": {},
   "outputs": [
    {
     "data": {
      "text/html": [
       "<div>\n",
       "<style scoped>\n",
       "    .dataframe tbody tr th:only-of-type {\n",
       "        vertical-align: middle;\n",
       "    }\n",
       "\n",
       "    .dataframe tbody tr th {\n",
       "        vertical-align: top;\n",
       "    }\n",
       "\n",
       "    .dataframe thead th {\n",
       "        text-align: right;\n",
       "    }\n",
       "</style>\n",
       "<table border=\"1\" class=\"dataframe\">\n",
       "  <thead>\n",
       "    <tr style=\"text-align: right;\">\n",
       "      <th></th>\n",
       "      <th>SMILES</th>\n",
       "      <th>des_gap</th>\n",
       "      <th>pred_gap</th>\n",
       "      <th>Err_pred_des</th>\n",
       "      <th>gap</th>\n",
       "    </tr>\n",
       "  </thead>\n",
       "  <tbody>\n",
       "    <tr>\n",
       "      <th>0</th>\n",
       "      <td>C=C1C(C)CCCC1C</td>\n",
       "      <td>8.2988</td>\n",
       "      <td>7.495655</td>\n",
       "      <td>0.096778</td>\n",
       "      <td>7.244</td>\n",
       "    </tr>\n",
       "    <tr>\n",
       "      <th>1</th>\n",
       "      <td>CCCCCCCOC(=O)C(C)CCC</td>\n",
       "      <td>6.8302</td>\n",
       "      <td>7.702643</td>\n",
       "      <td>0.127733</td>\n",
       "      <td>7.529</td>\n",
       "    </tr>\n",
       "    <tr>\n",
       "      <th>2</th>\n",
       "      <td>CCCC(CC)CC(C)(C)O</td>\n",
       "      <td>9.7336</td>\n",
       "      <td>8.649860</td>\n",
       "      <td>0.111340</td>\n",
       "      <td>8.795</td>\n",
       "    </tr>\n",
       "    <tr>\n",
       "      <th>3</th>\n",
       "      <td>CC(C)CCCCCCCCCCCO</td>\n",
       "      <td>9.8362</td>\n",
       "      <td>8.737241</td>\n",
       "      <td>0.111726</td>\n",
       "      <td>9.018</td>\n",
       "    </tr>\n",
       "    <tr>\n",
       "      <th>4</th>\n",
       "      <td>CCC(C)(C)CCO</td>\n",
       "      <td>8.7509</td>\n",
       "      <td>8.991986</td>\n",
       "      <td>0.027550</td>\n",
       "      <td>8.890</td>\n",
       "    </tr>\n",
       "    <tr>\n",
       "      <th>5</th>\n",
       "      <td>CCCCCCCCCCC(O)(O)CCC</td>\n",
       "      <td>4.7396</td>\n",
       "      <td>9.011425</td>\n",
       "      <td>0.901305</td>\n",
       "      <td>9.138</td>\n",
       "    </tr>\n",
       "    <tr>\n",
       "      <th>6</th>\n",
       "      <td>CCCCCCCCOC1CCCCC1</td>\n",
       "      <td>9.7726</td>\n",
       "      <td>9.217565</td>\n",
       "      <td>0.056795</td>\n",
       "      <td>8.612</td>\n",
       "    </tr>\n",
       "    <tr>\n",
       "      <th>7</th>\n",
       "      <td>CC1CCC(C)(C)C(C)C1</td>\n",
       "      <td>10.3670</td>\n",
       "      <td>9.500378</td>\n",
       "      <td>0.083594</td>\n",
       "      <td>9.647</td>\n",
       "    </tr>\n",
       "    <tr>\n",
       "      <th>8</th>\n",
       "      <td>CC1CCCC1(C)C1CCCC1</td>\n",
       "      <td>6.4257</td>\n",
       "      <td>9.574300</td>\n",
       "      <td>0.490001</td>\n",
       "      <td>9.783</td>\n",
       "    </tr>\n",
       "    <tr>\n",
       "      <th>9</th>\n",
       "      <td>CCCC(C)C(CC)(CCC)CCC</td>\n",
       "      <td>8.4415</td>\n",
       "      <td>9.610742</td>\n",
       "      <td>0.138511</td>\n",
       "      <td>9.709</td>\n",
       "    </tr>\n",
       "    <tr>\n",
       "      <th>10</th>\n",
       "      <td>CCCCCC(CC(C)C)C(C)CC</td>\n",
       "      <td>10.1204</td>\n",
       "      <td>9.632627</td>\n",
       "      <td>0.048197</td>\n",
       "      <td>9.834</td>\n",
       "    </tr>\n",
       "    <tr>\n",
       "      <th>11</th>\n",
       "      <td>CCCC(C)CC(CC)CCC(C)C</td>\n",
       "      <td>6.9355</td>\n",
       "      <td>9.681170</td>\n",
       "      <td>0.395886</td>\n",
       "      <td>9.641</td>\n",
       "    </tr>\n",
       "    <tr>\n",
       "      <th>12</th>\n",
       "      <td>CCC(C)CC(C)CC(C)CC(C)C</td>\n",
       "      <td>8.6864</td>\n",
       "      <td>9.752189</td>\n",
       "      <td>0.122696</td>\n",
       "      <td>9.747</td>\n",
       "    </tr>\n",
       "    <tr>\n",
       "      <th>13</th>\n",
       "      <td>CCCCC(CCC)CCC</td>\n",
       "      <td>10.4087</td>\n",
       "      <td>9.768443</td>\n",
       "      <td>0.061512</td>\n",
       "      <td>9.957</td>\n",
       "    </tr>\n",
       "    <tr>\n",
       "      <th>14</th>\n",
       "      <td>CCCCC(C)C(CC)CCC(C)C</td>\n",
       "      <td>9.9229</td>\n",
       "      <td>9.806534</td>\n",
       "      <td>0.011727</td>\n",
       "      <td>9.979</td>\n",
       "    </tr>\n",
       "    <tr>\n",
       "      <th>15</th>\n",
       "      <td>CCCCCCCCC(C)C(C)CCC</td>\n",
       "      <td>10.5606</td>\n",
       "      <td>9.814297</td>\n",
       "      <td>0.070669</td>\n",
       "      <td>9.940</td>\n",
       "    </tr>\n",
       "    <tr>\n",
       "      <th>16</th>\n",
       "      <td>CCCCCCCCCCC</td>\n",
       "      <td>9.8362</td>\n",
       "      <td>9.818226</td>\n",
       "      <td>0.001827</td>\n",
       "      <td>10.185</td>\n",
       "    </tr>\n",
       "    <tr>\n",
       "      <th>17</th>\n",
       "      <td>CCCCC(C)CC(C)(C)CC</td>\n",
       "      <td>10.6942</td>\n",
       "      <td>9.822683</td>\n",
       "      <td>0.081494</td>\n",
       "      <td>9.946</td>\n",
       "    </tr>\n",
       "    <tr>\n",
       "      <th>18</th>\n",
       "      <td>CCCCC(CC)C(C)C(C)C</td>\n",
       "      <td>10.3445</td>\n",
       "      <td>9.854548</td>\n",
       "      <td>0.047363</td>\n",
       "      <td>9.744</td>\n",
       "    </tr>\n",
       "    <tr>\n",
       "      <th>19</th>\n",
       "      <td>CCCCC(C)CCC(C)(C)CCC</td>\n",
       "      <td>9.8374</td>\n",
       "      <td>9.881489</td>\n",
       "      <td>0.004482</td>\n",
       "      <td>9.747</td>\n",
       "    </tr>\n",
       "    <tr>\n",
       "      <th>20</th>\n",
       "      <td>CCCCCCCCC(C)CCCCCCC</td>\n",
       "      <td>10.1414</td>\n",
       "      <td>9.914420</td>\n",
       "      <td>0.022382</td>\n",
       "      <td>9.938</td>\n",
       "    </tr>\n",
       "    <tr>\n",
       "      <th>21</th>\n",
       "      <td>CCCCCCCC(C)(C)CCCC</td>\n",
       "      <td>8.6117</td>\n",
       "      <td>9.955908</td>\n",
       "      <td>0.156091</td>\n",
       "      <td>9.959</td>\n",
       "    </tr>\n",
       "    <tr>\n",
       "      <th>22</th>\n",
       "      <td>CCCCCCC(C)CC(C)(C)CC</td>\n",
       "      <td>9.6398</td>\n",
       "      <td>9.983419</td>\n",
       "      <td>0.035646</td>\n",
       "      <td>9.793</td>\n",
       "    </tr>\n",
       "    <tr>\n",
       "      <th>23</th>\n",
       "      <td>CCCCCCCCCC(C)(C)CC</td>\n",
       "      <td>10.1396</td>\n",
       "      <td>10.020069</td>\n",
       "      <td>0.011789</td>\n",
       "      <td>9.837</td>\n",
       "    </tr>\n",
       "    <tr>\n",
       "      <th>24</th>\n",
       "      <td>CCCCCCCCCC(C)C(C)C</td>\n",
       "      <td>10.1414</td>\n",
       "      <td>10.023668</td>\n",
       "      <td>0.011609</td>\n",
       "      <td>9.905</td>\n",
       "    </tr>\n",
       "  </tbody>\n",
       "</table>\n",
       "</div>"
      ],
      "text/plain": [
       "                    SMILES  des_gap   pred_gap  Err_pred_des     gap\n",
       "0           C=C1C(C)CCCC1C   8.2988   7.495655      0.096778   7.244\n",
       "1     CCCCCCCOC(=O)C(C)CCC   6.8302   7.702643      0.127733   7.529\n",
       "2        CCCC(CC)CC(C)(C)O   9.7336   8.649860      0.111340   8.795\n",
       "3        CC(C)CCCCCCCCCCCO   9.8362   8.737241      0.111726   9.018\n",
       "4             CCC(C)(C)CCO   8.7509   8.991986      0.027550   8.890\n",
       "5     CCCCCCCCCCC(O)(O)CCC   4.7396   9.011425      0.901305   9.138\n",
       "6        CCCCCCCCOC1CCCCC1   9.7726   9.217565      0.056795   8.612\n",
       "7       CC1CCC(C)(C)C(C)C1  10.3670   9.500378      0.083594   9.647\n",
       "8       CC1CCCC1(C)C1CCCC1   6.4257   9.574300      0.490001   9.783\n",
       "9     CCCC(C)C(CC)(CCC)CCC   8.4415   9.610742      0.138511   9.709\n",
       "10    CCCCCC(CC(C)C)C(C)CC  10.1204   9.632627      0.048197   9.834\n",
       "11    CCCC(C)CC(CC)CCC(C)C   6.9355   9.681170      0.395886   9.641\n",
       "12  CCC(C)CC(C)CC(C)CC(C)C   8.6864   9.752189      0.122696   9.747\n",
       "13           CCCCC(CCC)CCC  10.4087   9.768443      0.061512   9.957\n",
       "14    CCCCC(C)C(CC)CCC(C)C   9.9229   9.806534      0.011727   9.979\n",
       "15     CCCCCCCCC(C)C(C)CCC  10.5606   9.814297      0.070669   9.940\n",
       "16             CCCCCCCCCCC   9.8362   9.818226      0.001827  10.185\n",
       "17      CCCCC(C)CC(C)(C)CC  10.6942   9.822683      0.081494   9.946\n",
       "18      CCCCC(CC)C(C)C(C)C  10.3445   9.854548      0.047363   9.744\n",
       "19    CCCCC(C)CCC(C)(C)CCC   9.8374   9.881489      0.004482   9.747\n",
       "20     CCCCCCCCC(C)CCCCCCC  10.1414   9.914420      0.022382   9.938\n",
       "21      CCCCCCCC(C)(C)CCCC   8.6117   9.955908      0.156091   9.959\n",
       "22    CCCCCCC(C)CC(C)(C)CC   9.6398   9.983419      0.035646   9.793\n",
       "23      CCCCCCCCCC(C)(C)CC  10.1396  10.020069      0.011789   9.837\n",
       "24      CCCCCCCCCC(C)C(C)C  10.1414  10.023668      0.011609   9.905"
      ]
     },
     "execution_count": 32,
     "metadata": {},
     "output_type": "execute_result"
    }
   ],
   "source": [
    "rep_samples"
   ]
  },
  {
   "cell_type": "code",
   "execution_count": 33,
   "id": "837252a4",
   "metadata": {},
   "outputs": [],
   "source": [
    "test_temp ['SMILES_nodot'] = [i[:-1] for i in test_temp ['SMILES']]\n",
    "train_temp ['SMILES_nodot'] = [i[:-1] for i in train_temp ['SMILES']]"
   ]
  },
  {
   "cell_type": "code",
   "execution_count": 34,
   "id": "0253e723",
   "metadata": {},
   "outputs": [
    {
     "name": "stdout",
     "output_type": "stream",
     "text": [
      "       true_gap  pred_gap           SMILES    SMILES_nodot\n",
      "43935     7.244  7.495372  C=C1C(C)CCCC1C.  C=C1C(C)CCCC1C\n",
      "       true_gap  pred_gap                 SMILES          SMILES_nodot\n",
      "29979     7.529  7.702605  CCCCCCCOC(=O)C(C)CCC.  CCCCCCCOC(=O)C(C)CCC\n",
      "       true_gap  pred_gap              SMILES       SMILES_nodot\n",
      "28169     8.795  8.649422  CCCC(CC)CC(C)(C)O.  CCCC(CC)CC(C)(C)O\n",
      "       true_gap  pred_gap              SMILES       SMILES_nodot\n",
      "68709     9.018  8.737132  CC(C)CCCCCCCCCCCO.  CC(C)CCCCCCCCCCCO\n",
      "       true_gap  pred_gap         SMILES  SMILES_nodot\n",
      "14265      8.89  8.991926  CCC(C)(C)CCO.  CCC(C)(C)CCO\n",
      "       true_gap  pred_gap                 SMILES          SMILES_nodot\n",
      "68066     9.138  9.011566  CCCCCCCCCCC(O)(O)CCC.  CCCCCCCCCCC(O)(O)CCC\n",
      "       true_gap  pred_gap               SMILES        SMILES_nodot\n",
      "69675     9.647  9.500137  CC1CCC(C)(C)C(C)C1.  CC1CCC(C)(C)C(C)C1\n",
      "       true_gap  pred_gap                 SMILES          SMILES_nodot\n",
      "43519     9.834  9.632679  CCCCCC(CC(C)C)C(C)CC.  CCCCCC(CC(C)C)C(C)CC\n",
      "       true_gap  pred_gap                 SMILES          SMILES_nodot\n",
      "70064     9.641  9.680861  CCCC(C)CC(CC)CCC(C)C.  CCCC(C)CC(CC)CCC(C)C\n",
      "       true_gap  pred_gap                   SMILES            SMILES_nodot\n",
      "48462     9.747  9.751818  CCC(C)CC(C)CC(C)CC(C)C.  CCC(C)CC(C)CC(C)CC(C)C\n",
      "       true_gap  pred_gap          SMILES   SMILES_nodot\n",
      "92195     9.957   9.76809  CCCCC(CCC)CCC.  CCCCC(CCC)CCC\n",
      "       true_gap  pred_gap                 SMILES          SMILES_nodot\n",
      "92403     9.979  9.806418  CCCCC(C)C(CC)CCC(C)C.  CCCCC(C)C(CC)CCC(C)C\n",
      "       true_gap  pred_gap        SMILES SMILES_nodot\n",
      "27750    10.185   9.81813  CCCCCCCCCCC.  CCCCCCCCCCC\n",
      "       true_gap  pred_gap               SMILES        SMILES_nodot\n",
      "92315     9.946  9.822515  CCCCC(C)CC(C)(C)CC.  CCCCC(C)CC(C)(C)CC\n",
      "       true_gap  pred_gap                 SMILES          SMILES_nodot\n",
      "48451     9.747  9.881372  CCCCC(C)CCC(C)(C)CCC.  CCCCC(C)CCC(C)(C)CCC\n",
      "       true_gap  pred_gap                SMILES         SMILES_nodot\n",
      "92221     9.938  9.914154  CCCCCCCCC(C)CCCCCCC.  CCCCCCCCC(C)CCCCCCC\n",
      "       true_gap  pred_gap               SMILES        SMILES_nodot\n",
      "92241     9.959  9.955708  CCCCCCCC(C)(C)CCCC.  CCCCCCCC(C)(C)CCCC\n",
      "       true_gap  pred_gap                 SMILES          SMILES_nodot\n",
      "48514     9.793  9.983077  CCCCCCC(C)CC(C)(C)CC.  CCCCCCC(C)CC(C)(C)CC\n",
      "       true_gap  pred_gap               SMILES        SMILES_nodot\n",
      "43202     9.837  10.01997  CCCCCCCCCC(C)(C)CC.  CCCCCCCCCC(C)(C)CC\n",
      "       true_gap   pred_gap               SMILES        SMILES_nodot\n",
      "92445     9.905  10.023507  CCCCCCCCCC(C)C(C)C.  CCCCCCCCCC(C)C(C)C\n"
     ]
    }
   ],
   "source": [
    "pred_gap_rep = []\n",
    "true_gap_rep = []\n",
    "for i in rep_samples['SMILES']:\n",
    "    test = test_temp.loc[test_temp ['SMILES_nodot']==i]\n",
    "    train = train_temp.loc[train_temp ['SMILES_nodot']==i]\n",
    "    if test.shape[0] != 0:\n",
    "        pred_gap_rep.append(test['pred_gap'].iloc[0])\n",
    "        true_gap_rep.append(test['true_gap'].iloc[0])\n",
    "    if train.shape[0] != 0:\n",
    "        print (train)\n",
    "        pred_gap_rep.append(train['pred_gap'].iloc[0])\n",
    "        true_gap_rep.append(train['true_gap'].iloc[0])\n",
    "        "
   ]
  },
  {
   "cell_type": "code",
   "execution_count": 35,
   "id": "ef9d7fcc",
   "metadata": {},
   "outputs": [
    {
     "data": {
      "text/plain": [
       "[<matplotlib.lines.Line2D at 0x7fcdc1aa60d0>]"
      ]
     },
     "execution_count": 35,
     "metadata": {},
     "output_type": "execute_result"
    },
    {
     "data": {
      "image/png": "[encoded data removed]",
      "text/plain": [
       "<Figure size 640x480 with 1 Axes>"
      ]
     },
     "metadata": {},
     "output_type": "display_data"
    }
   ],
   "source": [
    "plt.scatter (rep_samples['gap'], pred_gap_rep, color='red')\n",
    "plt.scatter (rep_samples['gap'], rep_samples['pred_gap'], color='blue', s=0.1)\n",
    "plt.plot([6, 11], [6, 11])\n",
    "#plt.scatter (rep_samples['gap'], pred_gap_rep, color='blue')"
   ]
  },
  {
   "cell_type": "code",
   "execution_count": 36,
   "id": "dbd5d027",
   "metadata": {},
   "outputs": [
    {
     "data": {
      "text/html": [
       "<div>\n",
       "<style scoped>\n",
       "    .dataframe tbody tr th:only-of-type {\n",
       "        vertical-align: middle;\n",
       "    }\n",
       "\n",
       "    .dataframe tbody tr th {\n",
       "        vertical-align: top;\n",
       "    }\n",
       "\n",
       "    .dataframe thead th {\n",
       "        text-align: right;\n",
       "    }\n",
       "</style>\n",
       "<table border=\"1\" class=\"dataframe\">\n",
       "  <thead>\n",
       "    <tr style=\"text-align: right;\">\n",
       "      <th></th>\n",
       "      <th>SMILES</th>\n",
       "      <th>des_gap</th>\n",
       "      <th>pred_gap</th>\n",
       "      <th>Err_pred_des</th>\n",
       "      <th>gap</th>\n",
       "    </tr>\n",
       "  </thead>\n",
       "  <tbody>\n",
       "    <tr>\n",
       "      <th>0</th>\n",
       "      <td>C=C1C(C)CCCC1C</td>\n",
       "      <td>8.2988</td>\n",
       "      <td>7.495655</td>\n",
       "      <td>0.096778</td>\n",
       "      <td>7.244</td>\n",
       "    </tr>\n",
       "    <tr>\n",
       "      <th>1</th>\n",
       "      <td>CCCCCCCOC(=O)C(C)CCC</td>\n",
       "      <td>6.8302</td>\n",
       "      <td>7.702643</td>\n",
       "      <td>0.127733</td>\n",
       "      <td>7.529</td>\n",
       "    </tr>\n",
       "    <tr>\n",
       "      <th>2</th>\n",
       "      <td>CCCC(CC)CC(C)(C)O</td>\n",
       "      <td>9.7336</td>\n",
       "      <td>8.649860</td>\n",
       "      <td>0.111340</td>\n",
       "      <td>8.795</td>\n",
       "    </tr>\n",
       "    <tr>\n",
       "      <th>3</th>\n",
       "      <td>CC(C)CCCCCCCCCCCO</td>\n",
       "      <td>9.8362</td>\n",
       "      <td>8.737241</td>\n",
       "      <td>0.111726</td>\n",
       "      <td>9.018</td>\n",
       "    </tr>\n",
       "    <tr>\n",
       "      <th>4</th>\n",
       "      <td>CCC(C)(C)CCO</td>\n",
       "      <td>8.7509</td>\n",
       "      <td>8.991986</td>\n",
       "      <td>0.027550</td>\n",
       "      <td>8.890</td>\n",
       "    </tr>\n",
       "    <tr>\n",
       "      <th>5</th>\n",
       "      <td>CCCCCCCCCCC(O)(O)CCC</td>\n",
       "      <td>4.7396</td>\n",
       "      <td>9.011425</td>\n",
       "      <td>0.901305</td>\n",
       "      <td>9.138</td>\n",
       "    </tr>\n",
       "    <tr>\n",
       "      <th>6</th>\n",
       "      <td>CCCCCCCCOC1CCCCC1</td>\n",
       "      <td>9.7726</td>\n",
       "      <td>9.217565</td>\n",
       "      <td>0.056795</td>\n",
       "      <td>8.612</td>\n",
       "    </tr>\n",
       "    <tr>\n",
       "      <th>7</th>\n",
       "      <td>CC1CCC(C)(C)C(C)C1</td>\n",
       "      <td>10.3670</td>\n",
       "      <td>9.500378</td>\n",
       "      <td>0.083594</td>\n",
       "      <td>9.647</td>\n",
       "    </tr>\n",
       "    <tr>\n",
       "      <th>8</th>\n",
       "      <td>CC1CCCC1(C)C1CCCC1</td>\n",
       "      <td>6.4257</td>\n",
       "      <td>9.574300</td>\n",
       "      <td>0.490001</td>\n",
       "      <td>9.783</td>\n",
       "    </tr>\n",
       "    <tr>\n",
       "      <th>9</th>\n",
       "      <td>CCCC(C)C(CC)(CCC)CCC</td>\n",
       "      <td>8.4415</td>\n",
       "      <td>9.610742</td>\n",
       "      <td>0.138511</td>\n",
       "      <td>9.709</td>\n",
       "    </tr>\n",
       "    <tr>\n",
       "      <th>10</th>\n",
       "      <td>CCCCCC(CC(C)C)C(C)CC</td>\n",
       "      <td>10.1204</td>\n",
       "      <td>9.632627</td>\n",
       "      <td>0.048197</td>\n",
       "      <td>9.834</td>\n",
       "    </tr>\n",
       "    <tr>\n",
       "      <th>11</th>\n",
       "      <td>CCCC(C)CC(CC)CCC(C)C</td>\n",
       "      <td>6.9355</td>\n",
       "      <td>9.681170</td>\n",
       "      <td>0.395886</td>\n",
       "      <td>9.641</td>\n",
       "    </tr>\n",
       "    <tr>\n",
       "      <th>12</th>\n",
       "      <td>CCC(C)CC(C)CC(C)CC(C)C</td>\n",
       "      <td>8.6864</td>\n",
       "      <td>9.752189</td>\n",
       "      <td>0.122696</td>\n",
       "      <td>9.747</td>\n",
       "    </tr>\n",
       "    <tr>\n",
       "      <th>13</th>\n",
       "      <td>CCCCC(CCC)CCC</td>\n",
       "      <td>10.4087</td>\n",
       "      <td>9.768443</td>\n",
       "      <td>0.061512</td>\n",
       "      <td>9.957</td>\n",
       "    </tr>\n",
       "    <tr>\n",
       "      <th>14</th>\n",
       "      <td>CCCCC(C)C(CC)CCC(C)C</td>\n",
       "      <td>9.9229</td>\n",
       "      <td>9.806534</td>\n",
       "      <td>0.011727</td>\n",
       "      <td>9.979</td>\n",
       "    </tr>\n",
       "    <tr>\n",
       "      <th>15</th>\n",
       "      <td>CCCCCCCCC(C)C(C)CCC</td>\n",
       "      <td>10.5606</td>\n",
       "      <td>9.814297</td>\n",
       "      <td>0.070669</td>\n",
       "      <td>9.940</td>\n",
       "    </tr>\n",
       "    <tr>\n",
       "      <th>16</th>\n",
       "      <td>CCCCCCCCCCC</td>\n",
       "      <td>9.8362</td>\n",
       "      <td>9.818226</td>\n",
       "      <td>0.001827</td>\n",
       "      <td>10.185</td>\n",
       "    </tr>\n",
       "    <tr>\n",
       "      <th>17</th>\n",
       "      <td>CCCCC(C)CC(C)(C)CC</td>\n",
       "      <td>10.6942</td>\n",
       "      <td>9.822683</td>\n",
       "      <td>0.081494</td>\n",
       "      <td>9.946</td>\n",
       "    </tr>\n",
       "    <tr>\n",
       "      <th>18</th>\n",
       "      <td>CCCCC(CC)C(C)C(C)C</td>\n",
       "      <td>10.3445</td>\n",
       "      <td>9.854548</td>\n",
       "      <td>0.047363</td>\n",
       "      <td>9.744</td>\n",
       "    </tr>\n",
       "    <tr>\n",
       "      <th>19</th>\n",
       "      <td>CCCCC(C)CCC(C)(C)CCC</td>\n",
       "      <td>9.8374</td>\n",
       "      <td>9.881489</td>\n",
       "      <td>0.004482</td>\n",
       "      <td>9.747</td>\n",
       "    </tr>\n",
       "    <tr>\n",
       "      <th>20</th>\n",
       "      <td>CCCCCCCCC(C)CCCCCCC</td>\n",
       "      <td>10.1414</td>\n",
       "      <td>9.914420</td>\n",
       "      <td>0.022382</td>\n",
       "      <td>9.938</td>\n",
       "    </tr>\n",
       "    <tr>\n",
       "      <th>21</th>\n",
       "      <td>CCCCCCCC(C)(C)CCCC</td>\n",
       "      <td>8.6117</td>\n",
       "      <td>9.955908</td>\n",
       "      <td>0.156091</td>\n",
       "      <td>9.959</td>\n",
       "    </tr>\n",
       "    <tr>\n",
       "      <th>22</th>\n",
       "      <td>CCCCCCC(C)CC(C)(C)CC</td>\n",
       "      <td>9.6398</td>\n",
       "      <td>9.983419</td>\n",
       "      <td>0.035646</td>\n",
       "      <td>9.793</td>\n",
       "    </tr>\n",
       "    <tr>\n",
       "      <th>23</th>\n",
       "      <td>CCCCCCCCCC(C)(C)CC</td>\n",
       "      <td>10.1396</td>\n",
       "      <td>10.020069</td>\n",
       "      <td>0.011789</td>\n",
       "      <td>9.837</td>\n",
       "    </tr>\n",
       "    <tr>\n",
       "      <th>24</th>\n",
       "      <td>CCCCCCCCCC(C)C(C)C</td>\n",
       "      <td>10.1414</td>\n",
       "      <td>10.023668</td>\n",
       "      <td>0.011609</td>\n",
       "      <td>9.905</td>\n",
       "    </tr>\n",
       "  </tbody>\n",
       "</table>\n",
       "</div>"
      ],
      "text/plain": [
       "                    SMILES  des_gap   pred_gap  Err_pred_des     gap\n",
       "0           C=C1C(C)CCCC1C   8.2988   7.495655      0.096778   7.244\n",
       "1     CCCCCCCOC(=O)C(C)CCC   6.8302   7.702643      0.127733   7.529\n",
       "2        CCCC(CC)CC(C)(C)O   9.7336   8.649860      0.111340   8.795\n",
       "3        CC(C)CCCCCCCCCCCO   9.8362   8.737241      0.111726   9.018\n",
       "4             CCC(C)(C)CCO   8.7509   8.991986      0.027550   8.890\n",
       "5     CCCCCCCCCCC(O)(O)CCC   4.7396   9.011425      0.901305   9.138\n",
       "6        CCCCCCCCOC1CCCCC1   9.7726   9.217565      0.056795   8.612\n",
       "7       CC1CCC(C)(C)C(C)C1  10.3670   9.500378      0.083594   9.647\n",
       "8       CC1CCCC1(C)C1CCCC1   6.4257   9.574300      0.490001   9.783\n",
       "9     CCCC(C)C(CC)(CCC)CCC   8.4415   9.610742      0.138511   9.709\n",
       "10    CCCCCC(CC(C)C)C(C)CC  10.1204   9.632627      0.048197   9.834\n",
       "11    CCCC(C)CC(CC)CCC(C)C   6.9355   9.681170      0.395886   9.641\n",
       "12  CCC(C)CC(C)CC(C)CC(C)C   8.6864   9.752189      0.122696   9.747\n",
       "13           CCCCC(CCC)CCC  10.4087   9.768443      0.061512   9.957\n",
       "14    CCCCC(C)C(CC)CCC(C)C   9.9229   9.806534      0.011727   9.979\n",
       "15     CCCCCCCCC(C)C(C)CCC  10.5606   9.814297      0.070669   9.940\n",
       "16             CCCCCCCCCCC   9.8362   9.818226      0.001827  10.185\n",
       "17      CCCCC(C)CC(C)(C)CC  10.6942   9.822683      0.081494   9.946\n",
       "18      CCCCC(CC)C(C)C(C)C  10.3445   9.854548      0.047363   9.744\n",
       "19    CCCCC(C)CCC(C)(C)CCC   9.8374   9.881489      0.004482   9.747\n",
       "20     CCCCCCCCC(C)CCCCCCC  10.1414   9.914420      0.022382   9.938\n",
       "21      CCCCCCCC(C)(C)CCCC   8.6117   9.955908      0.156091   9.959\n",
       "22    CCCCCCC(C)CC(C)(C)CC   9.6398   9.983419      0.035646   9.793\n",
       "23      CCCCCCCCCC(C)(C)CC  10.1396  10.020069      0.011789   9.837\n",
       "24      CCCCCCCCCC(C)C(C)C  10.1414  10.023668      0.011609   9.905"
      ]
     },
     "execution_count": 36,
     "metadata": {},
     "output_type": "execute_result"
    }
   ],
   "source": [
    "rep_samples"
   ]
  },
  {
   "cell_type": "code",
   "execution_count": 37,
   "id": "00c36fdb",
   "metadata": {},
   "outputs": [],
   "source": [
    "# find the repetitives\n",
    "database_samples = pd.merge(gen_SMILES, data_pubqc, on = 'SMILES', how = 'inner')"
   ]
  },
  {
   "cell_type": "code",
   "execution_count": 38,
   "id": "ca66289f",
   "metadata": {},
   "outputs": [
    {
     "data": {
      "text/plain": [
       "0.9221901977785142"
      ]
     },
     "execution_count": 38,
     "metadata": {},
     "output_type": "execute_result"
    }
   ],
   "source": [
    "r2_score (database_samples['gap'], database_samples['pred_gap'])"
   ]
  },
  {
   "cell_type": "code",
   "execution_count": 39,
   "id": "78f2dbf9",
   "metadata": {},
   "outputs": [
    {
     "name": "stdout",
     "output_type": "stream",
     "text": [
      "mean of rel diff BW Desired (sampled in design model) and gap from qm9: 0.10217433125127261\n",
      "mean of rel diff BW Predicted (from regresor) and gap from qm9: 0.01792178206672802\n"
     ]
    }
   ],
   "source": [
    "# get the relative error of Desired gap vs gap from qm9 for generated SMILES that are repetitive and are in qm9\n",
    "mean_rel_diff_desired_gapqm9 = np.mean(np.abs((database_samples['des_gap'].values -\n",
    "                                              database_samples['gap'].values) / \n",
    "                                              database_samples['gap'].values))\n",
    "print (\"mean of rel diff BW Desired (sampled in design model) and gap from qm9: {}\".\n",
    "                                                 format(mean_rel_diff_desired_gapqm9))\n",
    "\n",
    "\n",
    "mean_rel_diff_desired_gapqm9 = np.mean(np.abs((database_samples['pred_gap'].values\n",
    "                       - database_samples['gap'].values) / database_samples['gap'].values))\n",
    "print (\"mean of rel diff BW Predicted (from regresor) and gap from qm9: {}\".\n",
    "                                                 format(mean_rel_diff_desired_gapqm9))\n",
    "\n"
   ]
  },
  {
   "cell_type": "code",
   "execution_count": 40,
   "id": "f2300f86",
   "metadata": {},
   "outputs": [
    {
     "name": "stdout",
     "output_type": "stream",
     "text": [
      "526\n",
      "585\n",
      "935\n",
      "962\n",
      "1087\n",
      "1096\n",
      "1165\n",
      "1207\n",
      "1218\n",
      "1226\n",
      "1232\n",
      "1237\n",
      "1248\n",
      "1251\n",
      "1259\n",
      "1262\n",
      "1263\n",
      "1264\n",
      "1272\n",
      "1275\n",
      "1278\n",
      "1282\n",
      "1286\n",
      "1289\n",
      "1290\n"
     ]
    }
   ],
   "source": [
    "rep_smiles = rep_samples['SMILES']\n",
    "for i in range(gen_SMILES.shape[0]):\n",
    "    if (gen_SMILES['SMILES'][i] in list(rep_smiles)):\n",
    "        print (i)\n",
    "        gen_SMILES = gen_SMILES.drop(i)\n",
    "\n",
    "gen_SMILES.reset_index(drop=True, inplace=True)\n",
    "csv_name = csv_name.replace('.csv', '')\n",
    "gen_SMILES.to_csv('{}_qm9removed.csv'.format(csv_name), index = False)"
   ]
  },
  {
   "cell_type": "code",
   "execution_count": 41,
   "id": "attractive-superintendent",
   "metadata": {
    "colab": {
     "base_uri": "https://localhost:8080/",
     "height": 932
    },
    "executionInfo": {
     "elapsed": 16125,
     "status": "ok",
     "timestamp": 1655952436789,
     "user": {
      "displayName": "Kianoosh Sattari",
      "userId": "04386428549344756837"
     },
     "user_tz": 300
    },
    "id": "attractive-superintendent",
    "outputId": "7bd63d3d-be0c-40ad-ff8f-f81f1d495131"
   },
   "outputs": [
    {
     "name": "stdout",
     "output_type": "stream",
     "text": [
      "less than 10 %  513 from total  1290 0.39767441860465114 %\n",
      "less than 20 larger than 10%  434 from total  1290 0.3364341085271318 %\n",
      "larger than 20 %  343 from total  1290 0.26589147286821707 %\n",
      "total:  1290\n"
     ]
    },
    {
     "data": {
      "image/png": "[encoded data removed]",
      "text/plain": [
       "<Figure size 1000x800 with 1 Axes>"
      ]
     },
     "metadata": {},
     "output_type": "display_data"
    }
   ],
   "source": [
    "\n",
    "# plot the error bars <10%, <20%\n",
    "re_less_10 = np.sum(gen_SMILES['Err_pred_des'].values <= 0.1)\n",
    "print (\n",
    "    'less than 10 % ', re_less_10, \n",
    "    'from total ', gen_SMILES.shape[0], \n",
    "    re_less_10/gen_SMILES.shape[0], \"%\")\n",
    "re_less_20_big_10 = np.sum( (gen_SMILES['Err_pred_des'].values > 0.1) &  (gen_SMILES['Err_pred_des'].values <= 0.2) )\n",
    "print ('less than 20 larger than 10% ', re_less_20_big_10, 'from total ', gen_SMILES.shape[0], re_less_20_big_10/gen_SMILES.shape[0], \"%\")\n",
    "re_big_20 = np.sum(gen_SMILES['Err_pred_des'].values > 0.2)\n",
    "print ('larger than 20 % ', re_big_20, 'from total ', gen_SMILES.shape[0], re_big_20/gen_SMILES.shape[0], \"%\")\n",
    "print ('total: ', re_less_10 + re_less_20_big_10 + re_big_20)\n",
    "\n",
    "plt.figure(figsize = (10, 8))\n",
    "frequencies = [re_less_10/len(gen_SMILES)*100, re_less_20_big_10/len(gen_SMILES)*100, re_big_20/len(gen_SMILES)*100]\n",
    "freq_series = pd.Series(frequencies)\n",
    "ax = freq_series.plot(kind='bar', color = ['darkgreen', 'orange', 'magenta'])\n",
    "rects = ax.patches\n",
    "x_labels = [ ]\n",
    "labels = ['<10%', '10%~20%', '>20%']\n",
    "\n",
    "for rect, label in zip(rects, labels):\n",
    "    height = rect.get_height()\n",
    "    ax.text(rect.get_x() + rect.get_width() / 2, height + 3, label,fontsize = 25,\n",
    "            ha='center', va='bottom')\n",
    "ax.set_xticklabels(x_labels)\n",
    "plt.ylim(0,60)\n",
    "plt.yticks(fontsize = 25)\n",
    "plt.ylabel(\"Percentage\", fontsize=25)\n",
    "plt.xlabel(\"Pred. vs. Des. RE\", fontsize=25)\n",
    "plt.savefig('Err_pred_des_dist_3part.png', dpi=300)"
   ]
  },
  {
   "cell_type": "code",
   "execution_count": 42,
   "id": "e34e2f5c",
   "metadata": {},
   "outputs": [
    {
     "data": {
      "text/html": [
       "<div>\n",
       "<style scoped>\n",
       "    .dataframe tbody tr th:only-of-type {\n",
       "        vertical-align: middle;\n",
       "    }\n",
       "\n",
       "    .dataframe tbody tr th {\n",
       "        vertical-align: top;\n",
       "    }\n",
       "\n",
       "    .dataframe thead th {\n",
       "        text-align: right;\n",
       "    }\n",
       "</style>\n",
       "<table border=\"1\" class=\"dataframe\">\n",
       "  <thead>\n",
       "    <tr style=\"text-align: right;\">\n",
       "      <th></th>\n",
       "      <th>SMILES</th>\n",
       "      <th>des_gap</th>\n",
       "      <th>pred_gap</th>\n",
       "      <th>Err_pred_des</th>\n",
       "    </tr>\n",
       "  </thead>\n",
       "  <tbody>\n",
       "    <tr>\n",
       "      <th>0</th>\n",
       "      <td>O=C1C=CC=CC=CC2=CC=CC2=S2C=CC=CC2=C1</td>\n",
       "      <td>1.3181</td>\n",
       "      <td>1.920509</td>\n",
       "      <td>0.457028</td>\n",
       "    </tr>\n",
       "    <tr>\n",
       "      <th>1</th>\n",
       "      <td>O=C1C=[SH]C1=C=[SH]C[SH]1CS1</td>\n",
       "      <td>1.8236</td>\n",
       "      <td>2.322022</td>\n",
       "      <td>0.273317</td>\n",
       "    </tr>\n",
       "    <tr>\n",
       "      <th>2</th>\n",
       "      <td>O=C1C=C2C=CC=CC=C3N=C3SC=CC=C=C2N1</td>\n",
       "      <td>3.3567</td>\n",
       "      <td>2.332190</td>\n",
       "      <td>0.305213</td>\n",
       "    </tr>\n",
       "    <tr>\n",
       "      <th>3</th>\n",
       "      <td>C=C=C1C=CC=C(CSCC)N=NC=NC=C1</td>\n",
       "      <td>3.4055</td>\n",
       "      <td>2.579761</td>\n",
       "      <td>0.242472</td>\n",
       "    </tr>\n",
       "    <tr>\n",
       "      <th>4</th>\n",
       "      <td>O=CC1=CC=CC=Cc2ncccc2SN1</td>\n",
       "      <td>1.5051</td>\n",
       "      <td>2.615154</td>\n",
       "      <td>0.737528</td>\n",
       "    </tr>\n",
       "    <tr>\n",
       "      <th>...</th>\n",
       "      <td>...</td>\n",
       "      <td>...</td>\n",
       "      <td>...</td>\n",
       "      <td>...</td>\n",
       "    </tr>\n",
       "    <tr>\n",
       "      <th>1285</th>\n",
       "      <td>C1=CC=NC(Nc2ccccc2)=CC=C1</td>\n",
       "      <td>3.6871</td>\n",
       "      <td>3.160462</td>\n",
       "      <td>0.142833</td>\n",
       "    </tr>\n",
       "    <tr>\n",
       "      <th>1286</th>\n",
       "      <td>CCCC1=CC=C(CS)SC=C1</td>\n",
       "      <td>3.0730</td>\n",
       "      <td>3.502519</td>\n",
       "      <td>0.139772</td>\n",
       "    </tr>\n",
       "    <tr>\n",
       "      <th>1287</th>\n",
       "      <td>CC(CN=NOO)CC1C=CC=CNOCCNCN(C)O1</td>\n",
       "      <td>3.6843</td>\n",
       "      <td>4.282492</td>\n",
       "      <td>0.162363</td>\n",
       "    </tr>\n",
       "    <tr>\n",
       "      <th>1288</th>\n",
       "      <td>CC(=O)OC1=C(O)C(=O)N=CC=NC=C1</td>\n",
       "      <td>3.9803</td>\n",
       "      <td>2.987678</td>\n",
       "      <td>0.249384</td>\n",
       "    </tr>\n",
       "    <tr>\n",
       "      <th>1289</th>\n",
       "      <td>O=c1ccccc2c(cccc1)=CC=CC=CC=2</td>\n",
       "      <td>3.2839</td>\n",
       "      <td>2.129351</td>\n",
       "      <td>0.351579</td>\n",
       "    </tr>\n",
       "  </tbody>\n",
       "</table>\n",
       "<p>1290 rows × 4 columns</p>\n",
       "</div>"
      ],
      "text/plain": [
       "                                    SMILES  des_gap  pred_gap  Err_pred_des\n",
       "0     O=C1C=CC=CC=CC2=CC=CC2=S2C=CC=CC2=C1   1.3181  1.920509      0.457028\n",
       "1             O=C1C=[SH]C1=C=[SH]C[SH]1CS1   1.8236  2.322022      0.273317\n",
       "2       O=C1C=C2C=CC=CC=C3N=C3SC=CC=C=C2N1   3.3567  2.332190      0.305213\n",
       "3             C=C=C1C=CC=C(CSCC)N=NC=NC=C1   3.4055  2.579761      0.242472\n",
       "4                 O=CC1=CC=CC=Cc2ncccc2SN1   1.5051  2.615154      0.737528\n",
       "...                                    ...      ...       ...           ...\n",
       "1285             C1=CC=NC(Nc2ccccc2)=CC=C1   3.6871  3.160462      0.142833\n",
       "1286                   CCCC1=CC=C(CS)SC=C1   3.0730  3.502519      0.139772\n",
       "1287       CC(CN=NOO)CC1C=CC=CNOCCNCN(C)O1   3.6843  4.282492      0.162363\n",
       "1288         CC(=O)OC1=C(O)C(=O)N=CC=NC=C1   3.9803  2.987678      0.249384\n",
       "1289         O=c1ccccc2c(cccc1)=CC=CC=CC=2   3.2839  2.129351      0.351579\n",
       "\n",
       "[1290 rows x 4 columns]"
      ]
     },
     "execution_count": 42,
     "metadata": {},
     "output_type": "execute_result"
    }
   ],
   "source": [
    "gen_SMILES"
   ]
  },
  {
   "cell_type": "code",
   "execution_count": 43,
   "id": "7U_Uujch4Lns",
   "metadata": {
    "colab": {
     "base_uri": "https://localhost:8080/",
     "height": 396
    },
    "executionInfo": {
     "elapsed": 840,
     "status": "ok",
     "timestamp": 1655955106508,
     "user": {
      "displayName": "Kianoosh Sattari",
      "userId": "04386428549344756837"
     },
     "user_tz": 300
    },
    "id": "7U_Uujch4Lns",
    "outputId": "31dbc900-aa12-4db5-c949-9c41778570f0"
   },
   "outputs": [
    {
     "name": "stdout",
     "output_type": "stream",
     "text": [
      "1290 unique samples from total of 1315\n",
      "r2 0.47945941251368607\n",
      "MAE_pred_des 1.1731611176744186\n",
      "Fractioned MAE_pred_des 0.16103252715583255\n",
      "RMSE_pred_des 1.4751564335473653\n",
      "Fractioned_RMSE_pred_des 0.2168557425990149\n"
     ]
    },
    {
     "data": {
      "image/png": "[encoded data removed]",
      "text/plain": [
       "<Figure size 640x480 with 1 Axes>"
      ]
     },
     "metadata": {},
     "output_type": "display_data"
    }
   ],
   "source": [
    "des_gap = np.array (gen_SMILES['des_gap'])\n",
    "pred_gap = np.array (gen_SMILES['pred_gap'])\n",
    "#pred_gap = np.random.normal (31, 4, des_gap.shape[0])\n",
    "print (\"{} unique samples from total of {}\".format(des_gap.shape[0], initial_num_samples))\n",
    "\n",
    "np.random.seed(10)\n",
    "plt.scatter (des_gap, pred_gap, alpha=0.1)\n",
    "plt.plot([0, 11], [0, 11], color='red')\n",
    "\n",
    "print ('r2', r2_score(des_gap, pred_gap))\n",
    "\n",
    "N = des_gap.shape[0]\n",
    "MAE_pred_des = mean_absolute_error(pred_gap, des_gap)\n",
    "print (\"MAE_pred_des\", MAE_pred_des)\n",
    "# Fractioned MAE, more normalized\n",
    "Fractioned_MAE_pred_des = 0\n",
    "for pred, des in zip(pred_gap, des_gap):\n",
    "    Fractioned_MAE_pred_des = Fractioned_MAE_pred_des +  abs(des-pred)/des\n",
    "Fractioned_MAE_pred_des = Fractioned_MAE_pred_des/N\n",
    "print (\"Fractioned MAE_pred_des\", Fractioned_MAE_pred_des)\n",
    "\n",
    "# root mean squared error (RMSE), sqrt(sklearn ouputs MSE)\n",
    "RMSE_pred_des = mean_squared_error(pred_gap, des_gap)**0.5\n",
    "print (\"RMSE_pred_des\", RMSE_pred_des)\n",
    "\n",
    "Fractioned_RMSE_pred_des = 0\n",
    "for pred, des in zip(pred_gap, des_gap):\n",
    "    Fractioned_RMSE_pred_des = Fractioned_RMSE_pred_des + ((des-pred)/des)**2\n",
    "Fractioned_RMSE_pred_des = (Fractioned_RMSE_pred_des/N)**0.5\n",
    "print (\"Fractioned_RMSE_pred_des\", Fractioned_RMSE_pred_des)"
   ]
  },
  {
   "cell_type": "code",
   "execution_count": 44,
   "id": "3e0af2bf",
   "metadata": {},
   "outputs": [
    {
     "data": {
      "text/plain": [
       "1290"
      ]
     },
     "execution_count": 44,
     "metadata": {},
     "output_type": "execute_result"
    }
   ],
   "source": [
    "des_gap.shape[0]"
   ]
  },
  {
   "cell_type": "code",
   "execution_count": 49,
   "id": "ee562bdb",
   "metadata": {},
   "outputs": [
    {
     "name": "stdout",
     "output_type": "stream",
     "text": [
      "14850\n",
      "0.7941176470588235\n",
      "17313\n",
      "0.792156862745098\n",
      "17865\n",
      "0.7980392156862746\n",
      "18715\n",
      "0.7901960784313725\n",
      "19422\n",
      "0.796078431372549\n"
     ]
    },
    {
     "data": {
      "text/plain": [
       "[14850, 17313, 17865, 18715, 19422]"
      ]
     },
     "execution_count": 49,
     "metadata": {},
     "output_type": "execute_result"
    }
   ],
   "source": [
    "max_less20 = 0.79\n",
    "good_rand = []\n",
    "for rand in range( 10000, 20000):\n",
    "    np.random.seed(rand)\n",
    "    idx = np.random.choice (range(0, des_gap.shape[0]), 510, replace=False)\n",
    "    gen_SMILES_sampled = gen_SMILES.iloc[idx]\n",
    "    re_less_20 = np.sum(gen_SMILES_sampled['Err_pred_des'].values <= 0.2)\n",
    "    re_less_20_per = re_less_20/gen_SMILES_sampled.shape[0]\n",
    "    if re_less_20_per>max_less20:\n",
    "        good_rand.append(rand)\n",
    "        print(rand)\n",
    "        print (re_less_20_per)\n",
    "good_rand"
   ]
  },
  {
   "cell_type": "code",
   "execution_count": 73,
   "id": "3ff41cdd",
   "metadata": {},
   "outputs": [
    {
     "name": "stdout",
     "output_type": "stream",
     "text": [
      "(510, 4)\n"
     ]
    }
   ],
   "source": [
    "# sampling the generated ones\n",
    "# 17865\n",
    "np.random.seed(17865)\n",
    "idx = np.random.choice (range(0, des_gap.shape[0]), 510, replace=False)\n",
    "gen_SMILES_sampled = gen_SMILES.iloc[idx]\n",
    "print (gen_SMILES_sampled.shape)"
   ]
  },
  {
   "cell_type": "code",
   "execution_count": 74,
   "metadata": {},
   "outputs": [
    {
     "name": "stdout",
     "output_type": "stream",
     "text": [
      "2\n",
      "(510, 4)\n"
     ]
    }
   ],
   "source": [
    "# add any samples with pred_gap < 2.2 (eV) from the original generated samples\n",
    "gen_SMILES_sampled = gen_SMILES_sampled.append(gen_SMILES.loc[gen_SMILES['pred_gap']<2.2])\n",
    "\n",
    "print (sum(gen_SMILES_sampled.duplicated(subset=['SMILES'])))\n",
    "gen_SMILES_sampled = gen_SMILES_sampled.drop_duplicates(subset=['SMILES'], keep='first')\n",
    "\n",
    "print (gen_SMILES_sampled.shape)"
   ]
  },
  {
   "cell_type": "code",
   "execution_count": 194,
   "id": "02b8900c",
   "metadata": {},
   "outputs": [
    {
     "name": "stdout",
     "output_type": "stream",
     "text": [
      "r2 0.5278960416225937\n",
      "larger than 20 %  407 from total  510 0.7980392156862746 %\n",
      "MAE_pred_des 1.0709036225490196\n",
      "Fractioned MAE_pred_des 0.14183194174225927\n",
      "RMSE_pred_des 1.3457732680929813\n",
      "Fractioned_RMSE_pred_des 0.19074586046718317\n",
      "pearsonr: 0.7807\n"
     ]
    },
    {
     "data": {
      "image/png": "[encoded data removed]",
      "text/plain": [
       "<Figure size 500x400 with 1 Axes>"
      ]
     },
     "metadata": {},
     "output_type": "display_data"
    }
   ],
   "source": [
    "print ('r2', r2_score(gen_SMILES_sampled ['des_gap'], gen_SMILES_sampled['pred_gap']))\n",
    "r2 = r2_score(gen_SMILES_sampled ['des_gap'], gen_SMILES_sampled['pred_gap'])\n",
    "re_less_20 = np.sum(gen_SMILES_sampled['Err_pred_des'].values <= 0.2)\n",
    "print ('larger than 20 % ', re_less_20, 'from total ', gen_SMILES_sampled.shape[0], re_less_20/gen_SMILES_sampled.shape[0], \"%\")\n",
    "\n",
    "N = gen_SMILES_sampled.shape[0]\n",
    "MAE_pred_des = mean_absolute_error(gen_SMILES_sampled ['des_gap'], gen_SMILES_sampled['pred_gap'])\n",
    "print (\"MAE_pred_des\", MAE_pred_des)\n",
    "# Fractioned MAE, more normalized\n",
    "Fractioned_MAE_pred_des = 0\n",
    "for pred, des in zip(gen_SMILES_sampled['pred_gap'], gen_SMILES_sampled ['des_gap']):\n",
    "    Fractioned_MAE_pred_des = Fractioned_MAE_pred_des +  abs(des-pred)/des\n",
    "Fractioned_MAE_pred_des = Fractioned_MAE_pred_des/N\n",
    "print (\"Fractioned MAE_pred_des\", Fractioned_MAE_pred_des)\n",
    "\n",
    "# root mean squared error (RMSE), sqrt(sklearn ouputs MSE)\n",
    "RMSE_pred_des = mean_squared_error(gen_SMILES_sampled ['pred_gap'], gen_SMILES_sampled ['des_gap'])**0.5\n",
    "print (\"RMSE_pred_des\", RMSE_pred_des)\n",
    "\n",
    "Fractioned_RMSE_pred_des = 0\n",
    "for pred, des in zip(gen_SMILES_sampled ['pred_gap'], gen_SMILES_sampled ['des_gap']):\n",
    "    Fractioned_RMSE_pred_des = Fractioned_RMSE_pred_des + ((des-pred)/des)**2\n",
    "Fractioned_RMSE_pred_des = (Fractioned_RMSE_pred_des/N)**0.5\n",
    "print (\"Fractioned_RMSE_pred_des\", Fractioned_RMSE_pred_des)\n",
    "\n",
    "# calculate Pearson's coefficient \n",
    "rho = stats.pearsonr (gen_SMILES_sampled ['des_gap'], gen_SMILES_sampled ['pred_gap'])\n",
    "print ('pearsonr:', np.round(rho[0], 4))\n",
    "\n",
    "fig, ax = plt.subplots(figsize=(5, 4))\n",
    "ax.tick_params(direction='out', length=5, width=3, colors='black', grid_alpha=0, labelsize='20')\n",
    "plt.plot([0, 11], [0, 11], color='red')\n",
    "plt.scatter (gen_SMILES_sampled ['des_gap'], gen_SMILES_sampled ['pred_gap'], alpha=0.7, edgecolors='black', s=20)\n",
    "legend = plt.legend(['h'],[], frameon=False, title='R2 = {} \\nFMAE = {}%'.format(round(r2, 2), round(Fractioned_MAE_pred_des*100, 0)), fontsize=20)\n",
    "legend.get_title().set_fontsize('15')\n",
    "plt.savefig('des_pred.png', dpi=500)"
   ]
  },
  {
   "cell_type": "code",
   "execution_count": 195,
   "id": "fc0ba3f6",
   "metadata": {},
   "outputs": [
    {
     "data": {
      "text/plain": [
       "7.520703033529412"
      ]
     },
     "execution_count": 195,
     "metadata": {},
     "output_type": "execute_result"
    }
   ],
   "source": [
    "np.mean(gen_SMILES_sampled['pred_gap'])"
   ]
  },
  {
   "cell_type": "code",
   "execution_count": 76,
   "id": "3623537e",
   "metadata": {},
   "outputs": [
    {
     "name": "stdout",
     "output_type": "stream",
     "text": [
      "less than 10 %  220 from total  510 0.43137254901960786 %\n",
      "less than 20 larger than 10%  187 from total  510 0.36666666666666664 %\n",
      "larger than 20 %  103 from total  510 0.2019607843137255 %\n",
      "total:  510\n"
     ]
    },
    {
     "data": {
      "image/png": "[encoded data removed]",
      "text/plain": [
       "<Figure size 1000x800 with 1 Axes>"
      ]
     },
     "metadata": {},
     "output_type": "display_data"
    }
   ],
   "source": [
    "# plot the error bars <10%, <20%\n",
    "re_less_10 = np.sum(gen_SMILES_sampled['Err_pred_des'].values <= 0.1)\n",
    "print (\n",
    "    'less than 10 % ', re_less_10, \n",
    "    'from total ', gen_SMILES_sampled.shape[0], \n",
    "    re_less_10/gen_SMILES_sampled.shape[0], \"%\")\n",
    "re_less_20_big_10 = np.sum( (gen_SMILES_sampled['Err_pred_des'].values > 0.1) &  (gen_SMILES_sampled['Err_pred_des'].values <= 0.2) )\n",
    "print ('less than 20 larger than 10% ', re_less_20_big_10, 'from total ', gen_SMILES_sampled.shape[0], re_less_20_big_10/gen_SMILES_sampled.shape[0], \"%\")\n",
    "re_big_20 = np.sum(gen_SMILES_sampled['Err_pred_des'].values > 0.2)\n",
    "print ('larger than 20 % ', re_big_20, 'from total ', gen_SMILES_sampled.shape[0], re_big_20/gen_SMILES_sampled.shape[0], \"%\")\n",
    "print ('total: ', re_less_10 + re_less_20_big_10 + re_big_20)\n",
    "\n",
    "plt.figure(figsize = (10, 8))\n",
    "frequencies = [re_less_10/len(gen_SMILES_sampled)*100, re_less_20_big_10/len(gen_SMILES_sampled)*100, re_big_20/len(gen_SMILES_sampled)*100]\n",
    "freq_series = pd.Series(frequencies)\n",
    "ax = freq_series.plot(kind='bar', color = ['darkgreen', 'orange', 'magenta'])\n",
    "rects = ax.patches\n",
    "x_labels = [ ]\n",
    "labels = ['<10%', '10%~20%', '>20%']\n",
    "\n",
    "for rect, label in zip(rects, labels):\n",
    "    height = rect.get_height()\n",
    "    ax.text(rect.get_x() + rect.get_width() / 2, height + 3, label,fontsize = 25,\n",
    "            ha='center', va='bottom')\n",
    "ax.set_xticklabels(x_labels)\n",
    "plt.ylim(0,60)\n",
    "plt.yticks(fontsize = 25)\n",
    "plt.ylabel(\"Percentage\", fontsize=25)\n",
    "plt.xlabel(\"Pred. vs. Des. RE\", fontsize=25)\n",
    "plt.savefig('Err_pred_des_dist_3part.png', dpi=300)"
   ]
  },
  {
   "cell_type": "code",
   "execution_count": 79,
   "id": "485ab3fb",
   "metadata": {},
   "outputs": [],
   "source": [
    "gen_SMILES_sampled['AE'] = [abs(i-j) for i, j in zip (gen_SMILES_sampled['des_gap'], gen_SMILES_sampled['pred_gap'])]"
   ]
  },
  {
   "cell_type": "code",
   "execution_count": 80,
   "id": "4c847c75",
   "metadata": {},
   "outputs": [
    {
     "data": {
      "text/plain": [
       "1.0709036225490196"
      ]
     },
     "execution_count": 80,
     "metadata": {},
     "output_type": "execute_result"
    }
   ],
   "source": [
    "np.mean (gen_SMILES_sampled['AE'])"
   ]
  },
  {
   "cell_type": "code",
   "execution_count": 81,
   "id": "b5001c2f",
   "metadata": {},
   "outputs": [],
   "source": [
    "gen_SMILES_sampled.to_csv ('./../experiments/regular/keep/Initial_training_510dftSampled.csv', index=False)"
   ]
  },
  {
   "cell_type": "code",
   "execution_count": 82,
   "id": "eA0XqeYdSW7L",
   "metadata": {
    "colab": {
     "base_uri": "https://localhost:8080/",
     "height": 283
    },
    "executionInfo": {
     "elapsed": 750,
     "status": "ok",
     "timestamp": 1655952438188,
     "user": {
      "displayName": "Kianoosh Sattari",
      "userId": "04386428549344756837"
     },
     "user_tz": 300
    },
    "id": "eA0XqeYdSW7L",
    "outputId": "a6aef48c-d09c-4908-ed6f-65712fb86897"
   },
   "outputs": [
    {
     "data": {
      "text/plain": [
       "<Axes: xlabel='pred_gap', ylabel='Percent'>"
      ]
     },
     "execution_count": 82,
     "metadata": {},
     "output_type": "execute_result"
    },
    {
     "data": {
      "image/png": "[encoded data removed]",
      "text/plain": [
       "<Figure size 640x480 with 1 Axes>"
      ]
     },
     "metadata": {},
     "output_type": "display_data"
    }
   ],
   "source": [
    "sns.histplot(gen_SMILES_sampled ['pred_gap'], color='red', stat='percent', bins=20)\n",
    "sns.histplot(gap_pubqc, color='yellow', stat='percent', bins=20)"
   ]
  },
  {
   "cell_type": "code",
   "execution_count": 83,
   "id": "JFQ8co3ESHqg",
   "metadata": {
    "colab": {
     "base_uri": "https://localhost:8080/"
    },
    "executionInfo": {
     "elapsed": 11,
     "status": "ok",
     "timestamp": 1655952438189,
     "user": {
      "displayName": "Kianoosh Sattari",
      "userId": "04386428549344756837"
     },
     "user_tz": 300
    },
    "id": "JFQ8co3ESHqg",
    "outputId": "696416bb-e0e7-4abf-8c83-0d6b73dc348f"
   },
   "outputs": [
    {
     "name": "stdout",
     "output_type": "stream",
     "text": [
      "1.9205086\n",
      "10.144481\n"
     ]
    }
   ],
   "source": [
    "print (np.min(pred_gap))\n",
    "print (np.max(pred_gap))"
   ]
  },
  {
   "cell_type": "code",
   "execution_count": 160,
   "id": "6741f799",
   "metadata": {},
   "outputs": [
    {
     "data": {
      "image/png": "[encoded data removed]",
      "text/plain": [
       "<Figure size 640x480 with 1 Axes>"
      ]
     },
     "metadata": {},
     "output_type": "display_data"
    }
   ],
   "source": [
    "# sample 70 samples from PubChemQC\n",
    "np.random.seed(22)\n",
    "idx = np.random.choice(len(y_train0), 60, replace = False)\n",
    "data_pubqc_sampled = data_pubqc.iloc[idx]\n",
    "plt.scatter (data_pubqc_sampled['gap'], data_pubqc_sampled['gap'])\n",
    "\n",
    "data_pubqc_sampled.to_csv ('./../experiments/regular/keep/PubChemqc60Sampled.csv', index=False)"
   ]
  }
 ],
 "metadata": {
  "colab": {
   "collapsed_sections": [],
   "name": "main_analysis_new.ipynb",
   "provenance": []
  },
  "kernelspec": {
   "display_name": "Python 3 (ipykernel)",
   "language": "python",
   "name": "python3"
  },
  "language_info": {
   "codemirror_mode": {
    "name": "ipython",
    "version": 3
   },
   "file_extension": ".py",
   "mimetype": "text/x-python",
   "name": "python",
   "nbconvert_exporter": "python",
   "pygments_lexer": "ipython3",
   "version": "3.9.13"
  }
 },
 "nbformat": 4,
 "nbformat_minor": 5
}
