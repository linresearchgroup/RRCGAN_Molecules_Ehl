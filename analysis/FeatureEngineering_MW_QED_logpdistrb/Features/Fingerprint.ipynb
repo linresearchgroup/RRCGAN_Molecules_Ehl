{
 "cells": [
  {
   "cell_type": "code",
   "execution_count": 28,
   "metadata": {},
   "outputs": [],
   "source": [
    "import pickle\n",
    "import numpy as np\n",
    "import pandas as pd\n",
    "import matplotlib.pyplot as plt\n",
    "\n",
    "import re\n",
    "from rdkit import Chem\n",
    "from rdkit.Chem import AllChem\n",
    "from rdkit.Chem import Descriptors\n",
    "from rdkit.Chem import Crippen as logp\n",
    "from rdkit.Chem import rdMolDescriptors as tpsa\n",
    "from rdkit.Chem import QED as QED\n",
    "import seaborn as sns\n",
    "from chainer_chemistry.datasets.molnet import get_molnet_dataset"
   ]
  },
  {
   "cell_type": "code",
   "execution_count": 2,
   "metadata": {},
   "outputs": [],
   "source": [
    "with open (\"./../../../data/trainingsets/image.pickle\", 'rb') as f:\n",
    "    X_smiles000, SMILES000, gap000 = pickle.load(f)\n",
    "\n",
    "bad_mw = pd.read_csv ('bad_mw.csv')\n",
    "bad_mw00 = bad_mw['0'].values.tolist()"
   ]
  },
  {
   "cell_type": "code",
   "execution_count": 29,
   "metadata": {},
   "outputs": [],
   "source": [
    "with open (\"./../../../data/trainingsets/60000_train_regular_pubqc/image_train.pickle\", 'rb') as f:\n",
    "    X_smile, SMILE, ga = pickle.load(f)"
   ]
  },
  {
   "cell_type": "code",
   "execution_count": 26,
   "metadata": {},
   "outputs": [
    {
     "data": {
      "text/plain": [
       "array(['Nc1nc[nH]c2ncnc1-2.'], dtype=object)"
      ]
     },
     "execution_count": 26,
     "metadata": {},
     "output_type": "execute_result"
    }
   ],
   "source": []
  },
  {
   "cell_type": "code",
   "execution_count": 30,
   "metadata": {},
   "outputs": [],
   "source": [
    "sampled = pd.DataFrame({})\n",
    "np.random.seed(0)\n",
    "idx = np.random.choice(len(SMILE), 300)\n",
    "\n",
    "S_sampled = SMILE[idx]\n",
    "sampled['SMILES'] = [i[:-1] for i in S_sampled]\n",
    "\n",
    "sampled['gap'] = ga[idx]\n",
    "\n",
    "sampled.to_csv('./temp.csv', index=False)"
   ]
  },
  {
   "cell_type": "code",
   "execution_count": 4,
   "metadata": {},
   "outputs": [
    {
     "data": {
      "text/plain": [
       "(7270,)"
      ]
     },
     "execution_count": 4,
     "metadata": {},
     "output_type": "execute_result"
    }
   ],
   "source": [
    "bad_mw00 = np.array (bad_mw00)\n",
    "bad_mw0 = np.repeat(bad_mw00, 10)\n",
    "bad_mw0.shape"
   ]
  },
  {
   "cell_type": "code",
   "execution_count": 5,
   "metadata": {},
   "outputs": [
    {
     "data": {
      "text/plain": [
       "5.9666763504174485"
      ]
     },
     "execution_count": 5,
     "metadata": {},
     "output_type": "execute_result"
    }
   ],
   "source": [
    "np.mean (gap000)"
   ]
  },
  {
   "cell_type": "code",
   "execution_count": 6,
   "metadata": {},
   "outputs": [
    {
     "data": {
      "text/plain": [
       "5.960938000733499"
      ]
     },
     "execution_count": 6,
     "metadata": {},
     "output_type": "execute_result"
    }
   ],
   "source": [
    "np.mean (ga)"
   ]
  },
  {
   "cell_type": "code",
   "execution_count": 7,
   "metadata": {},
   "outputs": [
    {
     "data": {
      "text/plain": [
       "<Axes: ylabel='Count'>"
      ]
     },
     "execution_count": 7,
     "metadata": {},
     "output_type": "execute_result"
    },
    {
     "data": {
      "image/png": "[encoded data removed]",
      "text/plain": [
       "<Figure size 640x480 with 1 Axes>"
      ]
     },
     "metadata": {},
     "output_type": "display_data"
    }
   ],
   "source": [
    "sns.histplot(gap000)"
   ]
  },
  {
   "cell_type": "code",
   "execution_count": 8,
   "metadata": {},
   "outputs": [
    {
     "data": {
      "text/plain": [
       "array(['CCCCCCCC.', 'C1CC1.', 'CCC(C)C.', 'CCCC(C)C.', 'CCCCCC.',\n",
       "       'CCCCCCC.', 'C1CCC1.', 'C1CCCC1.', 'CC(C)(C)C.', 'C1CC2CC1C2.',\n",
       "       'CC12CC(C1)C2.', 'CC1C2CC1C2.', 'CC1C2CC1C2C.', 'C1CO1.',\n",
       "       'C1OCOCO1.', 'CC(C)C(C)(C)C.', 'CCC(C)(C)CC.', 'CCCC(C)(C)CC.',\n",
       "       'CC1CCC(C)CC1.', 'CCCCC(C)(C)C.', 'CCCCCCCCCCCCCC.',\n",
       "       'CCCCCCCCCCCCCCC(C)C.', 'CCCCCCCCCCCCC(C)C.', 'CCCC1CCCC1.',\n",
       "       'CCCC(CC)CCC.', 'CCC1CCC(C)CC1.', 'CCCCCC(C)CCC.',\n",
       "       'COC(OC)(OC)OC.', 'CC(C)CC1CCCC1.', 'CCCCCC(CC)CC.',\n",
       "       'CCCCC(C)(C)CCC.', 'CCC(CC)C(CC)CC.', 'CCCCCCCC(C)CC.',\n",
       "       'CCCCCCCCCC(C)CCCC.', 'CCCCCCCCCC(C)CCC.', 'C1CCCCCCCCCC1.',\n",
       "       'CCCC(C)(C)CCC.', 'CCCC1CCC1.', 'CCC1CCCCCC1.', 'CCCC(C)CCC(C)C.',\n",
       "       'CCCC(C)C(C)CCC.', 'CCCCCCCC(C)(C)C.', 'CC1CC(C)C1.',\n",
       "       'CCCCCCCCCCCCCCC.', 'CC(C)CCCCCCC(C)C.', 'CCCCCCC(C)CC(C)C.',\n",
       "       'CC(C)CC1CCC(C)C1.', 'CCCC1CCC(C)CC1.', 'CC1CCCC(C)CCC1.',\n",
       "       'CC1CCCCCCCC1.', 'CCC(C)CCCCCC(C)C.', 'CCCCCC(C)CC(C)CC.',\n",
       "       'CCCC(C)CCC(C)CCC.', 'CCCCCC(CC)CCCC.', 'CCCCCCC(CC)CC.',\n",
       "       'CCCCCCCC(C)CCCCCC.', 'CCCCC(CC)C(C)CC.', 'CCCCCCC1CCC(C)C1.',\n",
       "       'CCCCC1CCC1.', 'C1CC2C3CC(C3)C2C1.', 'CC1CC2CCCC2C1.',\n",
       "       'CC1CCCCCC1C.', 'CCC1CC(C)CC1C.', 'CCC(C)CC(C)CC.', 'CCCCCCCCCC.',\n",
       "       'CCC(C)CCC(C)C.', 'CCCCC1CCC(C)CC1.', 'CCCC1CCC(CCC)CC1.',\n",
       "       'CCC(C)CCCCCCCCCC(C)CC.', 'C1C2CC1(C13CC(C1)C3)C2.',\n",
       "       'CC(C)CCC(C)CC(C)C.', 'CC1C2CCC1C2.', 'CC(C)CCCCCCCCCCCC(C)C.',\n",
       "       'COC1CO1.', 'CC1OC1OC1OC1C.', 'CCCCC(CCCC)C(C)C.',\n",
       "       'CCCCC(CC)C(C)CCC.', 'CCCC1CCCCCC1.', 'CCC(CC)C1CCCC1.',\n",
       "       'CCCCCCCC(CC)CC(C)C.', 'CCCCCCCCCCCCC(CC)CC.', 'CCCCC(C)CC(C)CC.',\n",
       "       'CC1OCOCO1.', 'CCCC1CCC(C)C1C.', 'CCCC(C)C(CC)CCC.',\n",
       "       'CCC(C)CCC(C)CCC(CC)CC.', 'CCCCC(C)CCCCCC(C)C.',\n",
       "       'CCCCC1CCC(CC)C1.', 'CCC1OCOCO1.', 'CCC1CCCCCCCC1.',\n",
       "       'CCCCC(C)C(C)C.', 'CCCCCCC(CC)C(C)C.', 'CCCC(CCC)C(C)CC.',\n",
       "       'COC1OC1C.', 'CCCCCCCCCC(C)C(C)CC.', 'CCCCCCCCCCCC(C)CC(C)C.',\n",
       "       'CC(C)CCCCC1CCCC1.', 'CCCCCCCCCCCCC.', 'CCCCCC(C)CCCCCC(C)C.',\n",
       "       'CCCCCC12CC(C1)C2.', 'CC12CC(C1)C(C)(C)C2.', 'CCC(C)CCCCCCC(C)CC.',\n",
       "       'CCC(C)CCCCCCC(C)(C)C.', 'CCCCC(C)CCC(C)CC(C)C.',\n",
       "       'CCCC(C)CCCCC(CC)CC.', 'CCCCCCC(CC)CC(C)CC.', 'C1OC2(O1)OCO2.',\n",
       "       'CC(C)CCCCCCCC(C)CCC(C)C.', 'CCCCC(C)CCCCCCCC(C)CC.',\n",
       "       'CCCCCCCCCCC.', 'CCCC1CCC(C)C1CC.', 'CCCCCCC(C)CCCC.',\n",
       "       'CC1CC2CC1C2C.', 'CCCC1OCOCO1.', 'CCC(C)(C)C.', 'CC(C)C(C)C.',\n",
       "       'CC(C)CC(C)C.', 'C1CCCCC1.', 'CCCC(C)CCC.', 'CCCC(CC)CC.',\n",
       "       'CCCCCCCC(C)C.', 'CC(C)CCCC(C)C.', 'CCCCC1CCCC1.',\n",
       "       'CC1CC(C)C(C)C1.', 'CCCCCCC(C)C.', 'CCCCCCCCCC(C)C.',\n",
       "       'CCCCC(C)CCCC.', 'CC1CCC1C.', 'CC1CCC(C(C)C)C1.',\n",
       "       'CCC(C)C1CCC(C)C1.', 'CCC1CCC(CC)C1.', 'CCCCC(C)CC.',\n",
       "       'CCCCCCCCC(C)CC.', 'CCC(C)C(C)CC.', 'CCCCCCCCCCCC.',\n",
       "       'CCCC1CCC(CCC)C1.', 'CCCCC(C)CCC.', 'CC1CCCC1C.', 'C1C2C1C1CC21.',\n",
       "       'CC1CCCCCC(C)CC1.', 'CC(C)C1C2CC1C2.', 'CCC(CC)CC.',\n",
       "       'CC1C2CC(C2)C1C.', 'CCC1CCC(C(C)C)C1.', 'CCCCCCC1CCC(CCC)C1.',\n",
       "       'C1CCCCCC1.', 'CCC(C)C(C)C.', 'CCCC(C)(C)C.', 'CCC(CC)C(C)C.',\n",
       "       'CCCCCCCCCCCCCCCCC.', 'CC(C)CCCCC(C)C.', 'CCC1CCCC1.',\n",
       "       'CCC(C)CCCC(C)C.', 'CCCCCC(C)CC.', 'CCC(CC)CC(C)C.', 'CC1CCCCCC1.',\n",
       "       'CCCCCCCCC(C)C.', 'CCC1(C)CCCC1.', 'CCCCC(C)CCC(C)C.',\n",
       "       'CCCCC(CC)CC.', 'C1CCCCCCCCCCCCC1.', 'CCCCCCCCCCCC(C)CC.',\n",
       "       'CCCCC(C)CC(C)C.', 'CCCCCC(C)CCCC.', 'CCCC(CCC)CCC.',\n",
       "       'CCCCC(C)CCCC(C)C.', 'CCC1CCC1.', 'CCCCCCCCC(C)CCCC.',\n",
       "       'CCCCCC(C)CC(C)C.', 'CCCCCC(CC)CCC.', 'CCCCC(CC)CCCC.',\n",
       "       'CCC1CC(C)CC1CC.', 'CCCCCC1CCC(C)C1.', 'CCC(C)CCCCC(C)C.',\n",
       "       'CC(C)CCCCCC(C)C.', 'CCC1CCC(C)C1.', 'CC12CCC(C1)C2.',\n",
       "       'CCCC12CC(C1)C2.', 'CC(C)CCCCCCCCC(C)C.', 'CCCC1CC(C)CC1C.',\n",
       "       'CC1(C)C2CC1C2.', 'CCC1CCCC1CC.', 'CCC(C)CC(C)C.', 'CCCC(C)C(C)C.',\n",
       "       'CC(C)CCCCC(C)CCC(C)C.', 'CCCC(CC)CC(CCC)CCC.',\n",
       "       'CCC1CC(CC)C(CC)C1.', 'C1OCOC(OC2OCOCO2)O1.', 'CC(C)C1CC2CC1C2.',\n",
       "       'CCCC(C)CCCC(C)C.', 'CC(C)C1CCC(C(C)C)C1.', 'CCCC(C)CC(C)CC.',\n",
       "       'CCCCC1CCC(C)C1.', 'CCC12CC(C)(C1)C2.', 'CCCCC(CCC)C(C)C.',\n",
       "       'CC(C)C1CCCC1.', 'CCC(C)CC.', 'CCCC(C)CC.', 'CCCCC(C)C.',\n",
       "       'CC1CCC(C)C1.', 'CCCCCCCCC.', 'CC12CC(C)(C1)C2.', 'CC1CCCC1.',\n",
       "       'CC(C)CCC(C)C.', 'CCCCCC(C)C.', 'CC1CCC1.', 'CC1CC2CC1C2.',\n",
       "       'CC(OCO)(OCO)OCO.', 'CC1C2C(C)C1C2C.', 'CC1CO1.', 'C1CC12CC2.',\n",
       "       'C1CCCCCCCCC1.', 'C1CCC2CCCC2C1.', 'CC(C)CC(C)(C)C.',\n",
       "       'CC(C)C(C)C(C)C.', 'CCC(C)C(C)C(C)C.', 'CCCCCC(C)(C)C.',\n",
       "       'CCC1CCC(CC)CC1.', 'CC1(C)CCCC1.', 'CC(C)CCC(C)(C)C.',\n",
       "       'CCCCCC1CCCC1.', 'CC1CCC(C)(C)C1.', 'CCCCCC(C)C(C)C.',\n",
       "       'CCCC(C)C(C)(C)C.', 'CCCC(C)(C)C(C)C.', 'CCC(C)(C)CC(C)C.',\n",
       "       'CCC(C)C(C)(C)CC.', 'CCC(C)CCCC(C)CC.', 'CCC1CCCC(C)C1.',\n",
       "       'CCCCCC(C)CCCC(C)CCC.', 'CCCCCCCC(C)CCC(C)C.',\n",
       "       'CCCCCCCCC(C)CCC(C)C.', 'CCC1CC1.', 'CCCC(C)(C)CC(C)C.',\n",
       "       'CCCCCCC(C)(C)C.', 'CCCCC(C)CCCC(C)CCCC(C)C.', 'CCCCC(CC)CCC.',\n",
       "       'CCCC(CC)C(C)C.', 'CCCCC(C)C(C)CCC.', 'CCCCCCCC(C)C(C)C.',\n",
       "       'CCCCCCCCCCCCCC(C)CC.', 'C1CC2CCCC2C1.', 'CC(C)C1CCC1.',\n",
       "       'CCCCCCCCCCC1CCCC1.', 'CC(C)CC(C)CC(C)C.', 'CCCCCCCCCC1CCCC1.',\n",
       "       'CCCCCC(C)(C)CC.', 'CCCC1CCCC(C)C1.', 'CCCCCCC1CCCC1.',\n",
       "       'CCCCCCCCCCCCC1CCCC1.', 'CCCCC(C)(CC)CC.', 'CCCC(CCC)C(C)C.',\n",
       "       'CCCCCC(CCC)CCC.', 'CCCCCCCCCC(C)CCCCCC.', 'CC(C)CCC1CCCC1.',\n",
       "       'CC(C)CCCC(C)(C)C.', 'CCCCC(C)C(CC)CCC.', 'CCCCC(C)C(C)CCCC.',\n",
       "       'CCCCCC(C)CCCCC.', 'CCC(C)CCCCC(C)CC.', 'CCCC(CCC)C(CCC)CCC.',\n",
       "       'CCCCCCCCCCC(C)CCC.', 'CCCCCCC(C)C(C)C.', 'CCCCCCCC(C)CCC.',\n",
       "       'CCCCC(C)(C)CC.', 'CCCC(CC)CC(C)C.', 'CCCC(CC)C(C)CC.',\n",
       "       'CCCC(C)C(CC)CC.', 'CCC(CC)C(C)C(C)C.', 'CCCCCCCCC(C)CC(C)C.',\n",
       "       'CCC1CCC(C)(C)C1.', 'CCCCC(CCC)CCCC.', 'CCCCCCC(CCC)CCCC.',\n",
       "       'CCCCC(C)C1CCCC1.', 'CCC(C)CCC1CCCC1.', 'CCCCCCC(C)CCCC(C)C.',\n",
       "       'CCCCCCCC(C)CCCC(C)C.', 'CCCCC1CCCCCC1.', 'CC(C)C1(C)CCCC1.',\n",
       "       'CCC(CC)CCC(CC)CC.', 'CCC(C)CCC(C)C(C)CC.', 'CCCC(C)CCCCC(C)C.',\n",
       "       'CCCCCC(C)C(C)CCC.', 'CCCCCCC(C)CCCC(C)CC.', 'CCCCCCCC(CC)CC.',\n",
       "       'CCCCCCCCCC(CC)CC.', 'CCCCCCCC(CC)CCCC.', 'CCCCCCCCC(C)CCCCC.',\n",
       "       'CCCCCC(C)C(C)CCCCC.', 'CCCC(CC)C(CC)CC.', 'CCCCC(C)C(CC)CC.',\n",
       "       'CCCCCCCCCC(CC)CCCCC.', 'CCC1(C)CCC(C)C1.', 'CCCCCCCCC(CCC)CCCCC.',\n",
       "       'CCCCCCCCCC(CC)CCC.', 'CCCCCCC(CC)CCCCCC.', 'CCCCCCCC(CCC)CCC.',\n",
       "       'C1CCC(CCCCC2CCCC2)C1.', 'CCC(CCCC(C)C)C(C)C.',\n",
       "       'CCC(C)C(C)CCC(C)C.', 'CCCCCCC(C)C(C)CC.', 'CCC1CCC(C)C(CC)C1.',\n",
       "       'CCCCCC1CCCC(C)C1.', 'C1CCC2C3CC(C3)C2C1.', 'CCCCC(C)C(C)CC.',\n",
       "       'CCC1CCC(C)C1C.', 'CC1OC1C.', 'CCCCCC(C)(C)CCCC.', 'CCC1CCCC1C.',\n",
       "       'CC1CC1C.', 'CCCCCC(C)C(C)CC.', 'CCCCC1CCCC(C)C1.',\n",
       "       'CC12CCCC1CCC2.', 'CCCCC(C)(CC)CCC.', 'CCCCCCC(C)CCCC(C)CCCC.',\n",
       "       'CCCC1(CC)CCCC1.', 'CCCC1CCC1CCC.', 'CCC1CC(C)C(C)C1.',\n",
       "       'CC(C)C12CC(C1)C2.', 'CC(C)CCCCCCCCCC(C)C.', 'CCCCCC1CCCCCC1.',\n",
       "       'CCCCCCCCCCC(CC)CC(C)C.', 'CC(C)CCCCCC(C)(C)C.', 'CCC1CCC1C.',\n",
       "       'CCC1CC(C)C1.', 'CC(C)CCC(C)CCC(C)C.', 'CCCC(C)(CCC)CCC.',\n",
       "       'CCC1CCCCCC1C.', 'CCCC1CCCCCC1CC.', 'CCC1CCC(C)C(C)C1.',\n",
       "       'CCCCC1CCC(CC)CC1.', 'CC1CCCC2CCCC12.', 'CCCC1CCC(CC)CC1.',\n",
       "       'CCCCCC1CCC1.', 'CCCCC(CC)CC(C)C.', 'CCCCCC(CC)CC(C)C.',\n",
       "       'CCCCCC(C)C1CCCC1.', 'CCCCCCC(CC)C(C)CCC.', 'CCCCC(C)(C)CCCC.',\n",
       "       'CCCCC(CCCC)CC(C)CC.', 'CCCCC(C)CCC(C)CCCC.', 'CCCCC(CC)(CC)CC.',\n",
       "       'CCCC(C)CCCCC(C)CCC.', 'CCCC1(CCC)CCCC1.', 'CCCCC(CC)(CC)CCC.',\n",
       "       'CCCC(C)CCC(C)CC.', 'CCCC(C)CCCC(C)CC(C)C.', 'CCC(C)(C)C1CCCC1.',\n",
       "       'CC1CCCC(C)CC(C)C1.', 'CC1CCC(C)C2CCCC12.', 'CC(C)CCC1CCCCCC1.',\n",
       "       'CCC1CC(C)C(CC)C1.', 'CCCC1CCC(C)C1.', 'CCCC(C)CCC(C)(C)C.',\n",
       "       'CCCCCCCCC1CCC(C)CC1.', 'CCCCC(C)CCCCCCCCC(C)C.', 'CCCC1CCC1C.',\n",
       "       'CCCC1CCCC1C.', 'CC1CCC2CCCC12.', 'C1CC2C3CCC2C13.',\n",
       "       'CCCC(C)CCCCCCC(C)C.', 'C1OC1OC1CO1.', 'CCCC(C)CCC(CC)CC.',\n",
       "       'CCCCC(CC)CCC(C)C.', 'CCCCCCCCCCCC(CC)CCC.', 'CCC1CCCC(CC)CCC1.',\n",
       "       'CCC(C)C(CC)CC(C)C.', 'CCC(C)C(C)(C)C.', 'CCC1CCCC(C)CCC1.',\n",
       "       'CCC(C)CCCCC(C)CC(C)C.', 'CC(C)CCCCCC(C)CCC(C)C.',\n",
       "       'CCC1CC2CCCC2C1.', 'CCC1CCCCCC1CC.', 'CCCCC(C)CCCCCC(C)CCCC.',\n",
       "       'CCCCC1CCC(CC)C1CCC.', 'CC1C2(C)CC1(C)C2.', 'CC1CC(C)C2CCCC12.',\n",
       "       'CCCCC1CCC(C)C(C)C1.', 'CCC(CC)C(C)CC(C)C.', 'CCCC(C)C(CC)CC(C)C.',\n",
       "       'CCCC(C)(CC)CCC(C)C.', 'CCC(C)CCC(C)CC(C)C.', 'CCCC(CCC)CC(C)C.',\n",
       "       'CCCC(CCC)CCC(C)C.', 'CCCC(CC)CCCC(C)C.', 'CCC(CC)CCCCC(C)C.',\n",
       "       'CCCCCC(C)(C)CCC.', 'CCCCCC(C)C(CC)CC.', 'CCCC(CCC)C(C)C(C)C.',\n",
       "       'CCCCCC(C)CCC(C)CCC.', 'CCCCCC(C)CCCCC(C)C.', 'CC12CC3CC1CC3C2.',\n",
       "       'CCCCCC(C)CC(C)CCCC.', 'CC1CC2CCCCC2C1.', 'CCCCC1OCOCO1.',\n",
       "       'CCC1CCC(CC)C1CC.', 'CC(C)CCCCCCCCC(C)(C)C.', 'OC1OCOCO1.',\n",
       "       'CCCC1CC2CCCCC2C1.', 'CC1CC2CCC(C)C2C1.', 'CCCCC(C)CCC(CC)CCC.',\n",
       "       'CCCCCCCCCC(C)C(CC)CCC.', 'CCCC(C)CCC1CCC1.',\n",
       "       'CCCCCCC(C)CCCCC(C)C.', 'CCCC(C)CCC1CCCC1.', 'CCCCCC(CCCCC)C(C)C.',\n",
       "       'CCCCOC1OCOCO1.', 'CCCC(C)CCCCCC(C)CC.', 'CCCCCCC(C)C(C)CCCC.',\n",
       "       'CCCCCC(C)CC(C)CC(C)C.', 'CCCCC(C)CC(C)CCC(C)C.',\n",
       "       'CCC(C)CCCC(C)CCC(C)C.', 'CCCCC(C)C(C)CC(C)CCC.',\n",
       "       'CCCCCCCCC(CC)C(C)C.', 'CCCCCCC(CC)CCC(C)C.',\n",
       "       'CCCC(CC)CCCCC(C)CC.', 'CCCC(C)CCCC(CC)C(C)C.',\n",
       "       'CCC(C)CCCC(C)C(CC)CC.', 'CCCC(CC)CCC(C)CC(C)C.',\n",
       "       'CCC(C)C(CC)CCCCC(C)C.', 'CCC(CC)CC(C)CCCC(C)C.',\n",
       "       'CCCCCC(CC)C(CC)CCC.', 'CCCC(C)CCC(CCC)CCC.',\n",
       "       'CCCC(CCC)CCCCC(C)C.', 'CCCCCC(CCC(C)C)C(C)C.',\n",
       "       'CCCC(CCC)C(C)CCC(C)C.', 'CCCCC(CCC)(CCC)CCC.', 'CCC1CCC(C)C1CC.',\n",
       "       'CCC1CCCCC1CC.', 'CC(C)CCC(C)C(C)C.', 'CC1CCCC(C(C)C)CC1.',\n",
       "       'CCCCCC(C)CCCC(C)CCC(C)C.', 'CCCCCCC(C)CCCCCC(C)CC.',\n",
       "       'CCCCCCCCC(C)CCCC(C)CC.', 'CCCCCCCCCCC(C)CC(C)CC.',\n",
       "       'CCC1CC2CCCCC2C1.', 'CC(C)CC1CCC(C(C)C)C1.', 'CCCC1CCC(C)C(CC)C1.',\n",
       "       'CC1CCC(CCC2CCC(C)C2)C1.', 'CCCC(C(C)C)C(C)CC.',\n",
       "       'CCC1(CC)CCC(C)C1.', 'CC1CC2CCCC(C)C2C1.', 'CC1CC2C(C)CC(C)C2C1.',\n",
       "       'CC1(C)CCCCCCCC1.', 'CC(C)CCC1CCC(C)CC1.', 'CCCC1CC(C)C(C)C1.',\n",
       "       'CCCCC(CC)C(C)C.', 'CCC1CCC(C(C)(C)C)C1.', 'CC(C)CC1C2CC1C2.',\n",
       "       'CCC(C)C(CC)CC.', 'CCCC(C)CC(C)C.', 'CCCC(C)(CC)CC.',\n",
       "       'CCC1CC(C)(C)CC1C.', 'CC(C)CCCC(C)C(C)C.', 'CCC(C)CCC(CC)CC.',\n",
       "       'CCCCC1CCC1C.', 'CCCCCCCOC(C)(F)F.', 'CCC(C)OC(F)(F)C(F)(F)F.',\n",
       "       'CCC1(C(C)C)CC(F)(F)C1.'], dtype=object)"
      ]
     },
     "execution_count": 8,
     "metadata": {},
     "output_type": "execute_result"
    }
   ],
   "source": [
    "SMILES000[gap000>10]"
   ]
  },
  {
   "cell_type": "code",
   "execution_count": 32,
   "metadata": {},
   "outputs": [
    {
     "data": {
      "text/plain": [
       "(139896,)"
      ]
     },
     "execution_count": 32,
     "metadata": {},
     "output_type": "execute_result"
    }
   ],
   "source": [
    "X_smiles00 = np.concatenate ((X_smiles000, X_smiles000[bad_mw0]))\n",
    "SMILES00 = np.concatenate ((SMILES000, SMILES000[bad_mw0]))\n",
    "gap00 = np.concatenate ((gap000, gap000[bad_mw0]))\n",
    "\n",
    "gap00.shape"
   ]
  },
  {
   "cell_type": "code",
   "execution_count": 37,
   "metadata": {},
   "outputs": [],
   "source": [
    "SMILES = []\n",
    "for smile in SMILES00:\n",
    "    SMILES.append(smile[:-1])\n",
    "\n",
    "SMILES = np.array(SMILES)"
   ]
  },
  {
   "cell_type": "code",
   "execution_count": 38,
   "metadata": {},
   "outputs": [
    {
     "name": "stdout",
     "output_type": "stream",
     "text": [
      "O=C(O)C=C(CC(=O)O)C(=O)O\n",
      "this is output:  \n",
      "     RDKit          2D\n",
      "\n",
      " 12 11  0  0  0  0  0  0  0  0999 V2000\n",
      "   -1.2990    2.2500    0.0000 O   0  0  0  0  0  0  0  0  0  0  0  0\n",
      "   -1.2990    0.7500    0.0000 C   0  0  0  0  0  0  0  0  0  0  0  0\n",
      "   -2.5981    0.0000    0.0000 O   0  0  0  0  0  0  0  0  0  0  0  0\n",
      "    0.0000    0.0000    0.0000 C   0  0  0  0  0  0  0  0  0  0  0  0\n",
      "    1.2990    0.7500    0.0000 C   0  0  0  0  0  0  0  0  0  0  0  0\n",
      "    2.5981   -0.0000    0.0000 C   0  0  0  0  0  0  0  0  0  0  0  0\n",
      "    3.8971    0.7500    0.0000 C   0  0  0  0  0  0  0  0  0  0  0  0\n",
      "    3.8971    2.2500    0.0000 O   0  0  0  0  0  0  0  0  0  0  0  0\n",
      "    5.1962   -0.0000    0.0000 O   0  0  0  0  0  0  0  0  0  0  0  0\n",
      "    1.2990    2.2500    0.0000 C   0  0  0  0  0  0  0  0  0  0  0  0\n",
      "    0.0000    3.0000    0.0000 O   0  0  0  0  0  0  0  0  0  0  0  0\n",
      "    2.5981    3.0000    0.0000 O   0  0  0  0  0  0  0  0  0  0  0  0\n",
      "  1  2  2  0\n",
      "  2  3  1  0\n",
      "  2  4  1  0\n",
      "  4  5  2  3\n",
      "  5  6  1  0\n",
      "  6  7  1  0\n",
      "  7  8  2  0\n",
      "  7  9  1  0\n",
      "  5 10  1  0\n",
      " 10 11  2  0\n",
      " 10 12  1  0\n",
      "M  END\n",
      "\n",
      "this is re.sub OCOCCCCOOCOO\n",
      "12\n",
      "this is m:  <rdkit.Chem.rdchem.Mol object at 0x7f5504178900>\n",
      "this is 2D coordinates [[-1.299   2.25    0.    ]\n",
      " [-1.299   0.75    0.    ]\n",
      " [-2.5981  0.      0.    ]\n",
      " [ 0.      0.      0.    ]\n",
      " [ 1.299   0.75    0.    ]\n",
      " [ 2.5981 -0.      0.    ]\n",
      " [ 3.8971  0.75    0.    ]\n",
      " [ 3.8971  2.25    0.    ]\n",
      " [ 5.1962 -0.      0.    ]]\n"
     ]
    }
   ],
   "source": [
    "print (SMILES[1])\n",
    "m = AllChem.MolFromSmiles(SMILES[1])\n",
    "output = Chem.MolToMolBlock(m)\n",
    "\n",
    "print (\"this is output: \", output)\n",
    "print (\"this is re.sub\", re.sub('[\\W+\\d+H]', '', SMILES[1]))\n",
    "print (len(re.sub('[\\W+\\d+H]', '', SMILES[1])))\n",
    "print (\"this is m: \", m)\n",
    "m\n",
    "\n",
    "coord = np.array([a.split()[:3] for a in output.split('\\n')[4:(4+9)]]).astype(float)\n",
    "print (\"this is 2D coordinates\", coord)"
   ]
  },
  {
   "cell_type": "code",
   "execution_count": 39,
   "metadata": {},
   "outputs": [
    {
     "name": "stdout",
     "output_type": "stream",
     "text": [
      "Currently processed: 5000/139896\n",
      "Currently processed: 10000/139896\n",
      "Currently processed: 15000/139896\n",
      "Currently processed: 20000/139896\n",
      "Currently processed: 25000/139896\n",
      "Currently processed: 30000/139896\n",
      "Currently processed: 35000/139896\n",
      "Currently processed: 40000/139896\n",
      "Currently processed: 45000/139896\n",
      "Currently processed: 50000/139896\n",
      "Currently processed: 55000/139896\n",
      "Currently processed: 60000/139896\n",
      "Currently processed: 65000/139896\n",
      "Currently processed: 70000/139896\n",
      "Currently processed: 75000/139896\n",
      "Currently processed: 80000/139896\n",
      "Currently processed: 85000/139896\n",
      "Currently processed: 90000/139896\n",
      "Currently processed: 95000/139896\n",
      "Currently processed: 100000/139896\n",
      "Currently processed: 105000/139896\n",
      "Currently processed: 110000/139896\n",
      "Currently processed: 115000/139896\n",
      "Currently processed: 120000/139896\n",
      "Currently processed: 125000/139896\n",
      "Currently processed: 130000/139896\n",
      "Currently processed: 135000/139896\n"
     ]
    }
   ],
   "source": [
    "features = {\n",
    "    'MolWt': Descriptors.MolWt,\n",
    "    'HeavyAtomCount': Descriptors.HeavyAtomCount,\n",
    "    'HeavyAtomMolWt': Descriptors.HeavyAtomMolWt,\n",
    "    'NumHAcceptors': Descriptors.NumHAcceptors,\n",
    "    'NumHDonors': Descriptors.NumHDonors,\n",
    "    'NumHeteroatoms': Descriptors.NumHeteroatoms,\n",
    "    'NumRotatableBonds': Descriptors.NumRotatableBonds,\n",
    "    'NumValenceElectrons': Descriptors.NumValenceElectrons,\n",
    "    'NumAromaticRings': Descriptors.NumAromaticRings,\n",
    "    'NumSaturatedRings': Descriptors.NumSaturatedRings,\n",
    "    'NumAliphaticRings': Descriptors.NumAliphaticRings,\n",
    "    'NumRadicalElectrons': Descriptors.NumRadicalElectrons,\n",
    "    'NumAliphaticCarbocycles': Descriptors.NumAliphaticCarbocycles,\n",
    "    'NumAliphaticHeterocycles': Descriptors.NumAliphaticHeterocycles,\n",
    "    'NumAromaticCarbocycles': Descriptors.NumAromaticCarbocycles,\n",
    "    'NumAromaticHeterocycles': Descriptors.NumAromaticHeterocycles,\n",
    "    'NumSaturatedCarbocycles': Descriptors.NumSaturatedCarbocycles,\n",
    "    'NumSaturatedHeterocycles': Descriptors.NumSaturatedHeterocycles,\n",
    "    'Logp': logp.MolLogP,\n",
    "    'TPSA': tpsa.CalcTPSA,\n",
    "    'QED' : QED.default\n",
    "}\n",
    "\n",
    "out_data = {}\n",
    "for f in features.keys():\n",
    "    out_data[f] = []\n",
    "\n",
    "for i, smiles in enumerate(SMILES):\n",
    "    \n",
    "    if (i + 1) % 5000 == 0:\n",
    "        print('Currently processed: {}/{}'.format(i+1, len(SMILES)))\n",
    "    \n",
    "    m = AllChem.MolFromSmiles(smiles)\n",
    "    \n",
    "    for k, v in features.items():\n",
    "        out_data[k].append(v(m))"
   ]
  },
  {
   "cell_type": "code",
   "execution_count": 40,
   "metadata": {},
   "outputs": [],
   "source": [
    "out_data['gap'] = gap00\n",
    "out_data['SMILES'] = SMILES\n",
    "out_data = pd.DataFrame(out_data)\n",
    "out_data.to_csv('Features_gap_pubchemqc.csv', index = False)"
   ]
  },
  {
   "cell_type": "code",
   "execution_count": null,
   "metadata": {},
   "outputs": [],
   "source": []
  }
 ],
 "metadata": {
  "kernelspec": {
   "display_name": "tf-gpu",
   "language": "python",
   "name": "python3"
  },
  "language_info": {
   "codemirror_mode": {
    "name": "ipython",
    "version": 3
   },
   "file_extension": ".py",
   "mimetype": "text/x-python",
   "name": "python",
   "nbconvert_exporter": "python",
   "pygments_lexer": "ipython3",
   "version": "3.9.16"
  },
  "orig_nbformat": 4
 },
 "nbformat": 4,
 "nbformat_minor": 2
}
