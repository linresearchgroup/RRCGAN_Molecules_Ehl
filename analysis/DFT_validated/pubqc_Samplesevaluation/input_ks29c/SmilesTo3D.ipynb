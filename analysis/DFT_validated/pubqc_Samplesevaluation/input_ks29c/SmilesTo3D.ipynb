{
 "cells": [
  {
   "cell_type": "code",
   "execution_count": 5,
   "metadata": {},
   "outputs": [
    {
     "name": "stdout",
     "output_type": "stream",
     "text": [
      "PubChemQC_SMILES.csv\n",
      "                        SMILES  gap_pubchemqc  gap_DFT\n",
      "0  O=C1CCCCC(=O)N1CC(O)CNC1CC1       4.966078      NaN\n"
     ]
    }
   ],
   "source": [
    "#import pybel\n",
    "#from pybel import *\n",
    "import numpy as np\n",
    "import pandas as pd\n",
    "#import matplotlib.pyplot as plt\n",
    "from openbabel import *\n",
    "from openbabel.pybel import *\n",
    "import openbabel.pybel as pybel\n",
    "import openbabel\n",
    "import os\n",
    "import ntpath\n",
    "import re\n",
    "\n",
    "\n",
    "for filename in os.listdir('./'):\n",
    "    if filename.endswith(\".csv\"):\n",
    "        samples = ntpath.basename(filename)\n",
    "        print (samples)\n",
    "\n",
    "samples_smiles = pd.read_csv(samples)\n",
    "print (samples_smiles.head())"
   ]
  },
  {
   "cell_type": "code",
   "execution_count": 6,
   "metadata": {},
   "outputs": [
    {
     "name": "stdout",
     "output_type": "stream",
     "text": [
      "O=C1CCCCC(=O)N1CC(O)CNC1CC1\t\n",
      "\n"
     ]
    }
   ],
   "source": [
    "for ii, smiles in enumerate(samples_smiles['SMILES']):\n",
    "    mol = pybel.readstring(\"smi\", smiles)\n",
    "    print (mol)\n",
    "    mol.make3D()\n",
    "    p_counter = 0\n",
    "    for kk, char in enumerate (smiles):\n",
    "        s = smiles.replace(\"=\",\"d\")\n",
    "        s = s.replace(\"#\",\"t\")\n",
    "        s = s.replace(\"(\",\"q\")\n",
    "        s = s.replace(\")\",\"r\")\n",
    "    f = open(\"{}.com\".format(s), \"w\")    \n",
    "    f.write(\"%chk={}.chk\\n\".format(s))\n",
    "    f.write(\"%NProcShared=20\\n\")\n",
    "    f.write(\"# opt freq b3lyp/6-31g(2df,p)\\n\")\n",
    "    f.write(\"\\n\")\n",
    "    f.write(\"Title Card Required\")\n",
    "    #f.write(\"\\n\")\n",
    "    with open('file.test', 'w') as atoms:\n",
    "        atoms.write(mol.write(\"gjf\"))\n",
    "    with open('file.test', 'r') as atoms2:\n",
    "        atomss = atoms2.read().splitlines(True)\n",
    "    f.writelines(atomss[3:])\n",
    "    ff = open(\"{}.sh\".format(ii+1),'w')\n",
    "    ff.write(\"#!/bin/bash -\\n\")\n",
    "    ff.write(\"#-------------------------------------------------------------------------------\\n\")\n",
    "    ff.write(\"#  SBATCH CONFIG\\n\")\n",
    "    ff.write(\"#-------------------------------------------------------------------------------\\n\")\n",
    "    ff.write(\"## resources\\n\")\n",
    "    ff.write(\"#SBATCH -N1  # nodes\\n\")\n",
    "    ff.write(\"#SBATCH -n4  # tasks (cores)\\n\")\n",
    "    ff.write(\"#SBATCH --ntasks-per-node=4  # how many tasks per node\\n\")\n",
    "    ff.write(\"#SBATCH --mem-per-cpu=4G  # memory required per core\\n\")\n",
    "    ff.write(\"#SBATCH -t 00-08:00  # time (days-hours:minutes)\\n\")\n",
    "    ff.write(\"#\\n\")\n",
    "    ff.write(\"#SBATCH -p Lewis  # partition (which set of nodes to run on)\\n\")\n",
    "    ff.write(\"#SBATCH -o {}.out\\n\".format(s))\n",
    "    ff.write(\"#SBATCH -J gauss_rcgan\\n\")\n",
    "    ff.write(\"#\\n\")\n",
    "    ff.write(\"module load gaussian/gaussian-16-A.03\\n\")\n",
    "    ff.write('echo \"### Starting Gaussian ###\"\\n')\n",
    "    ff.write(\"g16 < ./{}.com\\n\".format(s))\n",
    "    ff.write('echo \"### All Done ###\"\\n')\n",
    "    ff.write(\"\\n\")"
   ]
  }
 ],
 "metadata": {
  "kernelspec": {
   "display_name": "tf-gpu",
   "language": "python",
   "name": "python3"
  },
  "language_info": {
   "codemirror_mode": {
    "name": "ipython",
    "version": 3
   },
   "file_extension": ".py",
   "mimetype": "text/x-python",
   "name": "python",
   "nbconvert_exporter": "python",
   "pygments_lexer": "ipython3",
   "version": "3.9.16"
  },
  "orig_nbformat": 4
 },
 "nbformat": 4,
 "nbformat_minor": 2
}
