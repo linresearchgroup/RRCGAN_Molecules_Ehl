{
 "cells": [
  {
   "cell_type": "code",
   "execution_count": null,
   "metadata": {},
   "outputs": [],
   "source": [
    "# Task:\n",
    "# Turn data into \"images\"\n",
    "# Two networks\n",
    "# GAN: generate atoms and bonds (adjacency) layers\n",
    "# simple CNN: turning SMILES layer to atoms+bonds layers\n",
    "\n",
    "import warnings\n",
    "warnings.filterwarnings('ignore')\n",
    "\n",
    "import numpy as np\n",
    "import pandas as pd\n",
    "from numpy import ndarray\n",
    "from sklearn.feature_extraction.text import CountVectorizer, TfidfVectorizer\n",
    "\n",
    "from tensorflow.keras.preprocessing.text import Tokenizer\n",
    "from tensorflow.keras.preprocessing.sequence import pad_sequences\n",
    "from tensorflow.keras.utils import to_categorical\n",
    "import pickle\n",
    "\n",
    "import matplotlib.pyplot as plt\n",
    "import seaborn as sns\n",
    "\n",
    "from sklearn.decomposition import PCA, TruncatedSVD\n",
    "from sklearn.preprocessing import StandardScaler\n",
    "\n",
    "# loading SMILES data using Chainer Chemistry\n",
    "from chainer_chemistry.datasets.molnet import get_molnet_dataset\n",
    "from chainer_chemistry.datasets.numpy_tuple_dataset import NumpyTupleDataset\n",
    "from chainer_chemistry.dataset.preprocessors import GGNNPreprocessor\n",
    "\n",
    "from rdkit import Chem\n",
    "preprocessor = GGNNPreprocessor()\n",
    "\n",
    "\"\"\"Chem.MolFromSmiles('CC1CC(O)C2(CC2)O1')\"\"\""
   ]
  },
  {
   "cell_type": "code",
   "execution_count": null,
   "metadata": {},
   "outputs": [],
   "source": [
    "with open('./../data/trainingsets/image.pickle', 'rb') as f:\n",
    "    X_smiles, SMILES, gap = pickle.load (f)"
   ]
  },
  {
   "cell_type": "code",
   "execution_count": null,
   "metadata": {},
   "outputs": [],
   "source": [
    "high_gap = gap[gap >= 9.995]\n",
    "SMILES_high = SMILES [gap >= 9.995]\n",
    "X_smiles_high = X_smiles [gap >= 9.995]\n",
    "print ('total samples >= 9.5(eV):', high_gap.shape[0])"
   ]
  },
  {
   "cell_type": "code",
   "execution_count": null,
   "metadata": {},
   "outputs": [],
   "source": [
    "sns.histplot (high_gap)"
   ]
  },
  {
   "cell_type": "code",
   "execution_count": null,
   "metadata": {},
   "outputs": [],
   "source": [
    "idx = np.random.choice(len(high_gap), int(len(high_gap) * 0.8), replace = False)\n",
    "idx_test = np.setdiff1d(list(range(len(high_gap))), idx)\n",
    "idx_test.shape"
   ]
  },
  {
   "cell_type": "code",
   "execution_count": null,
   "metadata": {},
   "outputs": [],
   "source": [
    "# subsampling\n",
    "idx = np.random.choice(len(high_gap), int(len(high_gap) * 0.8), replace = False)\n",
    "X_smiles_train, SMILES_train, y_train = (X_smiles_high[idx], \n",
    "                                         SMILES_high[idx], \n",
    "                                         high_gap[idx])\n",
    "\n",
    "idx_test = np.setdiff1d(list(range(len(high_gap))), idx)\n",
    "X_smiles_test, SMILES_test, y_test = (X_smiles_high[idx_test], \n",
    "                                      SMILES_high[idx_test], \n",
    "                                      high_gap[idx_test])"
   ]
  },
  {
   "cell_type": "code",
   "execution_count": null,
   "metadata": {},
   "outputs": [],
   "source": [
    "with open('./../data/trainingsets/highgap_pubqc/image.pickle', 'wb') as f:\n",
    "    pickle.dump((X_smiles_high, SMILES_high, high_gap), f)\n",
    "    \n",
    "with open('./../data/trainingsets/highgap_pubqc/image_train.pickle', 'wb') as f:\n",
    "    pickle.dump((X_smiles_train, SMILES_train, y_train), f)\n",
    "    \n",
    "with open('./../data/trainingsets/highgap_pubqc/image_test.pickle', 'wb') as f:\n",
    "    pickle.dump((X_smiles_test, SMILES_test, y_test), f)"
   ]
  }
 ],
 "metadata": {
  "kernelspec": {
   "display_name": "ml",
   "language": "python",
   "name": "python3"
  },
  "language_info": {
   "codemirror_mode": {
    "name": "ipython",
    "version": 3
   },
   "file_extension": ".py",
   "mimetype": "text/x-python",
   "name": "python",
   "nbconvert_exporter": "python",
   "pygments_lexer": "ipython3",
   "version": "3.9.13"
  },
  "orig_nbformat": 4
 },
 "nbformat": 4,
 "nbformat_minor": 2
}
