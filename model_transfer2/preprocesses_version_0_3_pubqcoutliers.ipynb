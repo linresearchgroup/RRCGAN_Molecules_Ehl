{
 "cells": [
  {
   "cell_type": "code",
   "execution_count": 2,
   "metadata": {},
   "outputs": [
    {
     "name": "stderr",
     "output_type": "stream",
     "text": [
      "2023-05-19 11:27:56.728389: I tensorflow/core/platform/cpu_feature_guard.cc:193] This TensorFlow binary is optimized with oneAPI Deep Neural Network Library (oneDNN) to use the following CPU instructions in performance-critical operations:  AVX2 AVX_VNNI FMA\n",
      "To enable them in other operations, rebuild TensorFlow with the appropriate compiler flags.\n",
      "2023-05-19 11:27:56.789768: I tensorflow/core/util/port.cc:104] oneDNN custom operations are on. You may see slightly different numerical results due to floating-point round-off errors from different computation orders. To turn them off, set the environment variable `TF_ENABLE_ONEDNN_OPTS=0`.\n",
      "2023-05-19 11:27:57.126297: W tensorflow/compiler/xla/stream_executor/platform/default/dso_loader.cc:64] Could not load dynamic library 'libnvinfer.so.7'; dlerror: libnvinfer.so.7: cannot open shared object file: No such file or directory; LD_LIBRARY_PATH: /usr/local/cuda/lib64:/usr/local/cuda-11.2/lib64:\n",
      "2023-05-19 11:27:57.126341: W tensorflow/compiler/xla/stream_executor/platform/default/dso_loader.cc:64] Could not load dynamic library 'libnvinfer_plugin.so.7'; dlerror: libnvinfer_plugin.so.7: cannot open shared object file: No such file or directory; LD_LIBRARY_PATH: /usr/local/cuda/lib64:/usr/local/cuda-11.2/lib64:\n",
      "2023-05-19 11:27:57.126344: W tensorflow/compiler/tf2tensorrt/utils/py_utils.cc:38] TF-TRT Warning: Cannot dlopen some TensorRT libraries. If you would like to use Nvidia GPU with TensorRT, please make sure the missing libraries mentioned above are installed properly.\n"
     ]
    },
    {
     "data": {
      "text/plain": [
       "\"Chem.MolFromSmiles('CC1CC(O)C2(CC2)O1')\""
      ]
     },
     "execution_count": 2,
     "metadata": {},
     "output_type": "execute_result"
    }
   ],
   "source": [
    "# Task:\n",
    "# Turn data into \"images\"\n",
    "# Two networks\n",
    "# GAN: generate atoms and bonds (adjacency) layers\n",
    "# simple CNN: turning SMILES layer to atoms+bonds layers\n",
    "\n",
    "import warnings\n",
    "warnings.filterwarnings('ignore')\n",
    "\n",
    "import numpy as np\n",
    "import pandas as pd\n",
    "from numpy import ndarray\n",
    "from sklearn.feature_extraction.text import CountVectorizer, TfidfVectorizer\n",
    "\n",
    "from tensorflow.keras.preprocessing.text import Tokenizer\n",
    "from tensorflow.keras.preprocessing.sequence import pad_sequences\n",
    "from tensorflow.keras.utils import to_categorical\n",
    "import pickle\n",
    "\n",
    "import matplotlib.pyplot as plt\n",
    "import seaborn as sns\n",
    "\n",
    "from sklearn.decomposition import PCA, TruncatedSVD\n",
    "from sklearn.preprocessing import StandardScaler\n",
    "\n",
    "# loading SMILES data using Chainer Chemistry\n",
    "from chainer_chemistry.datasets.molnet import get_molnet_dataset\n",
    "from chainer_chemistry.datasets.numpy_tuple_dataset import NumpyTupleDataset\n",
    "from chainer_chemistry.dataset.preprocessors import GGNNPreprocessor\n",
    "\n",
    "from rdkit import Chem\n",
    "preprocessor = GGNNPreprocessor()\n",
    "\n",
    "\"\"\"Chem.MolFromSmiles('CC1CC(O)C2(CC2)O1')\"\"\""
   ]
  },
  {
   "cell_type": "code",
   "execution_count": 3,
   "metadata": {},
   "outputs": [],
   "source": [
    "with open('./../data/trainingsets/image.pickle', 'rb') as f:\n",
    "    X_smiles, SMILES, gap = pickle.load (f)"
   ]
  },
  {
   "cell_type": "code",
   "execution_count": 4,
   "metadata": {},
   "outputs": [
    {
     "name": "stdout",
     "output_type": "stream",
     "text": [
      "total samples >= 9.5(eV): 861\n"
     ]
    }
   ],
   "source": [
    "high_gap = gap[gap >= 9.9]\n",
    "SMILES_high = SMILES [gap >= 9.9]\n",
    "X_smiles_high = X_smiles [gap >= 9.9]\n",
    "print ('total samples >= 9.5(eV):', high_gap.shape[0])"
   ]
  },
  {
   "cell_type": "code",
   "execution_count": 5,
   "metadata": {},
   "outputs": [
    {
     "data": {
      "text/plain": [
       "<Axes: ylabel='Count'>"
      ]
     },
     "execution_count": 5,
     "metadata": {},
     "output_type": "execute_result"
    },
    {
     "data": {
      "image/png": "[encoded data removed]",
      "text/plain": [
       "<Figure size 640x480 with 1 Axes>"
      ]
     },
     "metadata": {},
     "output_type": "display_data"
    }
   ],
   "source": [
    "sns.histplot (high_gap)"
   ]
  },
  {
   "cell_type": "code",
   "execution_count": 6,
   "metadata": {},
   "outputs": [
    {
     "data": {
      "text/plain": [
       "(173,)"
      ]
     },
     "execution_count": 6,
     "metadata": {},
     "output_type": "execute_result"
    }
   ],
   "source": [
    "idx = np.random.choice(len(high_gap), int(len(high_gap) * 0.8), replace = False)\n",
    "idx_test = np.setdiff1d(list(range(len(high_gap))), idx)\n",
    "idx_test.shape"
   ]
  },
  {
   "cell_type": "code",
   "execution_count": 10,
   "metadata": {},
   "outputs": [
    {
     "data": {
      "text/plain": [
       "(861,)"
      ]
     },
     "execution_count": 10,
     "metadata": {},
     "output_type": "execute_result"
    }
   ],
   "source": [
    "SMILES_high.shape"
   ]
  },
  {
   "cell_type": "code",
   "execution_count": 11,
   "metadata": {},
   "outputs": [
    {
     "data": {
      "text/plain": [
       "(861,)"
      ]
     },
     "execution_count": 11,
     "metadata": {},
     "output_type": "execute_result"
    }
   ],
   "source": [
    "high_gap.shape"
   ]
  },
  {
   "cell_type": "code",
   "execution_count": 12,
   "metadata": {},
   "outputs": [],
   "source": [
    "# subsampling\n",
    "idx = np.random.choice(len(high_gap), int(len(high_gap) * 0.8), replace = False)\n",
    "X_smiles_train, SMILES_train, y_train = (X_smiles_high[idx], \n",
    "                                         SMILES_high[idx], \n",
    "                                         high_gap[idx])\n",
    "\n",
    "idx_test = np.setdiff1d(list(range(len(high_gap))), idx)\n",
    "X_smiles_test, SMILES_test, y_test = (X_smiles_high[idx_test], \n",
    "                                      SMILES_high[idx_test], \n",
    "                                      high_gap[idx_test])"
   ]
  },
  {
   "cell_type": "code",
   "execution_count": 13,
   "metadata": {},
   "outputs": [],
   "source": [
    "with open('./../data/trainingsets/highgap_pubqc/image.pickle', 'wb') as f:\n",
    "    pickle.dump((X_smiles_high, SMILES_high, high_gap), f)\n",
    "    \n",
    "with open('./../data/trainingsets/highgap_pubqc/image_train.pickle', 'wb') as f:\n",
    "    pickle.dump((X_smiles_train, SMILES_train, y_train), f)\n",
    "    \n",
    "with open('./../data/trainingsets/highgap_pubqc/image_test.pickle', 'wb') as f:\n",
    "    pickle.dump((X_smiles_test, SMILES_test, y_test), f)"
   ]
  }
 ],
 "metadata": {
  "kernelspec": {
   "display_name": "ml",
   "language": "python",
   "name": "python3"
  },
  "language_info": {
   "codemirror_mode": {
    "name": "ipython",
    "version": 3
   },
   "file_extension": ".py",
   "mimetype": "text/x-python",
   "name": "python",
   "nbconvert_exporter": "python",
   "pygments_lexer": "ipython3",
   "version": "3.9.13"
  },
  "orig_nbformat": 4
 },
 "nbformat": 4,
 "nbformat_minor": 2
}
