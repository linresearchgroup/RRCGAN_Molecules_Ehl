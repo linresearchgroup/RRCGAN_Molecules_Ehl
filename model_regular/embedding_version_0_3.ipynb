{
 "cells": [
  {
   "cell_type": "code",
   "execution_count": 1,
   "id": "07ea4c9a",
   "metadata": {},
   "outputs": [
    {
     "name": "stderr",
     "output_type": "stream",
     "text": [
      "2023-06-13 14:15:17.664461: I tensorflow/core/platform/cpu_feature_guard.cc:193] This TensorFlow binary is optimized with oneAPI Deep Neural Network Library (oneDNN) to use the following CPU instructions in performance-critical operations:  AVX2 AVX_VNNI FMA\n",
      "To enable them in other operations, rebuild TensorFlow with the appropriate compiler flags.\n",
      "2023-06-13 14:15:17.730269: I tensorflow/core/util/port.cc:104] oneDNN custom operations are on. You may see slightly different numerical results due to floating-point round-off errors from different computation orders. To turn them off, set the environment variable `TF_ENABLE_ONEDNN_OPTS=0`.\n",
      "2023-06-13 14:15:18.060344: W tensorflow/compiler/xla/stream_executor/platform/default/dso_loader.cc:64] Could not load dynamic library 'libnvinfer.so.7'; dlerror: libnvinfer.so.7: cannot open shared object file: No such file or directory; LD_LIBRARY_PATH: /usr/local/cuda/lib64:/usr/local/cuda-11.2/lib64:\n",
      "2023-06-13 14:15:18.060384: W tensorflow/compiler/xla/stream_executor/platform/default/dso_loader.cc:64] Could not load dynamic library 'libnvinfer_plugin.so.7'; dlerror: libnvinfer_plugin.so.7: cannot open shared object file: No such file or directory; LD_LIBRARY_PATH: /usr/local/cuda/lib64:/usr/local/cuda-11.2/lib64:\n",
      "2023-06-13 14:15:18.060387: W tensorflow/compiler/tf2tensorrt/utils/py_utils.cc:38] TF-TRT Warning: Cannot dlopen some TensorRT libraries. If you would like to use Nvidia GPU with TensorRT, please make sure the missing libraries mentioned above are installed properly.\n"
     ]
    }
   ],
   "source": [
    "import warnings\n",
    "warnings.filterwarnings('ignore')\n",
    "import os\n",
    "import pandas as pd\n",
    "import tensorflow as tf\n",
    "\n",
    "from tensorflow import keras\n",
    "import random\n",
    "import numpy as np\n",
    "from numpy import ndarray\n",
    "from sklearn.model_selection import train_test_split\n",
    "from sklearn.feature_extraction.text import CountVectorizer\n",
    "import pickle\n",
    "\n",
    "from tensorflow.keras.layers import (Input, Dropout, LSTM, Reshape, LeakyReLU,\n",
    "                          Concatenate, ReLU, Flatten, Dense, Embedding,\n",
    "                          BatchNormalization, Activation, SpatialDropout1D,\n",
    "                          Conv2D, MaxPooling2D, Softmax, \n",
    "                           Lambda)\n",
    "#from tensorflow.keras.layers.experimental.preprocessing import CategoryEncoding\n",
    "from tensorflow.keras.models import Model, load_model\n",
    "from tensorflow.keras.optimizers import Adam, RMSprop\n",
    "import tensorflow.keras.backend as K\n",
    "from tensorflow.keras.activations import tanh\n",
    "\n",
    "from tensorflow.keras.preprocessing.text import Tokenizer\n",
    "from tensorflow.keras.preprocessing.sequence import pad_sequences\n",
    "#import np_utils\n",
    "from tensorflow.keras.utils import to_categorical\n",
    "from IPython.display import clear_output\n",
    "import matplotlib.pyplot as plt\n",
    "import csv\n",
    "from progressbar import ProgressBar\n",
    "import seaborn as sns\n",
    "from tensorflow import random as randomtf\n",
    "from tensorflow.keras.backend import argmax as argmax\n",
    "\n",
    "from tensorflow import one_hot\n",
    "from rdkit import rdBase\n",
    "rdBase.DisableLog('rdApp.error')\n",
    "from sklearn.metrics import mean_absolute_error\n",
    "from sklearn.metrics import mean_squared_error\n",
    "from rdkit import Chem\n",
    "from sklearn.metrics import r2_score\n",
    "\n",
    "randomtf.set_seed(1)\n",
    "os.environ['PYTHONHASHSEED'] = '0'\n",
    "np.random.seed(42)\n",
    "random.seed(12345)\n",
    "import matplotlib as mpl\n",
    "from matplotlib import rc, rcParams"
   ]
  },
  {
   "cell_type": "code",
   "execution_count": 2,
   "id": "2882ab0b",
   "metadata": {},
   "outputs": [
    {
     "name": "stderr",
     "output_type": "stream",
     "text": [
      "2023-06-13 14:15:18.766738: I tensorflow/core/platform/cpu_feature_guard.cc:193] This TensorFlow binary is optimized with oneAPI Deep Neural Network Library (oneDNN) to use the following CPU instructions in performance-critical operations:  AVX2 AVX_VNNI FMA\n",
      "To enable them in other operations, rebuild TensorFlow with the appropriate compiler flags.\n",
      "2023-06-13 14:15:18.776353: I tensorflow/compiler/xla/stream_executor/cuda/cuda_gpu_executor.cc:981] successful NUMA node read from SysFS had negative value (-1), but there must be at least one NUMA node, so returning NUMA node zero\n",
      "2023-06-13 14:15:18.781055: I tensorflow/compiler/xla/stream_executor/cuda/cuda_gpu_executor.cc:981] successful NUMA node read from SysFS had negative value (-1), but there must be at least one NUMA node, so returning NUMA node zero\n",
      "2023-06-13 14:15:18.781163: I tensorflow/compiler/xla/stream_executor/cuda/cuda_gpu_executor.cc:981] successful NUMA node read from SysFS had negative value (-1), but there must be at least one NUMA node, so returning NUMA node zero\n"
     ]
    },
    {
     "name": "stdout",
     "output_type": "stream",
     "text": [
      "WARNING:tensorflow:From /tmp/ipykernel_1915669/3974400901.py:5: The name tf.keras.backend.set_session is deprecated. Please use tf.compat.v1.keras.backend.set_session instead.\n",
      "\n"
     ]
    },
    {
     "name": "stderr",
     "output_type": "stream",
     "text": [
      "2023-06-13 14:15:19.096402: I tensorflow/compiler/xla/stream_executor/cuda/cuda_gpu_executor.cc:981] successful NUMA node read from SysFS had negative value (-1), but there must be at least one NUMA node, so returning NUMA node zero\n",
      "2023-06-13 14:15:19.096540: I tensorflow/compiler/xla/stream_executor/cuda/cuda_gpu_executor.cc:981] successful NUMA node read from SysFS had negative value (-1), but there must be at least one NUMA node, so returning NUMA node zero\n",
      "2023-06-13 14:15:19.096602: I tensorflow/compiler/xla/stream_executor/cuda/cuda_gpu_executor.cc:981] successful NUMA node read from SysFS had negative value (-1), but there must be at least one NUMA node, so returning NUMA node zero\n",
      "2023-06-13 14:15:19.096653: I tensorflow/core/common_runtime/gpu/gpu_device.cc:1613] Created device /job:localhost/replica:0/task:0/device:GPU:0 with 7272 MB memory:  -> device: 0, name: NVIDIA GeForce RTX 3090, pci bus id: 0000:01:00.0, compute capability: 8.6\n"
     ]
    }
   ],
   "source": [
    "gpu_options = tf.compat.v1.GPUOptions(per_process_gpu_memory_fraction=0.3)\n",
    "session_conf = tf.compat.v1.ConfigProto(intra_op_parallelism_threads=1, inter_op_parallelism_threads=1, gpu_options=gpu_options)\n",
    "tf.compat.v1.set_random_seed(1234)\n",
    "sess = tf.compat.v1.Session(graph=tf.compat.v1.get_default_graph(), config=session_conf)\n",
    "tf.compat.v1.keras.backend.set_session(sess)"
   ]
  },
  {
   "cell_type": "code",
   "execution_count": 3,
   "id": "3d7deea2",
   "metadata": {},
   "outputs": [
    {
     "data": {
      "text/plain": [
       "Text(0.5, 0, '!!!Ariaaaal')"
      ]
     },
     "execution_count": 3,
     "metadata": {},
     "output_type": "execute_result"
    },
    {
     "data": {
      "image/png": "[encoded data removed]",
      "text/plain": [
       "<Figure size 500x400 with 1 Axes>"
      ]
     },
     "metadata": {},
     "output_type": "display_data"
    }
   ],
   "source": [
    "# check the font !!!!!!!!!!!!!!!!!!!!!\n",
    "# switch to Arial\n",
    "# if not working: delet ~/.catch/matplotlib\n",
    "plt.rcParams[\"font.family\"] = \"Arial\"\n",
    "plt.rcParams['ps.useafm'] = True\n",
    "plt.rcParams['pdf.fonttype'] = 42\n",
    "mpl.font_manager.FontManager()\n",
    "\n",
    "rc('font', weight='bold')\n",
    "fig, ax = plt.subplots(figsize=(5, 4))\n",
    "plt.scatter([10, 55], [10, 55])\n",
    "ax.tick_params(axis='both', length=0, width=1.5, colors='black', grid_alpha=0, labelsize=20)\n",
    "plt.xlabel('!!!Ariaaaal', fontname='Arial', fontsize=50)"
   ]
  },
  {
   "cell_type": "code",
   "execution_count": 4,
   "id": "9d66a947",
   "metadata": {},
   "outputs": [],
   "source": [
    "tf.compat.v1.keras.backend.clear_session()"
   ]
  },
  {
   "cell_type": "code",
   "execution_count": 5,
   "id": "69e80355",
   "metadata": {},
   "outputs": [],
   "source": [
    "with open('./../data/trainingsets/train_regular_pubqc130K/image_train.pickle', 'rb') as f:\n",
    "    X_smiles_train, SMILES_train, y_train0 = pickle.load(f)\n",
    "\n",
    "with open('./../data/trainingsets/train_regular_pubqc130K/image_test.pickle', 'rb') as f:\n",
    "    X_smiles_test, SMILES_test, y_test0 = pickle.load(f)\n",
    "    \n",
    "with open('./../data/trainingsets/train_regular_pubqc130K/tokenizer.pickle', 'rb') as f:\n",
    "    tokenizer = pickle.load(f)\n",
    "tokenizer[0] = ' '"
   ]
  },
  {
   "cell_type": "code",
   "execution_count": 6,
   "id": "a8d0a9dc",
   "metadata": {},
   "outputs": [],
   "source": [
    "X_smiles_train0, SMILES_train0, y_train00 = X_smiles_train.copy(), SMILES_train.copy(), y_train0.copy()\n",
    "X_smiles_test0, SMILES_test0, y_test_real = X_smiles_test.copy(), SMILES_test.copy(), y_test0.copy()"
   ]
  },
  {
   "cell_type": "code",
   "execution_count": 7,
   "id": "113760f7",
   "metadata": {},
   "outputs": [
    {
     "name": "stdout",
     "output_type": "stream",
     "text": [
      "(106101, 40, 27, 1)\n",
      "(24819, 40, 27, 1)\n",
      "(106101, 40, 27, 1)\n",
      "(24819, 40, 27, 1)\n"
     ]
    }
   ],
   "source": [
    "print (X_smiles_train.shape)\n",
    "print (X_smiles_test.shape)\n",
    "print (X_smiles_train0.shape)\n",
    "print (X_smiles_test0.shape)\n"
   ]
  },
  {
   "cell_type": "code",
   "execution_count": 8,
   "id": "01eb4793",
   "metadata": {},
   "outputs": [
    {
     "data": {
      "text/plain": [
       "{1: 'C',\n",
       " 2: 'c',\n",
       " 3: '(',\n",
       " 4: ')',\n",
       " 5: '1',\n",
       " 6: 'O',\n",
       " 7: '=',\n",
       " 8: '.',\n",
       " 9: 'N',\n",
       " 10: '2',\n",
       " 11: '[',\n",
       " 12: ']',\n",
       " 13: 'n',\n",
       " 14: '3',\n",
       " 15: 'H',\n",
       " 16: 'S',\n",
       " 17: '-',\n",
       " 18: '#',\n",
       " 19: '+',\n",
       " 20: 's',\n",
       " 21: 'o',\n",
       " 22: 'P',\n",
       " 23: 'F',\n",
       " 24: '4',\n",
       " 25: 'l',\n",
       " 26: 'p',\n",
       " 0: ' '}"
      ]
     },
     "execution_count": 8,
     "metadata": {},
     "output_type": "execute_result"
    }
   ],
   "source": [
    "tokenizer"
   ]
  },
  {
   "cell_type": "code",
   "execution_count": 9,
   "id": "9e647a3a",
   "metadata": {},
   "outputs": [
    {
     "name": "stdout",
     "output_type": "stream",
     "text": [
      "min norm 0.09527272727272727\n",
      "min  1.048\n",
      "max norm 0.9986363636363635\n",
      "max  10.985\n",
      "0.10436363636363635\n",
      "1.148\n",
      "0.9779090909090908\n",
      "10.757\n"
     ]
    }
   ],
   "source": [
    "# normalize the gap value between [0-11]\n",
    "y_train = (y_train00 - 0) / 11\n",
    "y_test = (y_test0 - 0) / 11\n",
    "\n",
    "print ('min norm', min(y_train))\n",
    "print ('min ', min(y_train00))\n",
    "print ('max norm', max(y_train))\n",
    "print ('max ', max(y_train00))\n",
    "\n",
    "print (min(y_test))\n",
    "print (min(y_test0))\n",
    "print (max(y_test))\n",
    "print (max(y_test0))"
   ]
  },
  {
   "cell_type": "code",
   "execution_count": 10,
   "id": "15e59c78",
   "metadata": {},
   "outputs": [],
   "source": [
    "y_train0 = y_train.copy()\n",
    "y_test0 = y_test.copy()"
   ]
  },
  {
   "cell_type": "code",
   "execution_count": 11,
   "id": "e0ef8d07",
   "metadata": {},
   "outputs": [
    {
     "name": "stderr",
     "output_type": "stream",
     "text": [
      "2023-06-13 14:15:20.283034: I tensorflow/compiler/xla/stream_executor/cuda/cuda_gpu_executor.cc:981] successful NUMA node read from SysFS had negative value (-1), but there must be at least one NUMA node, so returning NUMA node zero\n",
      "2023-06-13 14:15:20.283222: I tensorflow/compiler/xla/stream_executor/cuda/cuda_gpu_executor.cc:981] successful NUMA node read from SysFS had negative value (-1), but there must be at least one NUMA node, so returning NUMA node zero\n",
      "2023-06-13 14:15:20.283281: I tensorflow/compiler/xla/stream_executor/cuda/cuda_gpu_executor.cc:981] successful NUMA node read from SysFS had negative value (-1), but there must be at least one NUMA node, so returning NUMA node zero\n",
      "2023-06-13 14:15:20.283518: I tensorflow/compiler/xla/stream_executor/cuda/cuda_gpu_executor.cc:981] successful NUMA node read from SysFS had negative value (-1), but there must be at least one NUMA node, so returning NUMA node zero\n",
      "2023-06-13 14:15:20.283591: I tensorflow/compiler/xla/stream_executor/cuda/cuda_gpu_executor.cc:981] successful NUMA node read from SysFS had negative value (-1), but there must be at least one NUMA node, so returning NUMA node zero\n",
      "2023-06-13 14:15:20.283641: I tensorflow/compiler/xla/stream_executor/cuda/cuda_gpu_executor.cc:981] successful NUMA node read from SysFS had negative value (-1), but there must be at least one NUMA node, so returning NUMA node zero\n",
      "2023-06-13 14:15:20.283736: I tensorflow/compiler/xla/stream_executor/cuda/cuda_gpu_executor.cc:981] successful NUMA node read from SysFS had negative value (-1), but there must be at least one NUMA node, so returning NUMA node zero\n",
      "2023-06-13 14:15:20.283789: I tensorflow/compiler/xla/stream_executor/cuda/cuda_gpu_executor.cc:981] successful NUMA node read from SysFS had negative value (-1), but there must be at least one NUMA node, so returning NUMA node zero\n",
      "2023-06-13 14:15:20.283831: I tensorflow/core/common_runtime/gpu/gpu_device.cc:1613] Created device /job:localhost/replica:0/task:0/device:GPU:0 with 7272 MB memory:  -> device: 0, name: NVIDIA GeForce RTX 3090, pci bus id: 0000:01:00.0, compute capability: 8.6\n"
     ]
    },
    {
     "name": "stdout",
     "output_type": "stream",
     "text": [
      "Model: \"ae\"\n",
      "_________________________________________________________________\n",
      " Layer (type)                Output Shape              Param #   \n",
      "=================================================================\n",
      " input_1 (InputLayer)        [(None, 40, 27, 1)]       0         \n",
      "                                                                 \n",
      " Encoder (Functional)        [(None, 6, 6, 1),         477442    \n",
      "                              (None, 6, 6, 1),                   \n",
      "                              (None, 6, 6, 2)]                   \n",
      "                                                                 \n",
      " Decoder (Functional)        [(None, 40, 27, 1),       15725241  \n",
      "                              (None, 1)]                         \n",
      "                                                                 \n",
      "=================================================================\n",
      "Total params: 16,202,683\n",
      "Trainable params: 16,200,571\n",
      "Non-trainable params: 2,112\n",
      "_________________________________________________________________\n",
      "None\n"
     ]
    }
   ],
   "source": [
    "# Encoding to an image embedding\n",
    "# ENCODER\n",
    "inp_1 = Input(shape = [40, 27, 1])\n",
    "\n",
    "y1 = Conv2D(64, (23, 10), strides = 1, padding = 'valid')(inp_1)\n",
    "y1 = LeakyReLU(alpha = 0.2)(y1)\n",
    "y1 = BatchNormalization()(y1)\n",
    "\n",
    "y1 = Conv2D(64, 3, strides = 1, padding = 'valid')(y1)\n",
    "y1 = LeakyReLU(alpha = 0.2)(y1)\n",
    "y1 = BatchNormalization()(y1)\n",
    "\n",
    "y1 = Conv2D(64, 3, strides = 1, padding = 'valid')(y1)\n",
    "y1 = LeakyReLU(alpha = 0.2)(y1)\n",
    "y1 = BatchNormalization()(y1)\n",
    "\n",
    "y1 = Conv2D(64, 3, strides = 1, padding = 'valid')(y1)\n",
    "y1 = LeakyReLU(alpha = 0.2)(y1)\n",
    "y1 = BatchNormalization()(y1)\n",
    "\n",
    "y1 = Conv2D(64, 3, strides = 1, padding = 'valid')(y1)\n",
    "y1 = LeakyReLU(alpha = 0.2)(y1)\n",
    "y1 = BatchNormalization()(y1)\n",
    "\n",
    "y1 = Conv2D(64, 3, strides = 1, padding = 'valid')(y1)\n",
    "y1 = LeakyReLU(alpha = 0.2)(y1)\n",
    "y1 = BatchNormalization()(y1)\n",
    "\n",
    "y1 = Conv2D(64, 3, strides = 1, padding = 'valid')(y1)\n",
    "y1 = LeakyReLU(alpha = 0.2)(y1)\n",
    "y1 = BatchNormalization()(y1)\n",
    "\n",
    "y1_emb = Conv2D(1, 3, strides = 1, padding = 'same',\n",
    "            activation = 'tanh')(y1)\n",
    "\n",
    "y2 = Conv2D(64, (23, 10), strides = 1, padding = 'valid')(inp_1)\n",
    "y2 = LeakyReLU(alpha = 0.2)(y2)\n",
    "y2 = BatchNormalization()(y2)\n",
    "\n",
    "y2 = Conv2D(64, 3, strides = 1, padding = 'valid')(y2)\n",
    "y2 = LeakyReLU(alpha = 0.2)(y2)\n",
    "y2 = BatchNormalization()(y2)\n",
    "\n",
    "y2 = Conv2D(64, 3, strides = 1, padding = 'valid')(y2)\n",
    "y2 = LeakyReLU(alpha = 0.2)(y2)\n",
    "y2 = BatchNormalization()(y2)\n",
    "\n",
    "y2 = Conv2D(64, 3, strides = 1, padding = 'valid')(y2)\n",
    "y2 = LeakyReLU(alpha = 0.2)(y2)\n",
    "y2 = BatchNormalization()(y2)\n",
    "\n",
    "y2 = Conv2D(64, 3, strides = 1, padding = 'valid')(y2)\n",
    "y2 = LeakyReLU(alpha = 0.2)(y2)\n",
    "y2 = BatchNormalization()(y2)\n",
    "\n",
    "y2 = Conv2D(64, 3, strides = 1, padding = 'valid')(y2)\n",
    "y2 = LeakyReLU(alpha = 0.2)(y2)\n",
    "y2 = BatchNormalization()(y2)\n",
    "\n",
    "y2 = Conv2D(64, 3, strides = 1, padding = 'valid')(y2)\n",
    "y2 = LeakyReLU(alpha = 0.2)(y2)\n",
    "y2 = BatchNormalization()(y2)\n",
    "\n",
    "y2_emb = Conv2D(1, 3, strides = 1, padding = 'same',\n",
    "                activation = 'tanh')(y2)\n",
    "\n",
    "####\n",
    "y_out = Concatenate()([y1_emb, y2_emb])\n",
    "\n",
    "# DECODER\n",
    "emb_in = Input(shape = [6, 6, 2])\n",
    "\n",
    "tower0 = Conv2D(32, 1, padding = 'same')(emb_in)\n",
    "tower1 = Conv2D(64, 1, padding = 'same')(emb_in)\n",
    "tower1 = Conv2D(64, 3, padding = 'same')(tower1)\n",
    "tower2 = Conv2D(32, 1, padding = 'same')(emb_in)\n",
    "tower2 = Conv2D(32, 5, padding = 'same')(tower2)\n",
    "tower3 = MaxPooling2D(3, 1, padding = 'same')(emb_in)\n",
    "tower3 = Conv2D(32, 1, padding = 'same')(tower3)\n",
    "h = Concatenate()([tower0, tower1, tower2, tower3])\n",
    "h = ReLU()(h)\n",
    "h = MaxPooling2D(2, 1, padding = 'same')(h)\n",
    "\n",
    "for i in range(6):\n",
    "    tower0 = Conv2D(32, 1, padding = 'same')(h)\n",
    "    tower1 = Conv2D(64, 1, padding = 'same')(h)\n",
    "    tower1 = Conv2D(64, 3, padding = 'same')(tower1)\n",
    "    tower2 = Conv2D(32, 1, padding = 'same')(h)\n",
    "    tower2 = Conv2D(32, 5, padding = 'same')(tower2)\n",
    "    tower3 = MaxPooling2D(3, 1, padding = 'same')(h)\n",
    "    tower3 = Conv2D(32, 1, padding = 'same')(tower3)\n",
    "    h = Concatenate()([tower0, tower1, tower2, tower3])\n",
    "    h = ReLU()(h)\n",
    "    if i % 2 == 0 and i != 0:\n",
    "        h = MaxPooling2D(2, 1, padding = 'same')(h)\n",
    "h = BatchNormalization()(h)\n",
    "\n",
    "y = Flatten()(h)\n",
    "\n",
    "y = Dense(2048, activation = 'relu')(y)\n",
    "y_cv = Dense(64, activation = 'relu')(y)\n",
    "y = Dropout(0.2)(y)\n",
    "y = Dense(1024, activation = 'relu')(y)\n",
    "y = Dropout(0.2)(y)\n",
    "y = Dense(512, activation = 'sigmoid')(y)\n",
    "y = Dropout(0.2)(y)\n",
    "y = Dense(40 * 27)(y)\n",
    "y = Reshape([40, 27, 1])(y)\n",
    "y = Softmax(axis = 2)(y)\n",
    "\n",
    "\n",
    "y_cv = Dropout(0.2)(y_cv)\n",
    "y_cv = Dense(128, activation = 'relu')(y_cv)\n",
    "y_cv = Dropout(0.2)(y_cv)\n",
    "y_cv = Dense(128, activation = 'relu')(y_cv)\n",
    "y_cv = Dense(1, activation = 'sigmoid')(y_cv)\n",
    "\n",
    "encoder = Model([inp_1], [y1_emb, y2_emb, y_out], name = 'Encoder')\n",
    "decoder = Model(emb_in, [y, y_cv], name = 'Decoder')\n",
    "outputs = decoder(encoder([inp_1])[2])\n",
    "model = Model(inp_1, outputs, name = 'ae')\n",
    "print (model.summary())"
   ]
  },
  {
   "cell_type": "code",
   "execution_count": 12,
   "id": "94f4badf",
   "metadata": {},
   "outputs": [
    {
     "name": "stdout",
     "output_type": "stream",
     "text": [
      "WARNING:tensorflow:No training configuration found in the save file, so the model was *not* compiled. Compile it manually.\n",
      "WARNING:tensorflow:No training configuration found in the save file, so the model was *not* compiled. Compile it manually.\n"
     ]
    },
    {
     "name": "stderr",
     "output_type": "stream",
     "text": [
      "2023-06-13 14:15:26.876451: I tensorflow/compiler/xla/stream_executor/cuda/cuda_dnn.cc:428] Loaded cuDNN version 8100\n",
      "2023-06-13 14:15:27.293073: I tensorflow/tsl/platform/default/subprocess.cc:304] Start cannot spawn child process: No such file or directory\n",
      "2023-06-13 14:15:27.674966: I tensorflow/compiler/xla/stream_executor/cuda/cuda_blas.cc:630] TensorFloat-32 will be used for the matrix multiplication. This will only be logged once.\n",
      "2023-06-13 14:15:27.677269: I tensorflow/compiler/xla/service/service.cc:173] XLA service 0x1ca62890 initialized for platform CUDA (this does not guarantee that XLA will be used). Devices:\n",
      "2023-06-13 14:15:27.677281: I tensorflow/compiler/xla/service/service.cc:181]   StreamExecutor device (0): NVIDIA GeForce RTX 3090, Compute Capability 8.6\n",
      "2023-06-13 14:15:27.680491: I tensorflow/compiler/mlir/tensorflow/utils/dump_mlir_util.cc:268] disabling MLIR crash reproducer, set env var `MLIR_CRASH_REPRODUCER_DIRECTORY` to enable.\n",
      "2023-06-13 14:15:27.719930: I tensorflow/tsl/platform/default/subprocess.cc:304] Start cannot spawn child process: No such file or directory\n",
      "2023-06-13 14:15:27.743553: I tensorflow/compiler/jit/xla_compilation_cache.cc:477] Compiled cluster using XLA!  This line is logged at most once for the lifetime of the process.\n"
     ]
    },
    {
     "name": "stdout",
     "output_type": "stream",
     "text": [
      "1658/1658 [==============================] - 33s 14ms/step - loss: 0.0014 - Decoder_loss: 0.0012 - Decoder_1_loss: 1.2515e-04 - val_loss: 0.0091 - val_Decoder_loss: 0.0018 - val_Decoder_1_loss: 0.0072\n",
      "WARNING:tensorflow:Compiled the loaded model, but the compiled metrics have yet to be built. `model.compile_metrics` will be empty until you train or evaluate the model.\n",
      "WARNING:tensorflow:Compiled the loaded model, but the compiled metrics have yet to be built. `model.compile_metrics` will be empty until you train or evaluate the model.\n",
      "dict_keys(['loss', 'Decoder_loss', 'Decoder_1_loss', 'val_loss', 'val_Decoder_loss', 'val_Decoder_1_loss'])\n",
      "1/1 [==============================] - 0s 132ms/step\n",
      "1/1 [==============================] - 0s 204ms/step\n",
      "Nc1nc[nH]c2ncnc1-2.\n",
      "(40, 19)\n",
      "output of decoder [[0. 0. 0. 0. 0. 0. 0. 0. 0. 1. 0. 0. 0. 0. 0. 0. 0. 0. 0.]\n",
      " [0. 0. 1. 0. 0. 0. 0. 0. 0. 0. 0. 0. 0. 0. 0. 0. 0. 0. 0.]\n",
      " [0. 0. 0. 0. 0. 1. 0. 0. 0. 0. 0. 0. 0. 0. 0. 0. 0. 0. 0.]\n",
      " [0. 0. 0. 0. 0. 0. 0. 0. 0. 0. 0. 0. 0. 1. 0. 0. 0. 0. 0.]\n",
      " [0. 0. 1. 0. 0. 0. 0. 0. 0. 0. 0. 0. 0. 0. 0. 0. 0. 0. 0.]\n",
      " [0. 0. 0. 0. 0. 0. 0. 0. 0. 0. 0. 1. 0. 0. 0. 0. 0. 0. 0.]\n",
      " [0. 0. 0. 0. 0. 0. 0. 0. 0. 0. 0. 0. 0. 1. 0. 0. 0. 0. 0.]\n",
      " [0. 0. 0. 0. 0. 0. 0. 0. 0. 0. 0. 0. 0. 0. 0. 1. 0. 0. 0.]\n",
      " [0. 0. 0. 0. 0. 0. 0. 0. 0. 0. 0. 0. 1. 0. 0. 0. 0. 0. 0.]\n",
      " [0. 0. 1. 0. 0. 0. 0. 0. 0. 0. 0. 0. 0. 0. 0. 0. 0. 0. 0.]\n",
      " [0. 0. 0. 0. 0. 0. 0. 0. 0. 0. 1. 0. 0. 0. 0. 0. 0. 0. 0.]\n",
      " [0. 0. 0. 0. 0. 0. 0. 0. 0. 0. 0. 0. 0. 1. 0. 0. 0. 0. 0.]\n",
      " [0. 0. 1. 0. 0. 0. 0. 0. 0. 0. 0. 0. 0. 0. 0. 0. 0. 0. 0.]\n",
      " [0. 0. 0. 0. 0. 0. 0. 0. 0. 0. 0. 0. 0. 1. 0. 0. 0. 0. 0.]\n",
      " [0. 0. 1. 0. 0. 0. 0. 0. 0. 0. 0. 0. 0. 0. 0. 0. 0. 0. 0.]\n",
      " [0. 0. 0. 0. 0. 1. 0. 0. 0. 0. 0. 0. 0. 0. 0. 0. 0. 0. 0.]\n",
      " [0. 0. 0. 0. 0. 0. 0. 0. 0. 0. 0. 0. 0. 0. 0. 0. 0. 1. 0.]\n",
      " [0. 0. 0. 0. 0. 0. 0. 0. 0. 0. 1. 0. 0. 0. 0. 0. 0. 0. 0.]\n",
      " [0. 0. 0. 0. 0. 0. 0. 0. 1. 0. 0. 0. 0. 0. 0. 0. 0. 0. 0.]\n",
      " [1. 0. 0. 0. 0. 0. 0. 0. 0. 0. 0. 0. 0. 0. 0. 0. 0. 0. 0.]\n",
      " [1. 0. 0. 0. 0. 0. 0. 0. 0. 0. 0. 0. 0. 0. 0. 0. 0. 0. 0.]\n",
      " [1. 0. 0. 0. 0. 0. 0. 0. 0. 0. 0. 0. 0. 0. 0. 0. 0. 0. 0.]\n",
      " [1. 0. 0. 0. 0. 0. 0. 0. 0. 0. 0. 0. 0. 0. 0. 0. 0. 0. 0.]\n",
      " [1. 0. 0. 0. 0. 0. 0. 0. 0. 0. 0. 0. 0. 0. 0. 0. 0. 0. 0.]\n",
      " [1. 0. 0. 0. 0. 0. 0. 0. 0. 0. 0. 0. 0. 0. 0. 0. 0. 0. 0.]\n",
      " [1. 0. 0. 0. 0. 0. 0. 0. 0. 0. 0. 0. 0. 0. 0. 0. 0. 0. 0.]\n",
      " [1. 0. 0. 0. 0. 0. 0. 0. 0. 0. 0. 0. 0. 0. 0. 0. 0. 0. 0.]\n",
      " [1. 0. 0. 0. 0. 0. 0. 0. 0. 0. 0. 0. 0. 0. 0. 0. 0. 0. 0.]\n",
      " [1. 0. 0. 0. 0. 0. 0. 0. 0. 0. 0. 0. 0. 0. 0. 0. 0. 0. 0.]\n",
      " [1. 0. 0. 0. 0. 0. 0. 0. 0. 0. 0. 0. 0. 0. 0. 0. 0. 0. 0.]\n",
      " [1. 0. 0. 0. 0. 0. 0. 0. 0. 0. 0. 0. 0. 0. 0. 0. 0. 0. 0.]\n",
      " [1. 0. 0. 0. 0. 0. 0. 0. 0. 0. 0. 0. 0. 0. 0. 0. 0. 0. 0.]\n",
      " [1. 0. 0. 0. 0. 0. 0. 0. 0. 0. 0. 0. 0. 0. 0. 0. 0. 0. 0.]\n",
      " [1. 0. 0. 0. 0. 0. 0. 0. 0. 0. 0. 0. 0. 0. 0. 0. 0. 0. 0.]\n",
      " [1. 0. 0. 0. 0. 0. 0. 0. 0. 0. 0. 0. 0. 0. 0. 0. 0. 0. 0.]\n",
      " [1. 0. 0. 0. 0. 0. 0. 0. 0. 0. 0. 0. 0. 0. 0. 0. 0. 0. 0.]\n",
      " [1. 0. 0. 0. 0. 0. 0. 0. 0. 0. 0. 0. 0. 0. 0. 0. 0. 0. 0.]\n",
      " [1. 0. 0. 0. 0. 0. 0. 0. 0. 0. 0. 0. 0. 0. 0. 0. 0. 0. 0.]\n",
      " [1. 0. 0. 0. 0. 0. 0. 0. 0. 0. 0. 0. 0. 0. 0. 0. 0. 0. 0.]\n",
      " [1. 0. 0. 0. 0. 0. 0. 0. 0. 0. 0. 0. 0. 0. 0. 0. 0. 0. 0.]]\n",
      "0.4294545454545455\n",
      "(24819,)\n"
     ]
    },
    {
     "data": {
      "image/png": "[encoded data removed]",
      "text/plain": [
       "<Figure size 640x480 with 1 Axes>"
      ]
     },
     "metadata": {},
     "output_type": "display_data"
    }
   ],
   "source": [
    "\"\"\"\n",
    "lr_schedule = keras.callbacks.LearningRateScheduler(\n",
    "    lambda epoch: 1e-8 * 10 ** (epoch / 20)\n",
    ")\n",
    "\n",
    "encoder = load_model('encoder.h5')\n",
    "decoder = load_model('decoder.h5')\n",
    "model = load_model('ae_model.h5')\n",
    "\n",
    "model.compile(optimizer = Adam(learning_rate = 1e-8),\n",
    "              loss = ['binary_crossentropy', 'mse'])\n",
    "history = model.fit([X_atoms_train, X_bonds_train],\n",
    "                    [X_smiles_train, y_train],\n",
    "                    validation_data = ([X_atoms_test, X_bonds_test],\n",
    "                                       [X_smiles_test, y_test]),\n",
    "                    epochs = 1,\n",
    "                    batch_size = 32,\n",
    "                    verbose = 1,\n",
    "                    callbacks = [lr_schedule])\n",
    "\n",
    "\n",
    "\n",
    "plt.semilogx(history.history['lr'],\n",
    "             history.history['val_Decoder_loss'])\n",
    "\n",
    "encoder = Model([inp_1, inp_2], [y1_emb, y2_emb, y_out], name = 'Encoder')\n",
    "decoder = Model(emb_in, [y, y_cv], name = 'Decoder')\n",
    "\n",
    "print (encoder.summary())\n",
    "print (decoder.summary())\n",
    "\n",
    "outputs = decoder(encoder([inp_1, inp_2])[2])\n",
    "model = Model([inp_1, inp_2], outputs, name = 'ae')\n",
    "\n",
    "model.compile(optimizer = Adam(learning_rate = 9e-5),\n",
    "              loss = ['binary_crossentropy', 'mse'])\n",
    "\n",
    "model.fit([X_atoms_train, X_bonds_train],\n",
    "                    [X_smiles_train, y_train],\n",
    "                    validation_data = ([X_atoms_test, X_bonds_test],\n",
    "                                       [X_smiles_test, y_test]),\n",
    "                    epochs = 1,\n",
    "                    batch_size = 32,\n",
    "                    verbose = 1)\n",
    "\"\"\"\n",
    "\"\"\"\n",
    "try:\n",
    "    encoder = load_model('./../data/nns/keep/encoder.h5')\n",
    "    decoder = load_model('./../data/nns/keep/decoder.h5')\n",
    "    model = load_model  ('./../data/nns/keep/ae_model.h5')\n",
    "    model.compile(optimizer = Adam(learning_rate = 9e-6),\n",
    "            loss = ['binary_crossentropy', 'mse'])\n",
    "    print (\".h5 files were read\")\n",
    "except:\n",
    "    print (\"NO .h5 trained files\")\n",
    "    model.compile(optimizer = Adam(learning_rate = 9e-5),\n",
    "            loss = ['binary_crossentropy', 'mse'])\n",
    "    pass\n",
    "\"\"\"\n",
    "\n",
    "#model.load_weights('./../data/nns/ae_model.h5')\n",
    "#encoder.load_weights('./../data/nns/encoder.h5')\n",
    "#decoder.load_weights('./../data/nns/decoder.h5')\n",
    "#encoder = load_model('./../data/nns/encoder.h5')\n",
    "#decoder = load_model('./../data/nns/decoder.h5')\n",
    "#model = load_model('./../data/nns/ae_model.h5')\n",
    "encoder = load_model('./../data/nns/keep/encoder.h5')\n",
    "decoder = load_model('./../data/nns/keep/decoder.h5')\n",
    "model = load_model('./../data/nns/keep/ae_model.h5')\n",
    "# 0.01 gets the best accuracy\n",
    "model.compile(optimizer = Adam(learning_rate = 1e-6), \n",
    "              loss = ['binary_crossentropy', 'mse'], loss_weights = [1.0, 1.0],)\n",
    "\n",
    "history = model.fit(X_smiles_train,\n",
    "                    [X_smiles_train, y_train],\n",
    "                    validation_data = (X_smiles_test,\n",
    "                                       [X_smiles_test, y_test]),\n",
    "                    epochs=1,\n",
    "                    batch_size=64,\n",
    "                    verbose=1)\n",
    "\n",
    "model.save  ('./../data/nns/ae_model.h5')\n",
    "encoder.save('./../data/nns/encoder.h5')\n",
    "decoder.save('./../data/nns/decoder.h5')\n",
    "\n",
    "tf.compat.v1.keras.backend.clear_session()\n",
    "\n",
    "print(history.history.keys())\n",
    "# summarize history for loss\n",
    "plt.close()\n",
    "plt.plot(history.history['val_loss'])\n",
    "\n",
    "plt.title('Autoencoder loss')\n",
    "plt.ylabel('loss')\n",
    "plt.xlabel('epoch')\n",
    "plt.tight_layout()\n",
    "plt.savefig('aeloss.jpeg', dpi=400)\n",
    "\n",
    "# get i and i+2 to have (2,9,10,1) shape\n",
    "# if only i was chosen, the should be (9,10,1)\n",
    "output = decoder.predict(encoder.predict([X_smiles_train[0:2][:][:][:]])[2])[0][0]\n",
    "output = argmax (output, axis=1)\n",
    "output = to_categorical (output, num_classes = 19)\n",
    "print (SMILES_train[0])\n",
    "print (output.shape)\n",
    "print ('output of decoder', output)\n",
    "print (y_train[0])\n",
    "print (SMILES_test.shape)\n",
    "with open ('aeloss.csv', 'w') as f:\n",
    "    for key in history.history.keys():\n",
    "        f.write(\"%s,%s\\n\"%(key,history.history[key]))"
   ]
  },
  {
   "cell_type": "code",
   "execution_count": 13,
   "id": "05105c3d",
   "metadata": {},
   "outputs": [
    {
     "name": "stdout",
     "output_type": "stream",
     "text": [
      "WARNING:tensorflow:No training configuration found in the save file, so the model was *not* compiled. Compile it manually.\n",
      "WARNING:tensorflow:No training configuration found in the save file, so the model was *not* compiled. Compile it manually.\n"
     ]
    }
   ],
   "source": [
    "encoder = load_model('./../data/nns/keep/encoder.h5')\n",
    "decoder = load_model('./../data/nns/keep/decoder.h5')\n",
    "model = load_model('./../data/nns/keep/ae_model.h5')"
   ]
  },
  {
   "cell_type": "code",
   "execution_count": 14,
   "id": "a3417b0d",
   "metadata": {},
   "outputs": [],
   "source": [
    "tf.compat.v1.keras.backend.clear_session()"
   ]
  },
  {
   "cell_type": "code",
   "execution_count": 15,
   "id": "2872d2b0",
   "metadata": {},
   "outputs": [
    {
     "name": "stdout",
     "output_type": "stream",
     "text": [
      "0.2728181818181818\n"
     ]
    },
    {
     "data": {
      "image/png": "[encoded data removed]",
      "text/plain": [
       "<Figure size 640x480 with 1 Axes>"
      ]
     },
     "metadata": {},
     "output_type": "display_data"
    }
   ],
   "source": [
    "\n",
    "plt.imshow(X_smiles_test[200].reshape([40, 27]), )\n",
    "plt.title(SMILES_test[200], fontfamily='Arial', fontsize=15, fontweight='bold', pad=30)\n",
    "plt.xlabel('Char in SMILES (27)', fontfamily='Arial', fontsize=15, fontweight='bold'), \n",
    "plt.ylabel('Length of SMILES string', fontfamily='Arial', fontsize=15, fontweight='bold')\n",
    "plt.xticks((0, 10, 20, 26), size=15)\n",
    "plt.yticks((0, 10, 20, 30, 39), size=15)\n",
    "plt.tight_layout()\n",
    "plt.tight_layout()\n",
    "plt.savefig('sample_smiles_{}'.format(SMILES_test[200]), dpi=500)\n",
    "print (y_test0[200])"
   ]
  },
  {
   "cell_type": "code",
   "execution_count": 16,
   "id": "ee795f54",
   "metadata": {},
   "outputs": [
    {
     "name": "stdout",
     "output_type": "stream",
     "text": [
      "5 CCCCCCC(N)CO.\n",
      "10 Nc1nncc2cc[nH]c12.\n",
      "32 CCNC(=O)CN1CCCCC1C(=O)O.\n",
      "88 COCc1ccc(-c2ccno2)cn1.\n",
      "99 COC(=O)c1c(C)cc(C)cc1OC.\n"
     ]
    },
    {
     "data": {
      "image/png": "[encoded data removed]",
      "text/plain": [
       "<Figure size 640x480 with 2 Axes>"
      ]
     },
     "metadata": {},
     "output_type": "display_data"
    }
   ],
   "source": [
    "for i in [5, 10, 32, 88, 99]:\n",
    "    plt.subplot(121)\n",
    "    plt.imshow(X_smiles_test[i].reshape([40, 27]))\n",
    "    test_sample_pred = decoder.predict(encoder.predict([X_smiles_test[i:(i+2)]], verbose=0)[2], verbose=0)[0][0]\n",
    "    plt.subplot(122)\n",
    "    plt.imshow(test_sample_pred.reshape([40, 27]))\n",
    "    plt.xlabel('Char in SMILES (27)', fontfamily='Arial', fontsize=15, fontweight='bold'), \n",
    "    plt.ylabel('Length of SMILES string', fontfamily='Arial', fontsize=15, fontweight='bold')\n",
    "    plt.xticks((0, 10, 20, 26), size=15)\n",
    "    plt.yticks((0, 10, 20, 30, 39), size=15)\n",
    "    plt.tight_layout()\n",
    "    plt.savefig(\"smiles_{}_test.png\".format(i), dpi=500)\n",
    "    print (i, SMILES_test[i])"
   ]
  },
  {
   "cell_type": "code",
   "execution_count": 17,
   "id": "1e89a09a",
   "metadata": {},
   "outputs": [
    {
     "name": "stdout",
     "output_type": "stream",
     "text": [
      "50 CC1(C)CCC(CO)C23C4CC(CC412)C3(C)C.\n",
      "100 COCCOc1ccc(C#N)c(F)c1.\n",
      "320 COc1ccc(N)c2nc(C)c(C)nc12.\n",
      "880 COc1c2c(cc3c1OCO3)CC(C)O2.\n",
      "990 N#Cc1ncccc1CNCC1CCOCC1.\n"
     ]
    },
    {
     "data": {
      "image/png": "[encoded data removed]",
      "text/plain": [
       "<Figure size 640x480 with 2 Axes>"
      ]
     },
     "metadata": {},
     "output_type": "display_data"
    }
   ],
   "source": [
    "for i in [50, 100, 320, 880, 990]:\n",
    "    plt.subplot(121)\n",
    "    plt.imshow(X_smiles_test[i].reshape([40, 27]))\n",
    "    test_sample_pred = decoder.predict(encoder.predict([X_smiles_test[i:(i+2)]], verbose=0)[2], verbose=0)[0][0]\n",
    "    plt.subplot(122)\n",
    "    plt.imshow(test_sample_pred.reshape([40, 27]))\n",
    "    plt.tight_layout()\n",
    "    plt.savefig(\"smiles_{}_test.png\".format(i), dpi=500)\n",
    "    print (i, SMILES_test[i])"
   ]
  },
  {
   "cell_type": "code",
   "execution_count": 18,
   "id": "99df702f",
   "metadata": {},
   "outputs": [
    {
     "data": {
      "text/plain": [
       "(24819, 40, 27, 1)"
      ]
     },
     "execution_count": 18,
     "metadata": {},
     "output_type": "execute_result"
    }
   ],
   "source": [
    "X_smiles_test.shape"
   ]
  },
  {
   "cell_type": "code",
   "execution_count": 19,
   "id": "7e73b21a",
   "metadata": {},
   "outputs": [
    {
     "name": "stdout",
     "output_type": "stream",
     "text": [
      "0.8670776421290141\n",
      "0.9043071840122486\n"
     ]
    }
   ],
   "source": [
    "# Evaluation: test data\n",
    "# 0.8113100848256362 valid and true\n",
    "# 0.8619792648444863  valid\n",
    "encoder_latent_test = encoder.predict(X_smiles_test, verbose=0)[2]\n",
    "decoder_smiles_test = decoder.predict(encoder_latent_test, verbose=0)[0]\n",
    "\n",
    "dec_SMILES_test = []\n",
    "for softmax_smiles in decoder_smiles_test:\n",
    "    argmax_smiles = np.argmax(softmax_smiles, axis = 1).reshape([-1])\n",
    "    #print (argmax_smiles)\n",
    "    smiles = to_categorical(argmax_smiles, num_classes=27)\n",
    "    SHAPE = [1] + list(smiles.shape) + [1]\n",
    "    smiles = smiles.reshape(SHAPE)\n",
    "    c_smiles = ''\n",
    "    for s in argmax_smiles:\n",
    "        c_smiles += tokenizer[s]\n",
    "        c_smiles = c_smiles.rstrip()\n",
    "    dec_SMILES_test.append(c_smiles)\n",
    "    \n",
    "test_true_conv = sum (SMILES_test == dec_SMILES_test)/len(SMILES_test)\n",
    "print (test_true_conv)\n",
    "\n",
    "idxs_test = []\n",
    "valid_test = 0\n",
    "\n",
    "for count, smile in enumerate(dec_SMILES_test):\n",
    "    m = Chem.MolFromSmiles(smile[:-1], sanitize=True)\n",
    "    if m is not None:\n",
    "        valid_test += 1\n",
    "        idxs_test.append(count)\n",
    "\n",
    "test_valid_conv = valid_test/len(SMILES_test)\n",
    "print (test_valid_conv)"
   ]
  },
  {
   "cell_type": "code",
   "execution_count": 20,
   "id": "58818c61",
   "metadata": {},
   "outputs": [],
   "source": [
    "conv_test = SMILES_test == np.array (dec_SMILES_test)"
   ]
  },
  {
   "cell_type": "code",
   "execution_count": 21,
   "id": "957e5149",
   "metadata": {},
   "outputs": [
    {
     "ename": "SyntaxError",
     "evalue": "invalid syntax (3843249358.py, line 4)",
     "output_type": "error",
     "traceback": [
      "\u001b[0;36m  Cell \u001b[0;32mIn[21], line 4\u001b[0;36m\u001b[0m\n\u001b[0;31m    count +=\u001b[0m\n\u001b[0m            ^\u001b[0m\n\u001b[0;31mSyntaxError\u001b[0m\u001b[0;31m:\u001b[0m invalid syntax\n"
     ]
    }
   ],
   "source": [
    "count = 0\n",
    "for i,j in zip(SMILES_test, dec_SMILES_test):\n",
    "    if i==j:\n",
    "        count +="
   ]
  },
  {
   "cell_type": "code",
   "execution_count": null,
   "id": "69b11345",
   "metadata": {},
   "outputs": [
    {
     "data": {
      "text/plain": [
       "0.8670776421290141"
      ]
     },
     "execution_count": 24,
     "metadata": {},
     "output_type": "execute_result"
    }
   ],
   "source": [
    "count/len(SMILES_test)"
   ]
  },
  {
   "cell_type": "code",
   "execution_count": null,
   "id": "0a94efa1",
   "metadata": {},
   "outputs": [
    {
     "name": "stdout",
     "output_type": "stream",
     "text": [
      "0.9959943827108133\n",
      "0.9976720294813433\n"
     ]
    }
   ],
   "source": [
    "# Evaluation: train data\n",
    "# 0.8113100848256362 valid and true\n",
    "# 0.8619792648444863  valid\n",
    "encoder_latent_train = encoder.predict(X_smiles_train, verbose=0)[2]\n",
    "decoder_smiles_train = decoder.predict(encoder_latent_train, verbose=0)[0]\n",
    "\n",
    "dec_SMILES_train = []\n",
    "for softmax_smiles in decoder_smiles_train:\n",
    "    argmax_smiles = np.argmax(softmax_smiles, axis = 1).reshape([-1])\n",
    "    #print (argmax_smiles)\n",
    "    smiles = to_categorical(argmax_smiles, num_classes=27)\n",
    "    SHAPE = [1] + list(smiles.shape) + [1]\n",
    "    smiles = smiles.reshape(SHAPE)\n",
    "    c_smiles = ''\n",
    "    for s in argmax_smiles:\n",
    "        c_smiles += tokenizer[s]\n",
    "        c_smiles = c_smiles.rstrip()\n",
    "    dec_SMILES_train.append(c_smiles)\n",
    "    \n",
    "train_true_conv = sum (SMILES_train == dec_SMILES_train)/len(SMILES_train)\n",
    "print (train_true_conv)\n",
    "\n",
    "idxs_train = []\n",
    "valid_train = 0\n",
    "\n",
    "for count, smile in enumerate(dec_SMILES_train):\n",
    "    m = Chem.MolFromSmiles(smile[:-1], sanitize=True)\n",
    "    if m is not None:\n",
    "        valid_train += 1\n",
    "        idxs_train.append(count)\n",
    "\n",
    "train_valid_conv = valid_train/len(SMILES_train)\n",
    "print (train_valid_conv)"
   ]
  },
  {
   "cell_type": "code",
   "execution_count": null,
   "id": "b0fa1840",
   "metadata": {},
   "outputs": [
    {
     "name": "stdout",
     "output_type": "stream",
     "text": [
      "Valid conversion:  0.9789829437027263\n",
      "Valid and True conversion:  0.9702110345944535\n"
     ]
    }
   ],
   "source": [
    "# all data evaluation\n",
    "# 77.574 valid \n",
    "# 71.1124 valid and accurate\n",
    "valid_conv = (4*train_valid_conv + test_valid_conv)/5\n",
    "print ('Valid conversion: ', valid_conv)\n",
    "\n",
    "true_conv = (4*train_true_conv + test_true_conv)/5\n",
    "print ('Valid and True conversion: ', true_conv)"
   ]
  },
  {
   "cell_type": "code",
   "execution_count": null,
   "id": "65ff1cb7",
   "metadata": {},
   "outputs": [
    {
     "name": "stdout",
     "output_type": "stream",
     "text": [
      "CC1(C)CCC(CO)C23C(CC(CCC(3)C)CC)C.C. CC1(C)CCC(CO)C23C4CC(CC412)C3(C)C.\n",
      "O=C1C=C[C](O)c2cc3c(cc23)[C]2CCCC3O. O=C1C=C[C](O)c2cc3c(cc21)[CH]C=CC3.\n",
      "CN=C1[C](C#N)[N+]([O-])c2ccccc2CNCO. CN=C1[C](C#N)[N+]([O-])c2ccccc2N1O.\n",
      "O=[N+]([O-])c1cccc(-c2cc(O)ccc2O)c12. O=[N+]([O-])c1cccc(-c2cc(O)ccc2O)c1.\n",
      "NC1=C2[CH](=C[=C2N=C([N]c2ccccc2cc11. NC1=C2[CH]C=CN=C2N=C([N]c2ccccc2)N1.\n",
      "O=[N+]([O-])C1OCc2cc3cccc32C1=O)CC2.. O=[N+]([O-])C1=Cc2cc3c(cc2OC1)OCCO3.\n",
      "Cc1nc2cc([N+](=O)[O-])c(N)cc221=O. Cc1nc2cc([N+](=O)[O-])c(N)cc2n1C.\n",
      "[CH]1[CH]([CH]c2c(cccccccnC2)[C]2.. [CH]1[CH]S[CH]c2c(cc3ccccn23)[N]1.\n",
      "CC(C)COC(=O)C=Cc1ccc([N+](=O)[O-])c11. CC(C)COC(=O)C=Cc1ccc([N+](=O)[O-])o1.\n",
      "Cc1nc(nH]c1[CH][C]=C(O)=N22occc2cc12=O. Cc1nc[nH]c1[CH][C]1C(O)=Nc2ccc(N)cc21.\n",
      "[CH]]COCC]CC2C[CH1c1ccc(C(C)CCC)C2. [CH2]C#CC#CC#C[CH]c1ccc(C(C)C)cc1.\n",
      "N#CC(=Cc1ccc(O)cc1)C(O)=C(C#N)C1N.. N#CC(=Cc1ccc(O)cc1)C(N)=C(C#N)C#N.\n",
      "CCn1c(=O)n(C)c2c(=O)n(C)c(=O)n2C2)n.2. CCn1c(=O)n(C)c2c(=O)n(C)c(=O)n(C)c21.\n",
      "O=C1[CH][C][CH]c3cc3cccc232[C=C)CCCC)21. O=C1[C]=[C][CH]c2cc3c(cc21)[CH]C=CC3=O.\n",
      "CC1(O)[CH][C2[C=CC(=O)[[C]2[C1]C=O)=O.. CC1(O)[CH][C]2C=CC(=O)O[C]2[CH]C1(C)O.\n",
      "CC12CC(C(=O)O)C(C(=O)O1)C(C)(C)CC.. CC12CC(C(=O)O)C(C(=O)O1)C(C)(C)C2.\n",
      "CC1=C(C)C([N][=O)C(C)=C(C)C(=)]C=C1. CC1=C(C)C([N][O])C(C)=C(C)C1[N][O].\n",
      "COc1ccc(NC(=O)C([N][O])C(C)CO)c1.. COc1ccc(NC(=O)C([N][O])C(C)C)cc1.\n",
      "[C]1[C]C(CC[CH][CH][N][C]]C[C]][CCC3. [C]1[C]C2=N[CH][C]3[N][C]1N[C]3[N]2.\n",
      "Nc1nc([N+](=O)[O-])c([N+](=O)[O-])c11N Nc1nc([N+](=O)[O-])c([N+](=O)[O-])s1.\n",
      "[NH]C(O)=N[C](O)c1ccc([N+](=O)[O-])cc1. [NH]C(O)=N[C](O)c1ccc([N+](=O)[O-])o1.\n",
      "[CH2]c1ccc([CH]C(C((O)=C)CCCCNOC)c1.. [CH2]c1ccc([CH]C(C(=O)OC)=C(C)O)cc1.\n",
      "O=C1[CH]c2cc(C(=O)c3ccccc2)ccc2)111.. O=C1[CH]c2cc(C(=O)c3ccccc3)ccc2[N]1.\n",
      "CC1(CNCCN2CC(C2C(3)=NN(C(C)=C2)C1.. CC1(C2CC2)CC(C2CC2)=NN=C(C2CC2)C1.\n",
      "Cc1[nH]c2ccc3cc([N+](=O)[O-])cc23c2=NC1. Cc1[nH]c2ccc3cc([N+](=O)[O-])ccc3c2c1C.\n",
      "CC1=C[C]2[CH][CH][CH][CH][CH]C)C(=C1]1 CC1=C[C]2[CH][CH][CH][CH][C](C=C1)C2.\n",
      "O=C1C=CC(=C[C]2CCCN[CH]C(=NNO)C=C11. O=C1C=CC(=C[C]2CCCN[C]2C(=O)O)C=C1.\n",
      "[CH]1[CH]C2C[C]2[CH]C=C[CH][C][C2C2.1. [CH]1[CH]C=C[C]2[CH]C=C[C]([CH]1)C2.\n",
      "Cc1nc(N)c([N+](=O)[O-])c(=N)[nHN1.. Cc1nc(N)c([N+](=O)[O-])c(=N)[nH]1.\n",
      "NC]=CC(O)C1=CC=CC=C(C(O)C1=C))C11. [C]=CC(O)C1=CC=CC=C(C(O)C=[C])C1.\n",
      "[CH]CCC(C(O)=NC(C)(C)C)CC=O)CCCC)C1. [CH]CCC(C(O)=NC(C)(C)C)C1(O)C=CCC1.\n",
      "[CH2]c1ccc([C]C(O)=C(C(NNC2)cccccc1. [CH2]c1ccc([N]C(O)=C(C#N)CO)c(C)c1.\n",
      "CC1=C2C(=Nc2[nH]c(C)c2C)CN2CC=NCN=1.. CC1=C2C(=Nc3[nH]c(C)c(C)c32)C=CC1=O.\n",
      "CN(C)c1ccc2c3c(ccc(C(C)O)c(O))CC3.. CN(C)c1ccc2c3c(ccc(N(C)C)c13)C=C2.\n",
      "NCC]=C(N)C1=C[CH1[CH][CH][C]][CH])[H]1. NCCN=C(O)CC=C[C]1[CH][CH][CH][N][CH]1.\n",
      "Cn1c(-c2cccc([N+](=O)[O-])c2)c(c1=O=N=O. Cn1c(-c2cccc([N+](=O)[O-])c2)c[nH]c1=N.\n",
      "O=C1[CH2[CH][N][CH][C][[C]]2CC=CCC2. O=C1[C]2[CH][N][C]1[C]1[CH]NC1=C2.\n",
      "Nc1cccc2cc-c1c(cccc1[N+](=O)[O-])c2)O1. Nc1cccc2c1-c1c(cccc1[N+](=O)[O-])C2=O.\n",
      "O=C1C=C([N+](=O)[O-])C=CC1=C(CC)n111. O=C1C=C([N+](=O)[O-])C=CC1=C1C=CNO1.\n",
      "O=C1c2ccccc2-c2[nH]c(=O+c(=O)[O-])c1.1 O=C1c2ccccc2-c2[nH]c(=O)c(=O)[nH]c21.\n",
      "Cc1cc(C)n(Cc2cccc([N+](=O)[O-])c2)c1.. Cc1cc(C)n(Cc2cccc([N+](=O)[O-])c2)n1.\n",
      "CC(C)N=C1[C]([N+](=O)[O-])NN1)(C))OCC.. CC(C)N=C1[C]([N+](=O)[O-])[N]N(C)N1O.\n",
      "[O-][n+]1c2c([n+]([O-])c3ccccc33)CCCC2. [O-][n+]1c2c([n+]([O-])c3ccccc31)COC2.\n",
      "C[N]c1[nH]c([N]C)c3cc(C)cc1N]n]C1[=O1.. C[N]c1[nH]c([N]C)c2cc3c(cc12)[N]C[N]3.\n",
      "COc1cc(C=C[N+](=O)[O-])ccc1OC(C)=O. COc1cc(C=C[N+](=O)[O-])ccc1OC(C)C.\n",
      "C=CC1CCC(=C)C2CC[CC(C(=O)O2[[H)C1=O. C=CC1CCC(=C)C2CC[C](C(=O)O)[CH]C12.\n",
      "[NH][C]NC2=CCCC(N)C(=O)[=C](=O)=C1.. [NH][N]NC1=CCCC(N2C(=O)C=CC2=O)=C1.\n",
      "Cc1ccc2c(c1)[nH]c1cc(=N)[n]]C(O)c212. Cc1ccc2c(c1)[nH]c1cc(=N)[nH]c(C)c12.\n",
      "O=[N+]([O-])C1([N+](=O)[O-])CCCCC1.. O=[N+]([O-])C1([N+](=O)[O-])CCCCC1.\n",
      "O=C1C=CC=C[C]1C1=N[C](C2CCCC=2)NO.. O=C1C=CC=N[C]1C1=N[C](C2CCOC2)NO1.\n",
      "Cc1ccc([N+](=O)[O-])c(C(=O)CO)C)c1). Cc1ccc([N+](=O)[O-])c(P(=O)(O)O)c1.\n",
      "O=C1N=C(O)CN1N=Cc1ccc([N+](=O)[O-])c11. O=C1N=C(O)CN1N=Cc1ccc([N+](=O)[O-])o1.\n",
      "[CH]1NCC2=C3CC3=C(=CC=CC4)CCCC=C(C)CC12. [CH]1NCC2=C3[C]4C(=CC=C13)C=NC=C4C=C2.\n",
      "[CH2]N1[C](c2ccccc2)OC(=O)cccccc12C1. [CH2]N1[C](c2ccccc2)OC(=O)c2ccccc21.\n",
      "C=C(C)C1CCC(C)C2CC(=O)C(C)(C2CC=.. C=C(C)C1CCC(C)C2CC(=O)C(C)=C2C1O.\n",
      "[CH]1[C]2C=C[C][[CH][C]]C=CCCCCC2C23. [CH]1[C]2C=C[C]3[CH][C](C=C[C]13)S2.\n",
      "O=C1[CH]c2ccccc2[C]]2[CH]NC=C3CCC21.. O=C1[CH]c2ccccc2[C]2N[C]3NN=C1[C]32.\n",
      "N#C[C]1[C](N1]=C1C=CCC=CC=#NCC(=))H]N]1. N#C[C]([C][NH])C1C=CC(=C(C#N)C#N)C=C1.\n",
      "[CH]CCC(=O)N1C=Cc2ccccc2C1(C)CC2O. [CH]CCC(=O)N1C=Cc2ccccc2C1(C)C#N.\n",
      "O=C1N=C(O)C2C=C][CH][C]]C=CC=CC3=22. O=C1N=C(O)C2C[C][CH][C]3C=CC=C1C32.\n",
      "O=[N+]([O-])C1=N[CH]N1CC(O)=NCC=C2)[N]1. O=[N+]([O-])C1=N[CH]N(CC(O)=NCCO)[N]1.\n",
      "O=C1C=CC(=O)c2cc3c(O)ccc(O)c2CC)O1. O=C1C=CC(=O)c2cc3c(O)ccc(O)c3cc21.\n",
      "[CH2]c1ccc([C](C)CC(=O)C(C)=CCCccc1.. [CH2]c1ccc([C](C)CC(=O)C(C)(C)C)cc1.\n",
      "CC1=CC(=C2C=C(C)=C(C)(C)=CCCCC)C12. CC1=CC(=C2C=C(C)OC(C)=C2)C=C(C)O1.\n",
      "[O-][n+]1c2c([n+]([O-])c3c1CCCC3)CCCCC2. [O-][n+]1c2c([n+]([O-])c3c1CCC3)CCCC2.\n",
      "[CH]1[CH][C]2[CH][CH]C[CC][CH][3H])CH]1. [CH]1[CH][C]2[CH][C]2C2=C([CH]NO2)C=C1.\n",
      "[O][N]c1c(O)c([N][OH]c(O)](C=O)COO.. [O][N]c1c(O)c([N][O])c(O)c(N=O)c1O.\n",
      "Cn1c(=N)[nH]c2c3c3ccc33)=CCC==)CC=].. Cn1c(=N)[nH]c2c3c(ccc21)=NC(=O)CC=3.\n",
      "7590\n",
      "% of correct char conv train:  98.60115630373522\n"
     ]
    }
   ],
   "source": [
    "def diff_letters(a,b):\n",
    "    return sum ( a[i] != b[i] for i in range(len(a)) )\n",
    "# Evaluation: test data\n",
    "# 98.01629884592023 categorical accuracy\n",
    "encoder_latent_test = encoder.predict(X_smiles_test, verbose=0)[2]\n",
    "decoder_smiles_test = decoder.predict(encoder_latent_test, verbose=0)[0]\n",
    "\n",
    "dec_SMILES_test = []\n",
    "for softmax_smiles in decoder_smiles_test:\n",
    "    argmax_smiles = np.argmax(softmax_smiles, axis = 1).reshape([-1])\n",
    "    #print (argmax_smiles)\n",
    "    smiles = to_categorical(argmax_smiles, num_classes=27)\n",
    "    SHAPE = [1] + list(smiles.shape) + [1]\n",
    "    smiles = smiles.reshape(SHAPE)\n",
    "    c_smiles = ''\n",
    "    for s in argmax_smiles:\n",
    "        c_smiles += tokenizer[s]\n",
    "        c_smiles = c_smiles.rstrip()\n",
    "    dec_SMILES_test.append(c_smiles)\n",
    "\n",
    "wrong_char = 0\n",
    "total_char = 0\n",
    "for i, j in zip(dec_SMILES_test, SMILES_test):\n",
    "    try:\n",
    "        wrong_char = wrong_char + diff_letters(i, j)\n",
    "    except:\n",
    "        print(i, j)\n",
    "    total_char = total_char + len(i) \n",
    "print (wrong_char)\n",
    "print ('% of correct char conv train: ', 100-wrong_char/total_char*100)"
   ]
  },
  {
   "cell_type": "code",
   "execution_count": null,
   "id": "f0d40fd0",
   "metadata": {},
   "outputs": [
    {
     "name": "stdout",
     "output_type": "stream",
     "text": [
      "C[C](O)[N][N][CH]c1ccc([N+](=O)[O-])cc1. C[C](O)[N][N][CH]c1ccc([N+](=O)[O-])s1.\n",
      "C[C](O)[N][N][CH]c1ccc([N+](=O)[O-])cc1. C[C](O)[N][N][CH]c1ccc([N+](=O)[O-])o1.\n",
      "% of correct char conv train:  99.98139237365801\n"
     ]
    }
   ],
   "source": [
    "# Evaluation: train data\n",
    "#  99.98139237365801 categorical accuracy\n",
    "encoder_latent_train = encoder.predict(X_smiles_train, verbose=0)[2]\n",
    "decoder_smiles_train = decoder.predict(encoder_latent_train, verbose=0)[0]\n",
    "\n",
    "dec_SMILES_train = []\n",
    "for softmax_smiles in decoder_smiles_train:\n",
    "    argmax_smiles = np.argmax(softmax_smiles, axis = 1).reshape([-1])\n",
    "    #print (argmax_smiles)\n",
    "    smiles = to_categorical(argmax_smiles, num_classes=27)\n",
    "    SHAPE = [1] + list(smiles.shape) + [1]\n",
    "    smiles = smiles.reshape(SHAPE)\n",
    "    c_smiles = ''\n",
    "    for s in argmax_smiles:\n",
    "        c_smiles += tokenizer[s]\n",
    "        c_smiles = c_smiles.rstrip()\n",
    "    dec_SMILES_train.append(c_smiles)\n",
    "\n",
    "wrong_char = 0\n",
    "total_char = 0\n",
    "for i, j in zip(dec_SMILES_train, SMILES_train):\n",
    "    try:\n",
    "        wrong_char = wrong_char + diff_letters(i, j)\n",
    "    except:\n",
    "        print(i, j)\n",
    "    total_char = total_char + len(i) \n",
    "print ('% of correct char conv train: ', 100-wrong_char/total_char*100)"
   ]
  }
 ],
 "metadata": {
  "kernelspec": {
   "display_name": "Python 3 (ipykernel)",
   "language": "python",
   "name": "python3"
  },
  "language_info": {
   "codemirror_mode": {
    "name": "ipython",
    "version": 3
   },
   "file_extension": ".py",
   "mimetype": "text/x-python",
   "name": "python",
   "nbconvert_exporter": "python",
   "pygments_lexer": "ipython3",
   "version": "3.9.13"
  }
 },
 "nbformat": 4,
 "nbformat_minor": 5
}
